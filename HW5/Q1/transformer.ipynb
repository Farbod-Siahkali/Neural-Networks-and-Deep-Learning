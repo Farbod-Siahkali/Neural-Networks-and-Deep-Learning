{
  "cells": [
    {
      "cell_type": "code",
      "execution_count": 18,
      "metadata": {
        "id": "gVQ9Q4lw4_XA"
      },
      "outputs": [],
      "source": [
        "import numpy as np\n",
        "import pandas as pd\n",
        "from tensorflow.keras.initializers import TruncatedNormal\n",
        "import tensorflow as tf\n",
        "from tensorflow import keras\n",
        "from tensorflow.keras import layers\n",
        "import tensorflow_datasets as tfds"
      ]
    },
    {
      "cell_type": "markdown",
      "metadata": {
        "id": "g7xU1WDCtLvd"
      },
      "source": [
        "### Encoder"
      ]
    },
    {
      "cell_type": "code",
      "execution_count": 19,
      "metadata": {
        "id": "prl-PotP4gNl"
      },
      "outputs": [],
      "source": [
        "class MultiHeadAttention(layers.Layer):\n",
        "    def __init__(self, hidden_size, num_heads):\n",
        "\n",
        "        super(MultiHeadAttention, self).__init__()\n",
        "        self.hidden_size = hidden_size\n",
        "        self.num_heads = num_heads\n",
        "        self.projection_dim = hidden_size // num_heads\n",
        "        self.Q = layers.Dense(hidden_size)\n",
        "        self.K = layers.Dense(hidden_size)\n",
        "        self.V = layers.Dense(hidden_size)\n",
        "        self.out = layers.Dense(hidden_size)\n",
        "\n",
        "    def attention(self, query, key, value, mask):\n",
        "        \n",
        "\n",
        "          #### complete this part ####\n",
        "\n",
        "        output = tf.matmul(weights, value)\n",
        "        return output, weights\n",
        "\n",
        "    def separate_heads(self, x, batch_size):\n",
        "        x = tf.reshape(x, (batch_size, -1, self.num_heads, self.projection_dim))\n",
        "        return tf.transpose(x, perm=[0, 2, 1, 3])\n",
        "\n",
        "    def call(self, inputs, att_mask):\n",
        "        batch_size = tf.shape(inputs)[0]\n",
        "        query = self.separate_heads(self.Q(inputs)  , batch_size)  \n",
        "        key = self.separate_heads(self.K(inputs), batch_size)  \n",
        "        value = self.separate_heads(self.V(inputs) , batch_size) \n",
        "        attention, self.att_weights = self.attention(query, key, value, att_mask)\n",
        "        attention = tf.transpose(attention, perm=[0, 2, 1, 3])\n",
        "        concat_attention = tf.reshape(attention, (batch_size, -1, self.hidden_size))\n",
        "        output = self.out(concat_attention)  \n",
        "        return output"
      ]
    },
    {
      "cell_type": "markdown",
      "metadata": {
        "id": "KCVLJBv951nW"
      },
      "source": [
        "#### Feed-Forward Sub-Layer"
      ]
    },
    {
      "cell_type": "markdown",
      "metadata": {
        "id": "FRnFXb0WwwSB"
      },
      "source": [
        "Unlike the original transformer, BERT uses \"GELU\" activation function. In this part you should implement the GELU activation function based on the paper provided to you."
      ]
    },
    {
      "cell_type": "code",
      "execution_count": 20,
      "metadata": {
        "id": "qzD7BjELQ--j"
      },
      "outputs": [],
      "source": [
        "@tf.function\n",
        "\n",
        "def GELU(x):\n",
        " #### complete this part ####\n",
        "  return #"
      ]
    },
    {
      "cell_type": "code",
      "execution_count": 21,
      "metadata": {
        "id": "Gqd6wedZXxzD"
      },
      "outputs": [],
      "source": [
        "class FFN(layers.Layer):\n",
        "\n",
        "  def __init__(self, intermediate_size, hidden_size, drop_rate):\n",
        "\n",
        "    super(FFN, self).__init__()\n",
        "    self.intermediate = layers.Dense(intermediate_size, activation=GELU)\n",
        "    self.out = layers.Dense(hidden_size)\n",
        "    self.drop = layers.Dropout(drop_rate)\n",
        "\n",
        "  def call(self, inputs, training):\n",
        "    #### complete this part ####\n",
        "    x = self.intermediate(x)\n",
        "    x = self.drop(x, training=training)\n",
        "    x = self.out(inputs)\n",
        "    return x"
      ]
    },
    {
      "cell_type": "markdown",
      "metadata": {
        "id": "aDlwb3Ea6Aqc"
      },
      "source": [
        "#### Add & Norm"
      ]
    },
    {
      "cell_type": "markdown",
      "metadata": {
        "id": "K4-UMLpDUkFa"
      },
      "source": [
        "In this part implement the add & norm blocks"
      ]
    },
    {
      "cell_type": "code",
      "execution_count": 22,
      "metadata": {
        "id": "_TtnesNMOHUF"
      },
      "outputs": [],
      "source": [
        "class AddNorm(layers.Layer):\n",
        "  def __init__(self, LNepsilon, drop_rate):\n",
        "    \n",
        "    super(AddNorm, self).__init__()\n",
        "    self.dropout = layers.Dropout(drop_rate)\n",
        "    self.LN = layers.LayerNormalization(epsilon=LNepsilon)\n",
        "\n",
        "  def call(self, sub_layer_in, sub_layer_out, training):\n",
        "    #### complete this part []####\n",
        "    x = self.dropout(x,  training=training)\n",
        "    x = self.LN(sub_layer_in)\n",
        "    return x"
      ]
    },
    {
      "cell_type": "markdown",
      "metadata": {
        "id": "AKqyg0J_WuTv"
      },
      "source": [
        "#### Residual connections\n",
        "\n",
        "Now put together all parts and build the encoder with the residual connections\n",
        "\n",
        "\n"
      ]
    },
    {
      "cell_type": "code",
      "execution_count": 23,
      "metadata": {
        "id": "16zvGFBo_uaQ"
      },
      "outputs": [],
      "source": [
        "class Encoder(layers.Layer):\n",
        "\n",
        "    def __init__(self, hidden_size, num_heads, intermediate_size, drop_rate=0.1, LNepsilon=1e-12):\n",
        "      super(Encoder, self).__init__()\n",
        "      #### complete this part ####\n",
        "      self.attention = MultiHeadAttention(hidden_size, num_heads)\n",
        "      self.ffn = FFN(intermediate_size, hidden_size, drop_rate)\n",
        "      self.addnorm1 = AddNorm(LNepsilon, drop_rate)\n",
        "      self.addnorm2 = AddNorm(LNepsilon, drop_rate)\n",
        "\n",
        "    def call(self, inputs):\n",
        "      #### complete this part ####\n",
        "      attn_output = self.attention(inputs)\n",
        "      out1 = self.addnorm1(inputs + attn_output)\n",
        "      ffn_output = self.ffn(out1)\n",
        "      out2 = self.addnorm2(out1 + ffn_output)\n",
        "      return out2"
      ]
    },
    {
      "cell_type": "markdown",
      "metadata": {
        "id": "umQ878ho-6Hp"
      },
      "source": [
        "### BERT"
      ]
    },
    {
      "cell_type": "code",
      "execution_count": 25,
      "metadata": {
        "id": "DTW-F4t9_x24"
      },
      "outputs": [],
      "source": [
        "class BertEmbedding(layers.Layer):\n",
        "\n",
        "    def __init__(self, vocab_size, maxlen, hidden_size):\n",
        "\n",
        "      super(BertEmbedding, self).__init__()\n",
        "      self.TokEmb = layers.Embedding(input_dim=vocab_size, output_dim=hidden_size, mask_zero=True)\n",
        "      self.PosEmb = tf.Variable(tf.random.truncated_normal(shape=(maxlen, hidden_size), stddev=0.02))\n",
        "      self.LN = layers.LayerNormalization(epsilon=1e-12)\n",
        "      self.dropout = layers.Dropout(0.1)\n",
        "\n",
        "    def call(self, inputs):\n",
        "\n",
        "      #### complete this part ####\n",
        "      return #\n",
        "    def compute_mask(self, x, mask=None):\n",
        "      m = 1-tf.cast(self.TokEmb.compute_mask(x), tf.float32)\n",
        "      m = m[:, tf.newaxis, tf.newaxis, :]\n",
        "      return m"
      ]
    },
    {
      "cell_type": "markdown",
      "metadata": {
        "id": "kPjWqcH-ytQP"
      },
      "source": [
        "The \"pooler\" is the last layer you need to put in place.\n",
        "For each input sentence, the pooler changes the hidden states of the last encoder layer (which have the shape [batch size, sequence lenght, hidden size]) into a vector representation (which has the shape [batch size, hidden size]).\n",
        "The pooler does this by giving a dense layer the hidden state that goes with the first token, which is a special token at the beginning of each sentence."
      ]
    },
    {
      "cell_type": "code",
      "execution_count": 28,
      "metadata": {
        "id": "O719umhMz_UH"
      },
      "outputs": [],
      "source": [
        "class Pooler(layers.Layer):\n",
        "\n",
        "    def __init__(self, hidden_size):\n",
        "\n",
        "      super(Pooler, self).__init__()\n",
        "      self.dense = layers.Dense(hidden_size, activation='tanh')\n",
        "\n",
        "    def call(self, encoder_out):\n",
        "\n",
        "      #### complete this part ####\n",
        "      return #"
      ]
    },
    {
      "cell_type": "markdown",
      "metadata": {
        "id": "-P8zt_tFojZY"
      },
      "source": [
        "Now you should complete the **create_BERT** function in the cell below. This function gets BERT's hyper-parameters as its inputs and return a BERT model. \n",
        "Note that the returned model must have two outputs (just like the pre-trained BERTs): \n",
        "- The hidden states of the last encoder layer\n",
        "- Output of the pooler"
      ]
    },
    {
      "cell_type": "code",
      "execution_count": 29,
      "metadata": {
        "id": "L9tD7UtNfZ4p"
      },
      "outputs": [],
      "source": [
        "def create_BERT(vocab_size, maxlen, hidden_size, num_layers, num_att_heads, intermediate_size, drop_rate=0.1):\n",
        "\n",
        "  \"\"\"\n",
        "  creates a BERT model based on the arguments provided\n",
        "\n",
        "        Arguments:\n",
        "        vocab_size: number of words in the vocabulary\n",
        "        maxlen: maximum length of each sentence\n",
        "        hidden_size: dimension of the hidden state of each encoder layer\n",
        "        num_layers: number of encoder layers\n",
        "        num_att_heads: number of attention heads in the multi-headed attention layer\n",
        "        intermediate_size: dimension of the intermediate layer in the feed-forward sublayer of the encoders\n",
        "        drop_rate: dropout rate of all the dropout layers used in the model\n",
        "        returns: \n",
        "  \"\"\"\n",
        "  \n",
        "    #### complete this part ####\n",
        "\n",
        "    #model = tf.keras.Model(?) \n",
        "\n",
        "  return model\n",
        "\n",
        "  \n",
        "\n"
      ]
    },
    {
      "cell_type": "markdown",
      "metadata": {
        "id": "PKBEBTI6sFKu"
      },
      "source": [
        "We will use the Rotten tomatoes critic reviews dataset for this assignment. The zip file is provided to you. Unzip it and run the cells below to split the dataset in training and test sets and prepare it for feeding to the bert model."
      ]
    },
    {
      "cell_type": "code",
      "execution_count": 30,
      "metadata": {
        "id": "IUn-48AVXbfR"
      },
      "outputs": [],
      "source": [
        "train_reviews, test_reviews = pd.read_csv('train_reviews.csv').values[:, 1:], pd.read_csv('test_reviews.csv').values[:, 1:]\n",
        "(train_texts, train_labels), (test_texts, test_labels)  = (train_reviews[:,0],train_reviews[:,1]), (test_reviews[:,0],test_reviews[:,1]) \n",
        "train_texts = [s.lower() for s in train_texts]\n",
        "test_texts = [s.lower() for s in test_texts] \n",
        "aprx_vocab_size = 20000\n",
        "cls_token = '[cls]'\n",
        "tokenizer = tfds.deprecated.text.SubwordTextEncoder.build_from_corpus(corpus_generator=train_texts,\n",
        "                                                        target_vocab_size=aprx_vocab_size,\n",
        "                                                        reserved_tokens=[cls_token])                                               "
      ]
    },
    {
      "cell_type": "markdown",
      "metadata": {
        "id": "UhTvBa9ntO7b"
      },
      "source": [
        "In the following cell, you need to complete the implementation of the encode_sentence function. This function takes as input a sentence and an integer representing the maximum length of the sentence and returns a list of token ids. To implement this function, follow these steps:\n",
        "\n",
        "-Use the trained tokenizer to encode the input sentence and obtain a list of token ids.\n",
        "\n",
        "-Pad the token id list with zeros to the maximum length specified.\n",
        "\n",
        "-Prepend the id of the special token to the beginning of the token id list."
      ]
    },
    {
      "cell_type": "code",
      "execution_count": 31,
      "metadata": {
        "id": "nzO4yiJSmIRs"
      },
      "outputs": [],
      "source": [
        "def encode_sentence(s, maxlen):\n",
        "\n",
        "  #### complete this part ####\n",
        "\n",
        "  return tok_id_list\n"
      ]
    },
    {
      "cell_type": "code",
      "execution_count": null,
      "metadata": {
        "id": "rL-PTRJPYnPb"
      },
      "outputs": [],
      "source": [
        "MAXLEN = 32\n",
        "x_train = np.array([encode_sentence(x, MAXLEN) for x in train_texts], dtype=np.int64)\n",
        "x_test = np.array([encode_sentence(x, MAXLEN) for x in test_texts], dtype=np.int64)\n",
        "y_train = train_labels.astype(np.int64)\n",
        "y_test = test_labels.astype(np.int64)"
      ]
    },
    {
      "cell_type": "markdown",
      "metadata": {
        "id": "JBirx1Fbvv-k"
      },
      "source": [
        "Now use the functional api and the **create_BERT** function you implemented earlier to create a classifier for the movie reviews dataset.\n",
        "Note that the intermediate layer in the feed-forward sub-layer of the encoders is set to $4\\times H$ in the original BERT implementation, where $H$ is the hidden layer size. "
      ]
    },
    {
      "cell_type": "code",
      "execution_count": null,
      "metadata": {
        "id": "SZOW4L9gBqvc"
      },
      "outputs": [],
      "source": [
        "hidden_size = 768\n",
        "num_heads = 12\n",
        "num_layers = 12\n",
        "vocab_size = tokenizer.vocab_size  \n",
        "\n",
        "#### complete this part ####\n",
        "#model = create_BERT(?)\n"
      ]
    },
    {
      "cell_type": "code",
      "execution_count": null,
      "metadata": {
        "id": "RwBQt1bFBwYh"
      },
      "outputs": [],
      "source": [
        "model.compile(tf.keras.optimizers.Adam(learning_rate=5e-5), \"binary_crossentropy\", metrics=[\"accuracy\"])\n",
        "model.summary()"
      ]
    },
    {
      "cell_type": "code",
      "execution_count": null,
      "metadata": {
        "id": "4IwB37mHByJ0"
      },
      "outputs": [],
      "source": [
        "history = model.fit(\n",
        "    x_train,\n",
        "    y_train,\n",
        "    batch_size=128,\n",
        "    epochs=2,\n",
        "    validation_data=(x_test, y_test)\n",
        ")"
      ]
    },
    {
      "cell_type": "markdown",
      "metadata": {
        "id": "xPfMQS1ZsHHk"
      },
      "source": [
        "### Attention Visualization"
      ]
    },
    {
      "cell_type": "code",
      "execution_count": null,
      "metadata": {
        "cellView": "form",
        "id": "jwGoqnHXadiF"
      },
      "outputs": [],
      "source": [
        "#@title Run this!\n",
        "import sys\n",
        "\n",
        "!test -d bertviz_repo && echo \"FYI: bertviz_repo directory already exists, to pull latest version uncomment this line: !rm -r bertviz_repo\"\n",
        "# !rm -r bertviz_repo # Uncomment if you need a clean pull from repo\n",
        "!test -d bertviz_repo || git clone https://github.com/jessevig/bertviz bertviz_repo\n",
        "if not 'bertviz_repo' in sys.path:\n",
        "  sys.path += ['bertviz_repo']\n",
        "\n",
        "from bertviz import head_view\n",
        "\n",
        "def call_html():\n",
        "  import IPython\n",
        "  display(IPython.core.display.HTML('''\n",
        "        <script src=\"/static/components/requirejs/require.js\"></script>\n",
        "        <script>\n",
        "          requirejs.config({\n",
        "            paths: {\n",
        "              base: '/static/base',\n",
        "              \"d3\": \"https://cdnjs.cloudflare.com/ajax/libs/d3/3.5.8/d3.min\",\n",
        "              jquery: '//ajax.googleapis.com/ajax/libs/jquery/2.0.0/jquery.min',\n",
        "            },\n",
        "          });\n",
        "        </script>\n",
        "        '''))\n"
      ]
    },
    {
      "cell_type": "markdown",
      "metadata": {
        "id": "9p5EleW-6EaN"
      },
      "source": [
        "In order to use bertviz, we need to obtain the attention weights in the encoders of the BERT model implemented in the previous section. To do this, you need to complete the implementation of the get_att_weights function in the following cell. This function takes as input a model (the trained BERT-based model from the previous section) and a list of tokens (an encoded sentence). Here's what you need to do:\n",
        "\n",
        "-Feed the input token list to the model to generate the attention weights for that input.\n",
        "\n",
        "-Access the att_weights attribute of the MultiHeadAttention sub-layer of each encoder in the model and add them all to a list.\n",
        "\n",
        "-Return the list (which should be a list of Tensors)."
      ]
    },
    {
      "cell_type": "code",
      "execution_count": 9,
      "metadata": {
        "id": "lUsR5r4Z-Pd7"
      },
      "outputs": [],
      "source": [
        "def get_att_weights(model, tok_id_list):\n",
        "  \n",
        "#### complete this part ####\n",
        "\n",
        "  return att_weights\n",
        "\n"
      ]
    },
    {
      "cell_type": "code",
      "execution_count": 16,
      "metadata": {
        "id": "jaV7YOtuBQeC"
      },
      "outputs": [],
      "source": [
        "import torch\n",
        "def get_att_tok(model, sent):\n",
        "\n",
        "  maxlen = model.layers[0].input_shape[0][-1]\n",
        "  encoded_toks = encode_sentence(sent, maxlen)\n",
        "  att_weights = get_att_weights(model, encoded_toks)\n",
        "  pad_start_idx = np.min(np.where(np.array(encoded_toks) == 0))\n",
        "  toks = encoded_toks[:pad_start_idx]\n",
        "  atts = []\n",
        "  for att in att_weights:\n",
        "    layer_att = torch.FloatTensor(att[:, :, :pad_start_idx, :pad_start_idx].numpy())\n",
        "    atts.append(layer_att)\n",
        "  toks = [tokenizer.decode([m]) for m in toks]\n",
        "  return toks, atts\n"
      ]
    },
    {
      "cell_type": "markdown",
      "metadata": {
        "id": "MOhd420dk8Ld"
      },
      "source": [
        "#### Attention visualization\n",
        "now give a sample sentence in the context of giving your opinion about a movie and visualize the attention. for example \"I liked that movie\""
      ]
    },
    {
      "cell_type": "code",
      "execution_count": null,
      "metadata": {
        "id": "65xPcS1VIWyc"
      },
      "outputs": [],
      "source": [
        "sentence = \"Your sentence\"\n",
        "toks, atts = get_att_tok(model, sentence.lower())\n",
        "call_html()\n",
        "head_view(atts, toks)"
      ]
    }
  ],
  "metadata": {
    "accelerator": "GPU",
    "colab": {
      "provenance": []
    },
    "kernelspec": {
      "display_name": "Python 3",
      "name": "python3"
    }
  },
  "nbformat": 4,
  "nbformat_minor": 0
}
