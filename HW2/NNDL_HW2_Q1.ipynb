{
  "nbformat": 4,
  "nbformat_minor": 0,
  "metadata": {
    "colab": {
      "provenance": [],
      "toc_visible": true
    },
    "kernelspec": {
      "name": "python3",
      "display_name": "Python 3"
    },
    "language_info": {
      "name": "python"
    },
    "accelerator": "GPU",
    "gpuClass": "standard"
  },
  "cells": [
    {
      "cell_type": "code",
      "source": [
        "!pip install torchmetrics"
      ],
      "metadata": {
        "colab": {
          "base_uri": "https://localhost:8080/"
        },
        "id": "NnSfW0kglCkX",
        "outputId": "e5b980fd-5591-47a4-eb02-9242d2106488"
      },
      "execution_count": null,
      "outputs": [
        {
          "output_type": "stream",
          "name": "stdout",
          "text": [
            "Looking in indexes: https://pypi.org/simple, https://us-python.pkg.dev/colab-wheels/public/simple/\n",
            "Collecting torchmetrics\n",
            "  Downloading torchmetrics-0.10.3-py3-none-any.whl (529 kB)\n",
            "\u001b[K     |████████████████████████████████| 529 kB 32.2 MB/s \n",
            "\u001b[?25hRequirement already satisfied: packaging in /usr/local/lib/python3.7/dist-packages (from torchmetrics) (21.3)\n",
            "Requirement already satisfied: typing-extensions in /usr/local/lib/python3.7/dist-packages (from torchmetrics) (4.1.1)\n",
            "Requirement already satisfied: numpy>=1.17.2 in /usr/local/lib/python3.7/dist-packages (from torchmetrics) (1.21.6)\n",
            "Requirement already satisfied: torch>=1.3.1 in /usr/local/lib/python3.7/dist-packages (from torchmetrics) (1.12.1+cu113)\n",
            "Requirement already satisfied: pyparsing!=3.0.5,>=2.0.2 in /usr/local/lib/python3.7/dist-packages (from packaging->torchmetrics) (3.0.9)\n",
            "Installing collected packages: torchmetrics\n",
            "Successfully installed torchmetrics-0.10.3\n"
          ]
        }
      ]
    },
    {
      "cell_type": "code",
      "execution_count": null,
      "metadata": {
        "id": "3DNA8yGCLFUF"
      },
      "outputs": [],
      "source": [
        "from keras.datasets import cifar10\n",
        "import torch\n",
        "import torch.nn as nn\n",
        "import torch.nn.functional as F\n",
        "import numpy as np\n",
        "import matplotlib.pyplot as plt\n",
        "from PIL import Image\n",
        "import random\n",
        "from torchvision import transforms\n",
        "from sklearn.metrics import f1_score\n",
        "from torchmetrics.classification import BinaryF1Score, BinaryAccuracy, BinaryPrecision\n",
        "from torch.optim.lr_scheduler import StepLR"
      ]
    },
    {
      "cell_type": "code",
      "source": [
        "(x_train,y_train), (x_test,y_test) = cifar10.load_data()"
      ],
      "metadata": {
        "id": "iY_AKcd1LjiG",
        "colab": {
          "base_uri": "https://localhost:8080/"
        },
        "outputId": "6e0533e2-c3d3-47f7-a892-056cf93d423e"
      },
      "execution_count": null,
      "outputs": [
        {
          "output_type": "stream",
          "name": "stdout",
          "text": [
            "Downloading data from https://www.cs.toronto.edu/~kriz/cifar-10-python.tar.gz\n",
            "170498071/170498071 [==============================] - 3s 0us/step\n"
          ]
        }
      ]
    },
    {
      "cell_type": "code",
      "source": [
        "targets=np.zeros((50000,10))\n",
        "for j in range(50000):\n",
        "  targets[j][y_train[j]]=1\n",
        "\n",
        "test_tar=np.zeros((10000,10))\n",
        "for j in range(10000):\n",
        "  test_tar[j][y_test[j]]=1\n",
        "test_tar=torch.tensor(test_tar)"
      ],
      "metadata": {
        "id": "ceKaEw3-37E7"
      },
      "execution_count": null,
      "outputs": []
    },
    {
      "cell_type": "code",
      "source": [
        "print(x_train.shape)\n",
        "print(x_test.shape)"
      ],
      "metadata": {
        "colab": {
          "base_uri": "https://localhost:8080/"
        },
        "id": "J0GdsDh1L4PD",
        "outputId": "8f1f3931-6f38-4dad-ea62-97ab28ccb2d2"
      },
      "execution_count": null,
      "outputs": [
        {
          "output_type": "stream",
          "name": "stdout",
          "text": [
            "(50000, 32, 32, 3)\n",
            "(10000, 32, 32, 3)\n"
          ]
        }
      ]
    },
    {
      "cell_type": "markdown",
      "source": [
        "16x16"
      ],
      "metadata": {
        "id": "8LlF0QQpULL4"
      }
    },
    {
      "cell_type": "code",
      "source": [
        "img16_train = list()\n",
        "basewidth = 16\n",
        "wpercent = (basewidth / float(32))\n",
        "hsize = int((float(32) * float(wpercent)))\n",
        "for i in range(x_train.shape[0]):\n",
        "  PIL_image = Image.fromarray(x_train[i].astype('uint8'), 'RGB')\n",
        "  PIL_image_resized = PIL_image.resize((basewidth, hsize), Image.ANTIALIAS)\n",
        "  PIL_image_reshaped = PIL_image_resized.resize((32, 32), Image.ANTIALIAS)\n",
        "  img16_train.append(np.asarray(PIL_image_reshaped))"
      ],
      "metadata": {
        "id": "2KzCQsORZw7-"
      },
      "execution_count": null,
      "outputs": []
    },
    {
      "cell_type": "code",
      "source": [
        "img16_test = list()\n",
        "basewidth = 16\n",
        "wpercent = (basewidth / float(32))\n",
        "hsize = int((float(32) * float(wpercent)))\n",
        "for i in range(x_test.shape[0]):\n",
        "  PIL_image = Image.fromarray(x_test[i].astype('uint8'), 'RGB')\n",
        "  PIL_image_resized = PIL_image.resize((basewidth, hsize), Image.ANTIALIAS)\n",
        "  PIL_image_reshaped = PIL_image_resized.resize((32, 32), Image.ANTIALIAS)\n",
        "  img16_test.append(np.asarray(PIL_image_reshaped))"
      ],
      "metadata": {
        "id": "CCjPCqLvTmAo"
      },
      "execution_count": null,
      "outputs": []
    },
    {
      "cell_type": "markdown",
      "source": [
        "8x8"
      ],
      "metadata": {
        "id": "bTS_BEcCUH8Q"
      }
    },
    {
      "cell_type": "code",
      "source": [
        "img8_train = list()\n",
        "basewidth = 8\n",
        "wpercent = (basewidth / float(32))\n",
        "hsize = int((float(32) * float(wpercent)))\n",
        "for i in range(x_train.shape[0]):\n",
        "  PIL_image = Image.fromarray(x_train[i].astype('uint8'), 'RGB')\n",
        "  PIL_image_resized = PIL_image.resize((basewidth, hsize), Image.ANTIALIAS)\n",
        "  PIL_image_reshaped = PIL_image_resized.resize((32, 32), Image.ANTIALIAS)\n",
        "  img8_train.append(np.asarray(PIL_image_reshaped))"
      ],
      "metadata": {
        "id": "d-XMbrvmahVS"
      },
      "execution_count": null,
      "outputs": []
    },
    {
      "cell_type": "code",
      "source": [
        "img8_test = list()\n",
        "basewidth = 8\n",
        "wpercent = (basewidth / float(32))\n",
        "hsize = int((float(32) * float(wpercent)))\n",
        "for i in range(x_test.shape[0]):\n",
        "  PIL_image = Image.fromarray(x_train[i].astype('uint8'), 'RGB')\n",
        "  PIL_image_resized = PIL_image.resize((basewidth, hsize), Image.ANTIALIAS)\n",
        "  PIL_image_reshaped = PIL_image_resized.resize((32, 32), Image.ANTIALIAS)\n",
        "  img8_test.append(np.asarray(PIL_image_reshaped))"
      ],
      "metadata": {
        "id": "xVYJDfW9T30x"
      },
      "execution_count": null,
      "outputs": []
    },
    {
      "cell_type": "code",
      "source": [
        "for i in range(10):\n",
        "  n = random.randint(0,x_train.shape[0])\n",
        "  plt.figure()\n",
        "  plt.subplot(1,3,1)\n",
        "  plt.imshow(x_train[n])\n",
        "  plt.subplot(1,3,2)\n",
        "  plt.imshow(img16_train[n])\n",
        "  plt.subplot(1,3,3)\n",
        "  plt.imshow(img8_train[n])"
      ],
      "metadata": {
        "colab": {
          "base_uri": "https://localhost:8080/",
          "height": 1000
        },
        "id": "-58LGN-2MJQG",
        "outputId": "d0bbe421-b17d-4511-9482-08464d358189"
      },
      "execution_count": null,
      "outputs": [
        {
          "output_type": "display_data",
          "data": {
            "text/plain": [
              "<Figure size 432x288 with 3 Axes>"
            ],
            "image/png": "[encoded data removed]"
          },
          "metadata": {
            "needs_background": "light"
          }
        },
        {
          "output_type": "display_data",
          "data": {
            "text/plain": [
              "<Figure size 432x288 with 3 Axes>"
            ],
            "image/png": "[encoded data removed]"
          },
          "metadata": {
            "needs_background": "light"
          }
        },
        {
          "output_type": "display_data",
          "data": {
            "text/plain": [
              "<Figure size 432x288 with 3 Axes>"
            ],
            "image/png": "[encoded data removed]"
          },
          "metadata": {
            "needs_background": "light"
          }
        },
        {
          "output_type": "display_data",
          "data": {
            "text/plain": [
              "<Figure size 432x288 with 3 Axes>"
            ],
            "image/png": "[encoded data removed]"
          },
          "metadata": {
            "needs_background": "light"
          }
        },
        {
          "output_type": "display_data",
          "data": {
            "text/plain": [
              "<Figure size 432x288 with 3 Axes>"
            ],
            "image/png": "[encoded data removed]"
          },
          "metadata": {
            "needs_background": "light"
          }
        },
        {
          "output_type": "display_data",
          "data": {
            "text/plain": [
              "<Figure size 432x288 with 3 Axes>"
            ],
            "image/png": "[encoded data removed]"
          },
          "metadata": {
            "needs_background": "light"
          }
        },
        {
          "output_type": "display_data",
          "data": {
            "text/plain": [
              "<Figure size 432x288 with 3 Axes>"
            ],
            "image/png": "[encoded data removed]"
          },
          "metadata": {
            "needs_background": "light"
          }
        },
        {
          "output_type": "display_data",
          "data": {
            "text/plain": [
              "<Figure size 432x288 with 3 Axes>"
            ],
            "image/png": "[encoded data removed]"
          },
          "metadata": {
            "needs_background": "light"
          }
        },
        {
          "output_type": "display_data",
          "data": {
            "text/plain": [
              "<Figure size 432x288 with 3 Axes>"
            ],
            "image/png": "[encoded data removed]"
          },
          "metadata": {
            "needs_background": "light"
          }
        },
        {
          "output_type": "display_data",
          "data": {
            "text/plain": [
              "<Figure size 432x288 with 3 Axes>"
            ],
            "image/png": "[encoded data removed]"
          },
          "metadata": {
            "needs_background": "light"
          }
        }
      ]
    },
    {
      "cell_type": "code",
      "source": [
        "class CNN(nn.Module):\n",
        "  def __init__(self,k):\n",
        "    super(CNN,self).__init__()\n",
        "    self.conv1 = nn.Conv2d(3,32,kernel_size=3)\n",
        "    self.conv2 = nn.Conv2d(32,32,kernel_size=3)\n",
        "    self.conv3 = nn.Conv2d(32,32,kernel_size=3)\n",
        "    self.mxpool1 = nn.MaxPool2d((2,2))\n",
        "    self.drp1 = nn.Dropout(p=0.25)\n",
        "    self.conv4 = nn.Conv2d(32,64,kernel_size=3)\n",
        "    self.conv5 = nn.Conv2d(64,64,kernel_size=3)\n",
        "    self.conv6 = nn.Conv2d(64,64,kernel_size=3)\n",
        "    self.mxpool2 = nn.MaxPool2d((2,2))\n",
        "    self.drp2 = nn.Dropout(p=0.25)\n",
        "    self.flat = nn.Linear(64*3*3,512)\n",
        "    self.drp3 = nn.Dropout(p=0.5)\n",
        "    self.dec = nn.Linear(512,k)\n",
        "\n",
        "  def forward(self,x):\n",
        "    x=F.relu(self.conv1(x))\n",
        "    x=F.relu(self.conv2(x))\n",
        "    x=F.relu(self.conv3(x))\n",
        "    x = self.drp1(self.mxpool1(x))\n",
        "    x=F.relu(self.conv4(x))\n",
        "    x=F.relu(self.conv5(x))\n",
        "    x=F.relu(self.conv6(x))\n",
        "    x = self.drp2(self.mxpool2(x))\n",
        "    x=x.view(-1,64*3*3)\n",
        "    x=F.relu(self.flat(x))\n",
        "    x = self.drp3(x)\n",
        "    x=self.dec(x)\n",
        "    return x"
      ],
      "metadata": {
        "id": "OEgbdg0XW4Hk"
      },
      "execution_count": null,
      "outputs": []
    },
    {
      "cell_type": "code",
      "source": [
        "model=CNN(10)\n",
        "device=torch.device('cuda:0' if torch.cuda.is_available() else 'cpu')\n",
        "print(device)\n",
        "model.to(device)\n",
        "\n",
        "x_train=torch.tensor(np.transpose(x_train,(0,3,1,2)),dtype=torch.float32)\n",
        "x_test =torch.tensor(np.transpose(x_test,(0,3,1,2)),dtype=torch.float32)\n",
        "\n",
        "x_train16=torch.tensor(np.transpose(img16_train,(0,3,1,2)),dtype=torch.float32)\n",
        "x_test16 =torch.tensor(np.transpose(img16_test,(0,3,1,2)),dtype=torch.float32)\n",
        "\n",
        "x_train8=torch.tensor(np.transpose(img8_train,(0,3,1,2)),dtype=torch.float32)\n",
        "x_test8 =torch.tensor(np.transpose(img8_test,(0,3,1,2)),dtype=torch.float32)\n"
      ],
      "metadata": {
        "id": "-wJ_-3H_eeqJ",
        "colab": {
          "base_uri": "https://localhost:8080/"
        },
        "outputId": "112a9041-e114-4916-b165-0bd8e16a27fb"
      },
      "execution_count": null,
      "outputs": [
        {
          "output_type": "stream",
          "name": "stdout",
          "text": [
            "cuda:0\n"
          ]
        }
      ]
    },
    {
      "cell_type": "code",
      "source": [
        "print(x_train.shape)\n",
        "print(x_train8.shape)\n",
        "print(x_train16.shape)"
      ],
      "metadata": {
        "colab": {
          "base_uri": "https://localhost:8080/"
        },
        "id": "QA7_fuljVGN6",
        "outputId": "88ae91d7-d2f4-4c5b-c1a1-08b0477b8a43"
      },
      "execution_count": null,
      "outputs": [
        {
          "output_type": "stream",
          "name": "stdout",
          "text": [
            "torch.Size([50000, 3, 32, 32])\n",
            "torch.Size([50000, 3, 32, 32])\n",
            "torch.Size([50000, 3, 32, 32])\n"
          ]
        }
      ]
    },
    {
      "cell_type": "code",
      "source": [
        "#transform = transforms.Compose([transforms.Normalize((0.5, 0.5, 0.5), (0.5, 0.5, 0.5))])\n",
        "batch_size = 1000\n",
        "\n",
        "class DatasetDelivery():\n",
        "    def __init__(self, x, y):\n",
        "        self.x = x\n",
        "        self.y = y\n",
        "        #self.transform = transform\n",
        "\n",
        "    def __len__(self):\n",
        "        return (self.x.shape[0])\n",
        "\n",
        "    def __getitem__(self, idx):\n",
        "        return self.x[idx], self.y[idx]\n",
        "\n",
        "trainset = DatasetDelivery(x_train, targets)\n",
        "testset = DatasetDelivery(x_test, test_tar)\n",
        "\n",
        "trainloader = torch.utils.data.DataLoader(trainset, batch_size=batch_size, shuffle=True)\n",
        "testloader = torch.utils.data.DataLoader(testset, batch_size=batch_size, shuffle=False)\n",
        "\n",
        "trainset16 = DatasetDelivery(x_train16, targets)\n",
        "testset16 = DatasetDelivery(x_test16, test_tar)\n",
        "\n",
        "trainloader16 = torch.utils.data.DataLoader(trainset16, batch_size=batch_size, shuffle=True)\n",
        "testloader16 = torch.utils.data.DataLoader(testset16, batch_size=batch_size, shuffle=False)\n",
        "\n",
        "trainset8 = DatasetDelivery(x_train8, targets)\n",
        "testset8 = DatasetDelivery(x_test8, test_tar)\n",
        "\n",
        "trainloader8 = torch.utils.data.DataLoader(trainset8, batch_size=batch_size, shuffle=True)\n",
        "testloader8 = torch.utils.data.DataLoader(testset8, batch_size=batch_size, shuffle=False)\n",
        "\n",
        "classes = ('plane', 'car', 'bird', 'cat',\n",
        "           'deer', 'dog', 'frog', 'horse', 'ship', 'truck')"
      ],
      "metadata": {
        "id": "mJMgSmqEfAZC"
      },
      "execution_count": null,
      "outputs": []
    },
    {
      "cell_type": "code",
      "source": [
        "optim=torch.optim.Adam(model.parameters())\n",
        "scheduler = StepLR(optim, step_size=20, gamma=0.8)\n",
        "cri=nn.CrossEntropyLoss()\n",
        "cri.to(device)\n",
        "x_train=x_train.to(device)\n",
        "x_test=x_test.to(device)\n",
        "cur_loss=10\n",
        "m_los=10\n",
        "\n",
        "metric = BinaryF1Score()\n",
        "metric1 = BinaryAccuracy()\n",
        "metric2 = BinaryPrecision()\n",
        "\n",
        "softmax = nn.Softmax(dim=1)"
      ],
      "metadata": {
        "id": "D0TRE8V-m5cR"
      },
      "execution_count": null,
      "outputs": []
    },
    {
      "cell_type": "code",
      "source": [
        "n = 100\n",
        "print(x_train.shape)\n",
        "\n",
        "loss_train = []\n",
        "loss_test = [2.5]"
      ],
      "metadata": {
        "colab": {
          "base_uri": "https://localhost:8080/"
        },
        "id": "x9xmDCa3rw7y",
        "outputId": "6bc83abd-5cd9-4d76-df38-5bc62b0d5be0"
      },
      "execution_count": null,
      "outputs": [
        {
          "output_type": "stream",
          "name": "stdout",
          "text": [
            "torch.Size([50000, 3, 32, 32])\n"
          ]
        }
      ]
    },
    {
      "cell_type": "code",
      "source": [
        "for epoch in range(n):\n",
        "  model.train()\n",
        "  los_test = []\n",
        "  los_train = []\n",
        "  f1_list = []\n",
        "  acc_list = []\n",
        "  pre_list = []\n",
        "  for x_tr, tar in trainloader:\n",
        "    x_tr = x_tr.to(device)\n",
        "    tar = tar.to(device)\n",
        "    optim.zero_grad()\n",
        "    out=model(x_tr)\n",
        "    loss = cri(out,torch.tensor(tar).to(device))\n",
        "    loss.backward()\n",
        "    los_train.append(loss.item())\n",
        "    optim.step()\n",
        "\n",
        "  loss_train.append(sum(los_train)/len(los_train))\n",
        "  print(f'epoch {epoch} train loss : {sum(los_train)/len(los_train)}')\n",
        "\n",
        "  with torch.no_grad():\n",
        "    model.eval()\n",
        "    for x_tes, testtar in testloader:\n",
        "      x_tes = x_tes.to(device)\n",
        "      testtar = testtar.to(device)\n",
        "      outt = model(x_tes)\n",
        "      outt = softmax(outt)\n",
        "      f1_list.append(metric(outt.cpu(), testtar.cpu()))\n",
        "      acc_list.append(metric1(outt.cpu(), testtar.cpu()))\n",
        "      pre_list.append(metric2(outt.cpu(), testtar.cpu()))\n",
        "      losss = cri(outt, testtar)\n",
        "      los_test.append(losss.item())\n",
        "\n",
        "    loss_test.append(sum(los_test)/len(los_test))\n",
        "    print(f'epoch {epoch} test loss : {sum(los_test)/len(los_test)}')\n",
        "\n",
        "    if(loss_test[-1]<=min(loss_test)):\n",
        "      print(f'epoch {epoch} '+'Model Saved')\n",
        "      torch.save(model,'best.pth')\n",
        "\n",
        "    print(f'epoch {epoch} F1 : {sum(f1_list)/len(f1_list)}')\n",
        "    print(f'epoch {epoch} Acc : {sum(acc_list)/len(acc_list)}')\n",
        "    print(f'epoch {epoch} Pre : {sum(pre_list)/len(pre_list)}')\n",
        "    print('*  *  *')"
      ],
      "metadata": {
        "colab": {
          "base_uri": "https://localhost:8080/"
        },
        "id": "L-T0hD8ggsiI",
        "outputId": "cb71dd92-c176-4f32-cd77-1c10ad211c4f"
      },
      "execution_count": null,
      "outputs": [
        {
          "output_type": "stream",
          "name": "stderr",
          "text": [
            "/usr/local/lib/python3.7/dist-packages/ipykernel_launcher.py:13: UserWarning: To copy construct from a tensor, it is recommended to use sourceTensor.clone().detach() or sourceTensor.clone().detach().requires_grad_(True), rather than torch.tensor(sourceTensor).\n",
            "  del sys.path[0]\n"
          ]
        },
        {
          "output_type": "stream",
          "name": "stdout",
          "text": [
            "epoch 0 train loss : 2.045295713604167\n",
            "epoch 0 test loss : 2.2037079896926874\n",
            "epoch 0 Model Saved\n",
            "epoch 0 F1 : 0.0775444507598877\n",
            "epoch 0 Acc : 0.9014700651168823\n",
            "epoch 0 Pre : 0.6020786166191101\n",
            "*  *  *\n",
            "epoch 1 train loss : 1.6774830267389769\n",
            "epoch 1 test loss : 2.10174050680399\n",
            "epoch 1 Model Saved\n",
            "epoch 1 F1 : 0.3143661916255951\n",
            "epoch 1 Acc : 0.9114099740982056\n",
            "epoch 1 Pre : 0.6944593191146851\n",
            "*  *  *\n",
            "epoch 2 train loss : 1.4529171962313023\n",
            "epoch 2 test loss : 2.053705065906048\n",
            "epoch 2 Model Saved\n",
            "epoch 2 F1 : 0.40439242124557495\n",
            "epoch 2 Acc : 0.9185299873352051\n",
            "epoch 2 Pre : 0.7507966756820679\n",
            "*  *  *\n",
            "epoch 3 train loss : 1.33029769324797\n",
            "epoch 3 test loss : 2.000645268833637\n",
            "epoch 3 Model Saved\n",
            "epoch 3 F1 : 0.49073371291160583\n",
            "epoch 3 Acc : 0.9240700602531433\n",
            "epoch 3 Pre : 0.744788646697998\n",
            "*  *  *\n",
            "epoch 4 train loss : 1.2364164141371914\n",
            "epoch 4 test loss : 1.9737936068177224\n",
            "epoch 4 Model Saved\n",
            "epoch 4 F1 : 0.5260887145996094\n",
            "epoch 4 Acc : 0.9273499250411987\n",
            "epoch 4 Pre : 0.7561410665512085\n",
            "*  *  *\n",
            "epoch 5 train loss : 1.1684491959651049\n",
            "epoch 5 test loss : 1.9436414350748064\n",
            "epoch 5 Model Saved\n",
            "epoch 5 F1 : 0.566697359085083\n",
            "epoch 5 Acc : 0.9310399889945984\n",
            "epoch 5 Pre : 0.7619410753250122\n",
            "*  *  *\n",
            "epoch 6 train loss : 1.1111942072202907\n",
            "epoch 6 test loss : 1.9336950185418131\n",
            "epoch 6 Model Saved\n",
            "epoch 6 F1 : 0.5727707147598267\n",
            "epoch 6 Acc : 0.9307799339294434\n",
            "epoch 6 Pre : 0.7478594779968262\n",
            "*  *  *\n",
            "epoch 7 train loss : 1.0679421733541286\n",
            "epoch 7 test loss : 1.902475315129757\n",
            "epoch 7 Model Saved\n",
            "epoch 7 F1 : 0.6119968295097351\n",
            "epoch 7 Acc : 0.9358700513839722\n",
            "epoch 7 Pre : 0.7746568918228149\n",
            "*  *  *\n",
            "epoch 8 train loss : 1.0048682089547953\n",
            "epoch 8 test loss : 1.8979593163490296\n",
            "epoch 8 Model Saved\n",
            "epoch 8 F1 : 0.6198968291282654\n",
            "epoch 8 Acc : 0.9371598958969116\n",
            "epoch 8 Pre : 0.7843189835548401\n",
            "*  *  *\n",
            "epoch 9 train loss : 0.9826709095118573\n",
            "epoch 9 test loss : 1.9017023013591767\n",
            "epoch 9 F1 : 0.6105983257293701\n",
            "epoch 9 Acc : 0.9363799095153809\n",
            "epoch 9 Pre : 0.7866191267967224\n",
            "*  *  *\n",
            "epoch 10 train loss : 0.9458237625646555\n",
            "epoch 10 test loss : 1.8779429299831392\n",
            "epoch 10 Model Saved\n",
            "epoch 10 F1 : 0.6439897418022156\n",
            "epoch 10 Acc : 0.9403800964355469\n",
            "epoch 10 Pre : 0.7990447282791138\n",
            "*  *  *\n",
            "epoch 11 train loss : 0.9165886433240494\n",
            "epoch 11 test loss : 1.851861857557297\n",
            "epoch 11 Model Saved\n",
            "epoch 11 F1 : 0.670230507850647\n",
            "epoch 11 Acc : 0.9432200193405151\n",
            "epoch 11 Pre : 0.7989974617958069\n",
            "*  *  *\n",
            "epoch 12 train loss : 0.8928469228727143\n",
            "epoch 12 test loss : 1.855009564101696\n",
            "epoch 12 F1 : 0.6697238087654114\n",
            "epoch 12 Acc : 0.9432700276374817\n",
            "epoch 12 Pre : 0.8012031316757202\n",
            "*  *  *\n",
            "epoch 13 train loss : 0.8513112949606024\n",
            "epoch 13 test loss : 1.8376252235770223\n",
            "epoch 13 Model Saved\n",
            "epoch 13 F1 : 0.6855495572090149\n",
            "epoch 13 Acc : 0.9449200630187988\n",
            "epoch 13 Pre : 0.7985581159591675\n",
            "*  *  *\n",
            "epoch 14 train loss : 0.8321494602089703\n",
            "epoch 14 test loss : 1.8377702862501146\n",
            "epoch 14 F1 : 0.6884208917617798\n",
            "epoch 14 Acc : 0.9460700154304504\n",
            "epoch 14 Pre : 0.8148677945137024\n",
            "*  *  *\n",
            "epoch 15 train loss : 0.8056734018754816\n",
            "epoch 15 test loss : 1.8211394688487055\n",
            "epoch 15 Model Saved\n",
            "epoch 15 F1 : 0.7021080851554871\n",
            "epoch 15 Acc : 0.9476300477981567\n",
            "epoch 15 Pre : 0.8137975931167603\n",
            "*  *  *\n",
            "epoch 16 train loss : 0.7942685138527348\n",
            "epoch 16 test loss : 1.8284927400350575\n",
            "epoch 16 F1 : 0.7018471956253052\n",
            "epoch 16 Acc : 0.9483600854873657\n",
            "epoch 16 Pre : 0.8302675485610962\n",
            "*  *  *\n",
            "epoch 17 train loss : 0.7816558848324129\n",
            "epoch 17 test loss : 1.8221270332217212\n",
            "epoch 17 F1 : 0.6994422078132629\n",
            "epoch 17 Acc : 0.947409987449646\n",
            "epoch 17 Pre : 0.8159829378128052\n",
            "*  *  *\n",
            "epoch 18 train loss : 0.7692082982170122\n",
            "epoch 18 test loss : 1.8087731601238253\n",
            "epoch 18 Model Saved\n",
            "epoch 18 F1 : 0.7105623483657837\n",
            "epoch 18 Acc : 0.9484701156616211\n",
            "epoch 18 Pre : 0.8103606104850769\n",
            "*  *  *\n",
            "epoch 19 train loss : 0.747616220001766\n",
            "epoch 19 test loss : 1.8171584596276282\n",
            "epoch 19 F1 : 0.6984748840332031\n",
            "epoch 19 Acc : 0.9462699890136719\n",
            "epoch 19 Pre : 0.7957855463027954\n",
            "*  *  *\n",
            "epoch 20 train loss : 0.7213241552036438\n",
            "epoch 20 test loss : 1.8009083584427834\n",
            "epoch 20 Model Saved\n",
            "epoch 20 F1 : 0.7169160842895508\n",
            "epoch 20 Acc : 0.9492699503898621\n",
            "epoch 20 Pre : 0.8109911680221558\n",
            "*  *  *\n",
            "epoch 21 train loss : 0.7048670064633924\n",
            "epoch 21 test loss : 1.796606073987484\n",
            "epoch 21 Model Saved\n",
            "epoch 21 F1 : 0.7282004356384277\n",
            "epoch 21 Acc : 0.9516099691390991\n",
            "epoch 21 Pre : 0.8305217623710632\n",
            "*  *  *\n",
            "epoch 22 train loss : 0.6950223305334116\n",
            "epoch 22 test loss : 1.7903179129481317\n",
            "epoch 22 Model Saved\n",
            "epoch 22 F1 : 0.7314738035202026\n",
            "epoch 22 Acc : 0.9519200325012207\n",
            "epoch 22 Pre : 0.8281983137130737\n",
            "*  *  *\n",
            "epoch 23 train loss : 0.6840743641896095\n",
            "epoch 23 test loss : 1.7935681643486023\n",
            "epoch 23 F1 : 0.7212826609611511\n",
            "epoch 23 Acc : 0.949679970741272\n",
            "epoch 23 Pre : 0.8082373738288879\n",
            "*  *  *\n",
            "epoch 24 train loss : 0.6846621172893219\n",
            "epoch 24 test loss : 1.7915103016972544\n",
            "epoch 24 F1 : 0.7346125841140747\n",
            "epoch 24 Acc : 0.9524200558662415\n",
            "epoch 24 Pre : 0.8302146792411804\n",
            "*  *  *\n",
            "epoch 25 train loss : 0.6653911062277365\n",
            "epoch 25 test loss : 1.7845895750403404\n",
            "epoch 25 Model Saved\n",
            "epoch 25 F1 : 0.7379305958747864\n",
            "epoch 25 Acc : 0.952769935131073\n",
            "epoch 25 Pre : 0.8287873268127441\n",
            "*  *  *\n",
            "epoch 26 train loss : 0.6547845012854359\n",
            "epoch 26 test loss : 1.7890492330789567\n",
            "epoch 26 F1 : 0.7378050088882446\n",
            "epoch 26 Acc : 0.9531700015068054\n",
            "epoch 26 Pre : 0.8379678726196289\n",
            "*  *  *\n",
            "epoch 27 train loss : 0.6473634912567812\n",
            "epoch 27 test loss : 1.7733914625763894\n",
            "epoch 27 Model Saved\n",
            "epoch 27 F1 : 0.7442423701286316\n",
            "epoch 27 Acc : 0.9535600543022156\n",
            "epoch 27 Pre : 0.8282154202461243\n",
            "*  *  *\n",
            "epoch 28 train loss : 0.6299438726981678\n",
            "epoch 28 test loss : 1.7777550492882728\n",
            "epoch 28 F1 : 0.7389692664146423\n",
            "epoch 28 Acc : 0.9527199864387512\n",
            "epoch 28 Pre : 0.8249198794364929\n",
            "*  *  *\n",
            "epoch 29 train loss : 0.6212450780515871\n",
            "epoch 29 test loss : 1.7669500763773922\n",
            "epoch 29 Model Saved\n",
            "epoch 29 F1 : 0.7465434074401855\n",
            "epoch 29 Acc : 0.95374995470047\n",
            "epoch 29 Pre : 0.8257919549942017\n",
            "*  *  *\n",
            "epoch 30 train loss : 0.6118498649065951\n",
            "epoch 30 test loss : 1.7669666172385217\n",
            "epoch 30 F1 : 0.7483178377151489\n",
            "epoch 30 Acc : 0.9541099667549133\n",
            "epoch 30 Pre : 0.828569233417511\n",
            "*  *  *\n",
            "epoch 31 train loss : 0.6015507101947708\n",
            "epoch 31 test loss : 1.760924302148819\n",
            "epoch 31 Model Saved\n",
            "epoch 31 F1 : 0.7526550889015198\n",
            "epoch 31 Acc : 0.9547100067138672\n",
            "epoch 31 Pre : 0.8290700912475586\n",
            "*  *  *\n",
            "epoch 32 train loss : 0.590418988065014\n",
            "epoch 32 test loss : 1.7637663187623023\n",
            "epoch 32 F1 : 0.7515837550163269\n",
            "epoch 32 Acc : 0.9546300172805786\n",
            "epoch 32 Pre : 0.8304917216300964\n",
            "*  *  *\n",
            "epoch 33 train loss : 0.5767583951877681\n",
            "epoch 33 test loss : 1.7546992199182516\n",
            "epoch 33 Model Saved\n",
            "epoch 33 F1 : 0.7563849687576294\n",
            "epoch 33 Acc : 0.9550199508666992\n",
            "epoch 33 Pre : 0.8250566720962524\n",
            "*  *  *\n",
            "epoch 34 train loss : 0.5795970057462118\n",
            "epoch 34 test loss : 1.761543993854523\n",
            "epoch 34 F1 : 0.7528706789016724\n",
            "epoch 34 Acc : 0.9549700021743774\n",
            "epoch 34 Pre : 0.8342917561531067\n",
            "*  *  *\n",
            "epoch 35 train loss : 0.5695677877260747\n",
            "epoch 35 test loss : 1.7505560029745102\n",
            "epoch 35 Model Saved\n",
            "epoch 35 F1 : 0.7582519054412842\n",
            "epoch 35 Acc : 0.9553400278091431\n",
            "epoch 35 Pre : 0.826473593711853\n",
            "*  *  *\n",
            "epoch 36 train loss : 0.5660081849048935\n",
            "epoch 36 test loss : 1.7536207134723665\n",
            "epoch 36 F1 : 0.759484589099884\n",
            "epoch 36 Acc : 0.9557000398635864\n",
            "epoch 36 Pre : 0.8309242129325867\n",
            "*  *  *\n",
            "epoch 37 train loss : 0.5512721802176305\n",
            "epoch 37 test loss : 1.7491135835528375\n",
            "epoch 37 Model Saved\n",
            "epoch 37 F1 : 0.7618603110313416\n",
            "epoch 37 Acc : 0.9556699991226196\n",
            "epoch 37 Pre : 0.8230560421943665\n",
            "*  *  *\n",
            "epoch 38 train loss : 0.5411386249617314\n",
            "epoch 38 test loss : 1.7475189453601838\n",
            "epoch 38 Model Saved\n",
            "epoch 38 F1 : 0.765112578868866\n",
            "epoch 38 Acc : 0.9565899968147278\n",
            "epoch 38 Pre : 0.8337246775627136\n",
            "*  *  *\n",
            "epoch 39 train loss : 0.5325519658676787\n",
            "epoch 39 test loss : 1.7526354061841967\n",
            "epoch 39 F1 : 0.7598373293876648\n",
            "epoch 39 Acc : 0.9558199644088745\n",
            "epoch 39 Pre : 0.8324667811393738\n",
            "*  *  *\n",
            "epoch 40 train loss : 0.5499324846088708\n",
            "epoch 40 test loss : 1.751511478602886\n",
            "epoch 40 F1 : 0.7594634294509888\n",
            "epoch 40 Acc : 0.9553800821304321\n",
            "epoch 40 Pre : 0.8236937522888184\n",
            "*  *  *\n",
            "epoch 41 train loss : 0.5277620735260947\n",
            "epoch 41 test loss : 1.7391674431562425\n",
            "epoch 41 Model Saved\n",
            "epoch 41 F1 : 0.7666869759559631\n",
            "epoch 41 Acc : 0.9564399719238281\n",
            "epoch 41 Pre : 0.8254162669181824\n",
            "*  *  *\n",
            "epoch 42 train loss : 0.5229894382391859\n",
            "epoch 42 test loss : 1.7445105824947358\n",
            "epoch 42 F1 : 0.7639189958572388\n",
            "epoch 42 Acc : 0.9562999606132507\n",
            "epoch 42 Pre : 0.8307345509529114\n",
            "*  *  *\n",
            "epoch 43 train loss : 0.5230109410787496\n",
            "epoch 43 test loss : 1.7385490748643875\n",
            "epoch 43 Model Saved\n",
            "epoch 43 F1 : 0.7688541412353516\n",
            "epoch 43 Acc : 0.9570900797843933\n",
            "epoch 43 Pre : 0.8332961201667786\n",
            "*  *  *\n",
            "epoch 44 train loss : 0.5214169808349756\n",
            "epoch 44 test loss : 1.7495547320485116\n",
            "epoch 44 F1 : 0.7604009509086609\n",
            "epoch 44 Acc : 0.9558800458908081\n",
            "epoch 44 Pre : 0.8320013284683228\n",
            "*  *  *\n",
            "epoch 45 train loss : 0.5071670380966848\n",
            "epoch 45 test loss : 1.7398886293768883\n",
            "epoch 45 F1 : 0.7620661854743958\n",
            "epoch 45 Acc : 0.9554499387741089\n",
            "epoch 45 Pre : 0.8176800012588501\n",
            "*  *  *\n",
            "epoch 46 train loss : 0.49956301987411933\n",
            "epoch 46 test loss : 1.743676142251492\n",
            "epoch 46 F1 : 0.7706496119499207\n",
            "epoch 46 Acc : 0.95756995677948\n",
            "epoch 46 Pre : 0.8387005925178528\n",
            "*  *  *\n",
            "epoch 47 train loss : 0.503778488913535\n",
            "epoch 47 test loss : 1.7456715158820153\n",
            "epoch 47 F1 : 0.7583355903625488\n",
            "epoch 47 Acc : 0.9548800587654114\n",
            "epoch 47 Pre : 0.8165396451950073\n",
            "*  *  *\n",
            "epoch 48 train loss : 0.4902396228247427\n",
            "epoch 48 test loss : 1.7381437322854996\n",
            "epoch 48 Model Saved\n",
            "epoch 48 F1 : 0.7706270217895508\n",
            "epoch 48 Acc : 0.9571599960327148\n",
            "epoch 48 Pre : 0.8292789459228516\n",
            "*  *  *\n",
            "epoch 49 train loss : 0.4905222944009864\n",
            "epoch 49 test loss : 1.7285351899027828\n",
            "epoch 49 Model Saved\n",
            "epoch 49 F1 : 0.7776703834533691\n",
            "epoch 49 Acc : 0.9583198428153992\n",
            "epoch 49 Pre : 0.8333573341369629\n",
            "*  *  *\n",
            "epoch 50 train loss : 0.4758572631256755\n",
            "epoch 50 test loss : 1.7427132117033004\n",
            "epoch 50 F1 : 0.7677372694015503\n",
            "epoch 50 Acc : 0.956779956817627\n",
            "epoch 50 Pre : 0.8296977281570435\n",
            "*  *  *\n",
            "epoch 51 train loss : 0.4936226070641559\n",
            "epoch 51 test loss : 1.7476894082069396\n",
            "epoch 51 F1 : 0.7629050016403198\n",
            "epoch 51 Acc : 0.9559699892997742\n",
            "epoch 51 Pre : 0.8264936208724976\n",
            "*  *  *\n",
            "epoch 52 train loss : 0.4827626101600515\n",
            "epoch 52 test loss : 1.733130377805233\n",
            "epoch 52 F1 : 0.7712291479110718\n",
            "epoch 52 Acc : 0.9571599960327148\n",
            "epoch 52 Pre : 0.8274794816970825\n",
            "*  *  *\n",
            "epoch 53 train loss : 0.47865132165172986\n",
            "epoch 53 test loss : 1.7324354662179946\n",
            "epoch 53 F1 : 0.7727826833724976\n",
            "epoch 53 Acc : 0.957379937171936\n",
            "epoch 53 Pre : 0.8275302648544312\n",
            "*  *  *\n",
            "epoch 54 train loss : 0.4716820839124704\n",
            "epoch 54 test loss : 1.728810283720493\n",
            "epoch 54 F1 : 0.77440345287323\n",
            "epoch 54 Acc : 0.9575499296188354\n",
            "epoch 54 Pre : 0.8262678384780884\n",
            "*  *  *\n",
            "epoch 55 train loss : 0.46351833016665045\n",
            "epoch 55 test loss : 1.7234807751893997\n",
            "epoch 55 Model Saved\n",
            "epoch 55 F1 : 0.7794457077980042\n",
            "epoch 55 Acc : 0.9584800004959106\n",
            "epoch 55 Pre : 0.8313146829605103\n",
            "*  *  *\n",
            "epoch 56 train loss : 0.45647693516499355\n",
            "epoch 56 test loss : 1.7349288236856464\n",
            "epoch 56 F1 : 0.7684871554374695\n",
            "epoch 56 Acc : 0.9566699862480164\n",
            "epoch 56 Pre : 0.8250603675842285\n",
            "*  *  *\n",
            "epoch 57 train loss : 0.4648067493065286\n",
            "epoch 57 test loss : 1.734075101387501\n",
            "epoch 57 F1 : 0.7720672488212585\n",
            "epoch 57 Acc : 0.9574999809265137\n",
            "epoch 57 Pre : 0.8324224352836609\n",
            "*  *  *\n",
            "epoch 58 train loss : 0.459143844377154\n",
            "epoch 58 test loss : 1.7310750689029692\n",
            "epoch 58 F1 : 0.7707687020301819\n",
            "epoch 58 Acc : 0.957040011882782\n",
            "epoch 58 Pre : 0.8262669444084167\n",
            "*  *  *\n",
            "epoch 59 train loss : 0.45323428771906676\n",
            "epoch 59 test loss : 1.7243230475783349\n",
            "epoch 59 F1 : 0.7808984518051147\n",
            "epoch 59 Acc : 0.9587499499320984\n",
            "epoch 59 Pre : 0.8327525854110718\n",
            "*  *  *\n",
            "epoch 60 train loss : 0.4585025224044779\n",
            "epoch 60 test loss : 1.7266917811751366\n",
            "epoch 60 F1 : 0.7806925773620605\n",
            "epoch 60 Acc : 0.9587900042533875\n",
            "epoch 60 Pre : 0.8341929316520691\n",
            "*  *  *\n",
            "epoch 61 train loss : 0.4509857269047924\n",
            "epoch 61 test loss : 1.7274669590592384\n",
            "epoch 61 F1 : 0.781909167766571\n",
            "epoch 61 Acc : 0.9592000246047974\n",
            "epoch 61 Pre : 0.8398588299751282\n",
            "*  *  *\n",
            "epoch 62 train loss : 0.4439779753167605\n",
            "epoch 62 test loss : 1.7280680432081224\n",
            "epoch 62 F1 : 0.7750274538993835\n",
            "epoch 62 Acc : 0.9577099680900574\n",
            "epoch 62 Pre : 0.8279454112052917\n",
            "*  *  *\n",
            "epoch 63 train loss : 0.4400002226237271\n",
            "epoch 63 test loss : 1.7219081055998804\n",
            "epoch 63 Model Saved\n",
            "epoch 63 F1 : 0.77881920337677\n",
            "epoch 63 Acc : 0.9582399129867554\n",
            "epoch 63 Pre : 0.8278663754463196\n",
            "*  *  *\n",
            "epoch 64 train loss : 0.42517433766095186\n",
            "epoch 64 test loss : 1.725886614394188\n",
            "epoch 64 F1 : 0.7746527194976807\n",
            "epoch 64 Acc : 0.9577199816703796\n",
            "epoch 64 Pre : 0.8292936086654663\n",
            "*  *  *\n",
            "epoch 65 train loss : 0.42925015570303093\n",
            "epoch 65 test loss : 1.7271208608627322\n",
            "epoch 65 F1 : 0.7735680341720581\n",
            "epoch 65 Acc : 0.9572998881340027\n",
            "epoch 65 Pre : 0.8234758377075195\n",
            "*  *  *\n",
            "epoch 66 train loss : 0.44281341696928544\n",
            "epoch 66 test loss : 1.7277065014481543\n",
            "epoch 66 F1 : 0.7756426930427551\n",
            "epoch 66 Acc : 0.9577499628067017\n",
            "epoch 66 Pre : 0.8269153833389282\n",
            "*  *  *\n",
            "epoch 67 train loss : 0.4256656065641449\n",
            "epoch 67 test loss : 1.7305312061429023\n",
            "epoch 67 F1 : 0.7750967144966125\n",
            "epoch 67 Acc : 0.9580200910568237\n",
            "epoch 67 Pre : 0.8346899151802063\n",
            "*  *  *\n",
            "epoch 68 train loss : 0.42838199921449976\n",
            "epoch 68 test loss : 1.7266238427877425\n",
            "epoch 68 F1 : 0.7774912714958191\n",
            "epoch 68 Acc : 0.9581600427627563\n",
            "epoch 68 Pre : 0.8302356004714966\n",
            "*  *  *\n",
            "epoch 69 train loss : 0.4214729199316644\n",
            "epoch 69 test loss : 1.7237034336924555\n",
            "epoch 69 F1 : 0.7759519815444946\n",
            "epoch 69 Acc : 0.957859992980957\n",
            "epoch 69 Pre : 0.8284969329833984\n",
            "*  *  *\n",
            "epoch 70 train loss : 0.4284341187948437\n",
            "epoch 70 test loss : 1.7221742434620857\n",
            "epoch 70 F1 : 0.7787610292434692\n",
            "epoch 70 Acc : 0.9581699371337891\n",
            "epoch 70 Pre : 0.826474666595459\n",
            "*  *  *\n",
            "epoch 71 train loss : 0.41265113519639257\n",
            "epoch 71 test loss : 1.7177943247199057\n",
            "epoch 71 Model Saved\n",
            "epoch 71 F1 : 0.7800646424293518\n",
            "epoch 71 Acc : 0.9582000970840454\n",
            "epoch 71 Pre : 0.8231541514396667\n",
            "*  *  *\n",
            "epoch 72 train loss : 0.41375958640251603\n",
            "epoch 72 test loss : 1.7262946207523346\n",
            "epoch 72 F1 : 0.7736444473266602\n",
            "epoch 72 Acc : 0.9574300646781921\n",
            "epoch 72 Pre : 0.826091468334198\n",
            "*  *  *\n",
            "epoch 73 train loss : 0.4170616683980606\n",
            "epoch 73 test loss : 1.7241529276013374\n",
            "epoch 73 F1 : 0.7773076891899109\n",
            "epoch 73 Acc : 0.9578998684883118\n",
            "epoch 73 Pre : 0.8252029418945312\n",
            "*  *  *\n",
            "epoch 74 train loss : 0.4122729848346852\n",
            "epoch 74 test loss : 1.7196098210811617\n",
            "epoch 74 F1 : 0.7798932790756226\n",
            "epoch 74 Acc : 0.9585299491882324\n",
            "epoch 74 Pre : 0.8310550451278687\n",
            "*  *  *\n",
            "epoch 75 train loss : 0.40859930342173767\n",
            "epoch 75 test loss : 1.719466999566555\n",
            "epoch 75 F1 : 0.7776797413825989\n",
            "epoch 75 Acc : 0.9579100608825684\n",
            "epoch 75 Pre : 0.8240255117416382\n",
            "*  *  *\n",
            "epoch 76 train loss : 0.4060399522199018\n",
            "epoch 76 test loss : 1.722478439128399\n",
            "epoch 76 F1 : 0.7781169414520264\n",
            "epoch 76 Acc : 0.9582099914550781\n",
            "epoch 76 Pre : 0.8294203877449036\n",
            "*  *  *\n",
            "epoch 77 train loss : 0.40461021628206517\n",
            "epoch 77 test loss : 1.7241603638529774\n",
            "epoch 77 F1 : 0.7779668569564819\n",
            "epoch 77 Acc : 0.9580999612808228\n",
            "epoch 77 Pre : 0.8274308443069458\n",
            "*  *  *\n",
            "epoch 78 train loss : 0.4094823160782244\n",
            "epoch 78 test loss : 1.7180312599658965\n",
            "epoch 78 F1 : 0.7812668085098267\n",
            "epoch 78 Acc : 0.9586899876594543\n",
            "epoch 78 Pre : 0.8303656578063965\n",
            "*  *  *\n",
            "epoch 79 train loss : 0.39689059567844154\n",
            "epoch 79 test loss : 1.7218474567770958\n",
            "epoch 79 F1 : 0.7747779488563538\n",
            "epoch 79 Acc : 0.9572800397872925\n",
            "epoch 79 Pre : 0.8191748857498169\n",
            "*  *  *\n",
            "epoch 80 train loss : 0.39983733103521524\n",
            "epoch 80 test loss : 1.7264728284835815\n",
            "epoch 80 F1 : 0.7780531644821167\n",
            "epoch 80 Acc : 0.9584699869155884\n",
            "epoch 80 Pre : 0.8355498313903809\n",
            "*  *  *\n",
            "epoch 81 train loss : 0.41199918077847353\n",
            "epoch 81 test loss : 1.721349737739563\n",
            "epoch 81 F1 : 0.7822160124778748\n",
            "epoch 81 Acc : 0.9590700268745422\n",
            "epoch 81 Pre : 0.8358418345451355\n",
            "*  *  *\n",
            "epoch 82 train loss : 0.4007908808046874\n",
            "epoch 82 test loss : 1.726530934417248\n",
            "epoch 82 F1 : 0.7708969116210938\n",
            "epoch 82 Acc : 0.9565800428390503\n",
            "epoch 82 Pre : 0.8159864544868469\n",
            "*  *  *\n",
            "epoch 83 train loss : 0.4067627178459823\n",
            "epoch 83 test loss : 1.7114187720775604\n",
            "epoch 83 Model Saved\n",
            "epoch 83 F1 : 0.7812399864196777\n",
            "epoch 83 Acc : 0.9582200050354004\n",
            "epoch 83 Pre : 0.8199073672294617\n",
            "*  *  *\n",
            "epoch 84 train loss : 0.3920003873103285\n",
            "epoch 84 test loss : 1.7193908554434774\n",
            "epoch 84 F1 : 0.7801131010055542\n",
            "epoch 84 Acc : 0.9583500027656555\n",
            "epoch 84 Pre : 0.8262166976928711\n",
            "*  *  *\n",
            "epoch 85 train loss : 0.39612490651572185\n",
            "epoch 85 test loss : 1.7236694299697874\n",
            "epoch 85 F1 : 0.7806267142295837\n",
            "epoch 85 Acc : 0.9588900804519653\n",
            "epoch 85 Pre : 0.8367520570755005\n",
            "*  *  *\n",
            "epoch 86 train loss : 0.40375803429588236\n",
            "epoch 86 test loss : 1.7264519712209705\n",
            "epoch 86 F1 : 0.776687502861023\n",
            "epoch 86 Acc : 0.9580599665641785\n",
            "epoch 86 Pre : 0.8304674029350281\n",
            "*  *  *\n",
            "epoch 87 train loss : 0.38991746039650443\n",
            "epoch 87 test loss : 1.7221863597273828\n",
            "epoch 87 F1 : 0.7782548666000366\n",
            "epoch 87 Acc : 0.9582599401473999\n",
            "epoch 87 Pre : 0.8301666378974915\n",
            "*  *  *\n",
            "epoch 88 train loss : 0.3821774601031659\n",
            "epoch 88 test loss : 1.7127739659070969\n",
            "epoch 88 F1 : 0.7882308959960938\n",
            "epoch 88 Acc : 0.9598900079727173\n",
            "epoch 88 Pre : 0.8349417448043823\n",
            "*  *  *\n",
            "epoch 89 train loss : 0.38242040647534103\n",
            "epoch 89 test loss : 1.7202015820264815\n",
            "epoch 89 F1 : 0.7728863954544067\n",
            "epoch 89 Acc : 0.9567700624465942\n",
            "epoch 89 Pre : 0.8140694499015808\n",
            "*  *  *\n",
            "epoch 90 train loss : 0.39079294761613953\n",
            "epoch 90 test loss : 1.7131501723885534\n",
            "epoch 90 F1 : 0.783951461315155\n",
            "epoch 90 Acc : 0.9590200185775757\n",
            "epoch 90 Pre : 0.8290952444076538\n",
            "*  *  *\n",
            "epoch 91 train loss : 0.3815795743713531\n",
            "epoch 91 test loss : 1.7176014576792717\n",
            "epoch 91 F1 : 0.7759440541267395\n",
            "epoch 91 Acc : 0.9572900533676147\n",
            "epoch 91 Pre : 0.8161490559577942\n",
            "*  *  *\n",
            "epoch 92 train loss : 0.38817313608497833\n",
            "epoch 92 test loss : 1.7166426255464557\n",
            "epoch 92 F1 : 0.7828279733657837\n",
            "epoch 92 Acc : 0.9588099718093872\n",
            "epoch 92 Pre : 0.8279589414596558\n",
            "*  *  *\n",
            "epoch 93 train loss : 0.3737805665146077\n",
            "epoch 93 test loss : 1.7138003889322282\n",
            "epoch 93 F1 : 0.7803515195846558\n",
            "epoch 93 Acc : 0.9582198858261108\n",
            "epoch 93 Pre : 0.8226685523986816\n",
            "*  *  *\n",
            "epoch 94 train loss : 0.38376719268622866\n",
            "epoch 94 test loss : 1.712346786105633\n",
            "epoch 94 F1 : 0.7871416211128235\n",
            "epoch 94 Acc : 0.9594500660896301\n",
            "epoch 94 Pre : 0.8284412622451782\n",
            "*  *  *\n",
            "epoch 95 train loss : 0.39343133209577125\n",
            "epoch 95 test loss : 1.7157259948134425\n",
            "epoch 95 F1 : 0.7799674272537231\n",
            "epoch 95 Acc : 0.9582201242446899\n",
            "epoch 95 Pre : 0.8237886428833008\n",
            "*  *  *\n",
            "epoch 96 train loss : 0.3785770082240021\n",
            "epoch 96 test loss : 1.7147955643534663\n",
            "epoch 96 F1 : 0.7821529507637024\n",
            "epoch 96 Acc : 0.9586800336837769\n",
            "epoch 96 Pre : 0.8271864652633667\n",
            "*  *  *\n",
            "epoch 97 train loss : 0.37761465242869774\n",
            "epoch 97 test loss : 1.7127461097359657\n",
            "epoch 97 F1 : 0.77959144115448\n",
            "epoch 97 Acc : 0.9580100774765015\n",
            "epoch 97 Pre : 0.820486843585968\n",
            "*  *  *\n",
            "epoch 98 train loss : 0.3665629519978411\n",
            "epoch 98 test loss : 1.7140603474736218\n",
            "epoch 98 F1 : 0.7796372175216675\n",
            "epoch 98 Acc : 0.9580500721931458\n",
            "epoch 98 Pre : 0.8212276697158813\n",
            "*  *  *\n",
            "epoch 99 train loss : 0.378964698426511\n",
            "epoch 99 test loss : 1.7139470877408982\n",
            "epoch 99 F1 : 0.7822079658508301\n",
            "epoch 99 Acc : 0.9585700035095215\n",
            "epoch 99 Pre : 0.8246181607246399\n",
            "*  *  *\n"
          ]
        }
      ]
    },
    {
      "cell_type": "code",
      "source": [
        "model = torch.load('best.pth')"
      ],
      "metadata": {
        "id": "ZfL1txFaW5w7"
      },
      "execution_count": null,
      "outputs": []
    },
    {
      "cell_type": "code",
      "source": [
        "model.eval() \n",
        "f1_list=[]\n",
        "acc_list=[]\n",
        "pre_list=[]\n",
        "with torch.no_grad():\n",
        "  for x_tes, testtar in testloader:\n",
        "    x_tes = x_tes.to(device)\n",
        "    testtar = testtar.to(device)\n",
        "    outt = model(x_tes)\n",
        "    outt = softmax(outt)\n",
        "    f1_list.append(metric(outt.cpu(), testtar.cpu()))\n",
        "    acc_list.append(metric1(outt.cpu(), testtar.cpu()))\n",
        "    pre_list.append(metric2(outt.cpu(), testtar.cpu()))\n",
        "    loss_t = cri(outt, testtar)\n",
        "    los_test.append(loss_t.item())\n",
        "\n",
        "  print(f'test loss : {sum(los_test)/len(los_test)}')\n",
        "  print(f'F1 : {sum(f1_list)/len(f1_list)}')\n",
        "  print(f'Acc : {sum(acc_list)/len(acc_list)}')\n",
        "  print(f'Pre : {sum(pre_list)/len(pre_list)}')"
      ],
      "metadata": {
        "colab": {
          "base_uri": "https://localhost:8080/"
        },
        "id": "-rtx0W2U5hbg",
        "outputId": "1d04bf8e-6c15-44b1-8637-50fae2bf93ed"
      },
      "execution_count": null,
      "outputs": [
        {
          "output_type": "stream",
          "name": "stdout",
          "text": [
            "test loss : 1.8232309002616187\n",
            "F1 : 0.7812399864196777\n",
            "Acc : 0.9582200050354004\n",
            "Pre : 0.8199073672294617\n"
          ]
        }
      ]
    },
    {
      "cell_type": "code",
      "source": [
        "print(out[0][0])\n",
        "type(out[0][0])\n",
        "print(out.shape)\n",
        "y_train.shape"
      ],
      "metadata": {
        "id": "69gD859O1Iqi",
        "colab": {
          "base_uri": "https://localhost:8080/"
        },
        "outputId": "bbcb76b0-7f0e-4eed-d77e-51e672e03a2d"
      },
      "execution_count": null,
      "outputs": [
        {
          "output_type": "stream",
          "name": "stdout",
          "text": [
            "tensor(-3.6649, device='cuda:0', grad_fn=<SelectBackward0>)\n",
            "torch.Size([1000, 10])\n"
          ]
        },
        {
          "output_type": "execute_result",
          "data": {
            "text/plain": [
              "(50000, 1)"
            ]
          },
          "metadata": {},
          "execution_count": 20
        }
      ]
    },
    {
      "cell_type": "code",
      "source": [
        "dict={0:'airplane',1:'automobile',2:'bird',3:'cat',4:'deer',5:'dog',6:'frog',7:'horse',8:'ship',9:'truck'}"
      ],
      "metadata": {
        "id": "kyK7T6x_ET5e"
      },
      "execution_count": null,
      "outputs": []
    },
    {
      "cell_type": "code",
      "source": [
        "model.eval()\n",
        "num=np.random.randint(10000)\n",
        "# x,y=x_train[num],y_train[num]\n",
        "x,y=x_test[num],y_test[num]\n",
        "yy=model(x)\n",
        "# print(yy)\n",
        "# print(torch.max(yy)==yy)\n",
        "print(f'it is a {dict[int(y)]} and NN pridected that it is a {dict[int(torch.argmax(yy))]}')\n",
        "plt.imshow(np.asarray(np.transpose(x.cpu(),(1,2,0)),dtype=np.uint8))"
      ],
      "metadata": {
        "id": "AktxWjkh5smU",
        "colab": {
          "base_uri": "https://localhost:8080/",
          "height": 301
        },
        "outputId": "4263927d-b686-490b-c79d-e6a5f14a15de"
      },
      "execution_count": null,
      "outputs": [
        {
          "output_type": "stream",
          "name": "stdout",
          "text": [
            "it is a airplane and NN pridected that it is a airplane\n"
          ]
        },
        {
          "output_type": "execute_result",
          "data": {
            "text/plain": [
              "<matplotlib.image.AxesImage at 0x7f1ef18983d0>"
            ]
          },
          "metadata": {},
          "execution_count": 59
        },
        {
          "output_type": "display_data",
          "data": {
            "text/plain": [
              "<Figure size 432x288 with 1 Axes>"
            ],
            "image/png": "[encoded data removed]"
          },
          "metadata": {
            "needs_background": "light"
          }
        }
      ]
    }
  ]
}