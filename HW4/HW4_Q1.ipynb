{
  "nbformat": 4,
  "nbformat_minor": 0,
  "metadata": {
    "colab": {
      "provenance": []
    },
    "kernelspec": {
      "name": "python3",
      "display_name": "Python 3"
    },
    "language_info": {
      "name": "python"
    },
    "accelerator": "GPU",
    "gpuClass": "standard"
  },
  "cells": [
    {
      "cell_type": "code",
      "execution_count": null,
      "metadata": {
        "id": "xxhx4w-QDw9T",
        "colab": {
          "base_uri": "https://localhost:8080/"
        },
        "outputId": "8577a7e9-74b8-444d-cdfe-5d8cb2f97797"
      },
      "outputs": [
        {
          "output_type": "stream",
          "name": "stdout",
          "text": [
            "Archive:  /content/drive/MyDrive/Datasets/PRSA2017_Data_20130301-20170228.zip\n",
            "   creating: /content/PRSA2017_Data_20130301-20170228/PRSA_Data_20130301-20170228/\n",
            "  inflating: /content/PRSA2017_Data_20130301-20170228/PRSA_Data_20130301-20170228/PRSA_Data_Aotizhongxin_20130301-20170228.csv  \n",
            "  inflating: /content/PRSA2017_Data_20130301-20170228/PRSA_Data_20130301-20170228/PRSA_Data_Changping_20130301-20170228.csv  \n",
            "  inflating: /content/PRSA2017_Data_20130301-20170228/PRSA_Data_20130301-20170228/PRSA_Data_Dingling_20130301-20170228.csv  \n",
            "  inflating: /content/PRSA2017_Data_20130301-20170228/PRSA_Data_20130301-20170228/PRSA_Data_Dongsi_20130301-20170228.csv  \n",
            "  inflating: /content/PRSA2017_Data_20130301-20170228/PRSA_Data_20130301-20170228/PRSA_Data_Guanyuan_20130301-20170228.csv  \n",
            "  inflating: /content/PRSA2017_Data_20130301-20170228/PRSA_Data_20130301-20170228/PRSA_Data_Gucheng_20130301-20170228.csv  \n",
            "  inflating: /content/PRSA2017_Data_20130301-20170228/PRSA_Data_20130301-20170228/PRSA_Data_Huairou_20130301-20170228.csv  \n",
            "  inflating: /content/PRSA2017_Data_20130301-20170228/PRSA_Data_20130301-20170228/PRSA_Data_Nongzhanguan_20130301-20170228.csv  \n",
            "  inflating: /content/PRSA2017_Data_20130301-20170228/PRSA_Data_20130301-20170228/PRSA_Data_Shunyi_20130301-20170228.csv  \n",
            "  inflating: /content/PRSA2017_Data_20130301-20170228/PRSA_Data_20130301-20170228/PRSA_Data_Tiantan_20130301-20170228.csv  \n",
            "  inflating: /content/PRSA2017_Data_20130301-20170228/PRSA_Data_20130301-20170228/PRSA_Data_Wanliu_20130301-20170228.csv  \n",
            "  inflating: /content/PRSA2017_Data_20130301-20170228/PRSA_Data_20130301-20170228/PRSA_Data_Wanshouxigong_20130301-20170228.csv  \n"
          ]
        }
      ],
      "source": [
        "!unzip /content/drive/MyDrive/Datasets/PRSA2017_Data_20130301-20170228.zip -d /content"
      ]
    },
    {
      "cell_type": "markdown",
      "source": [
        "***OPENING DATASET & CHECKING FOR NULL DATA***"
      ],
      "metadata": {
        "id": "U4ECq9BAOdv-"
      }
    },
    {
      "cell_type": "code",
      "source": [
        "import os\n",
        "import pandas as pd\n",
        "import seaborn as sns\n",
        "from joblib import dump\n",
        "from datetime import datetime\n",
        "import matplotlib.pyplot as plt\n",
        "from sklearn.preprocessing import MinMaxScaler\n",
        "\n",
        "path = \"/content/PRSA2017_Data_20130301-20170228/PRSA_Data_20130301-20170228\"\n",
        "dict_of_dfs = dict()\n",
        "\n",
        "for add in os.listdir(path= path):\n",
        "        dict_of_dfs[add.split(\"_\")[2]] = pd.read_csv(path+\"/\" +add , parse_dates={\"date\" : [\"year\",\"month\" ,\"day\" , \"hour\"]  }  , index_col= \"date\" , date_parser=lambda x: datetime.strptime(x, '%Y %m %d %H') )\n",
        "\n",
        "print(dict_of_dfs[\"Aotizhongxin\"].head())\n",
        "print('\\n')\n",
        "print(dict_of_dfs[\"Aotizhongxin\"].isna().sum())"
      ],
      "metadata": {
        "colab": {
          "base_uri": "https://localhost:8080/"
        },
        "id": "-5U5ExU8jcKp",
        "outputId": "9ee15005-aad9-45bc-9580-439e656272b0"
      },
      "execution_count": null,
      "outputs": [
        {
          "output_type": "stream",
          "name": "stdout",
          "text": [
            "                     No  PM2.5  PM10   SO2   NO2     CO    O3  TEMP    PRES  \\\n",
            "date                                                                          \n",
            "2013-03-01 00:00:00   1    4.0   4.0   4.0   7.0  300.0  77.0  -0.7  1023.0   \n",
            "2013-03-01 01:00:00   2    8.0   8.0   4.0   7.0  300.0  77.0  -1.1  1023.2   \n",
            "2013-03-01 02:00:00   3    7.0   7.0   5.0  10.0  300.0  73.0  -1.1  1023.5   \n",
            "2013-03-01 03:00:00   4    6.0   6.0  11.0  11.0  300.0  72.0  -1.4  1024.5   \n",
            "2013-03-01 04:00:00   5    3.0   3.0  12.0  12.0  300.0  72.0  -2.0  1025.2   \n",
            "\n",
            "                     DEWP  RAIN   wd  WSPM       station  \n",
            "date                                                      \n",
            "2013-03-01 00:00:00 -18.8   0.0  NNW   4.4  Aotizhongxin  \n",
            "2013-03-01 01:00:00 -18.2   0.0    N   4.7  Aotizhongxin  \n",
            "2013-03-01 02:00:00 -18.2   0.0  NNW   5.6  Aotizhongxin  \n",
            "2013-03-01 03:00:00 -19.4   0.0   NW   3.1  Aotizhongxin  \n",
            "2013-03-01 04:00:00 -19.5   0.0    N   2.0  Aotizhongxin  \n",
            "\n",
            "\n",
            "No            0\n",
            "PM2.5       925\n",
            "PM10        718\n",
            "SO2         935\n",
            "NO2        1023\n",
            "CO         1776\n",
            "O3         1719\n",
            "TEMP         20\n",
            "PRES         20\n",
            "DEWP         20\n",
            "RAIN         20\n",
            "wd           81\n",
            "WSPM         14\n",
            "station       0\n",
            "dtype: int64\n"
          ]
        }
      ]
    },
    {
      "cell_type": "markdown",
      "source": [
        "***LINEAR INTERPOLATION OF THE NULL DATA IN DATAFRAME***"
      ],
      "metadata": {
        "id": "0Z3Hlen3OqvS"
      }
    },
    {
      "cell_type": "code",
      "source": [
        "for city in dict_of_dfs.keys():\n",
        "    dict_of_dfs[city] = dict_of_dfs[city].interpolate(\"time\")\n",
        "\n",
        "dict_of_dfs[\"Aotizhongxin\"].isna().sum()"
      ],
      "metadata": {
        "colab": {
          "base_uri": "https://localhost:8080/"
        },
        "id": "02dq8LtaklI5",
        "outputId": "5e4867ae-4bcf-4fb0-d79c-546445010621"
      },
      "execution_count": null,
      "outputs": [
        {
          "output_type": "execute_result",
          "data": {
            "text/plain": [
              "No          0\n",
              "PM2.5       0\n",
              "PM10        0\n",
              "SO2         0\n",
              "NO2         0\n",
              "CO          0\n",
              "O3          0\n",
              "TEMP        0\n",
              "PRES        0\n",
              "DEWP        0\n",
              "RAIN        0\n",
              "wd         81\n",
              "WSPM        0\n",
              "station     0\n",
              "dtype: int64"
            ]
          },
          "metadata": {},
          "execution_count": 3
        }
      ]
    },
    {
      "cell_type": "markdown",
      "source": [
        "***CONVERSION OF THE \"WD\" COLUMN INTO DEGREE***"
      ],
      "metadata": {
        "id": "w33LEFATOzZr"
      }
    },
    {
      "cell_type": "code",
      "source": [
        "wd_encoding = {\"N\" : 0,  \"NNE\" : 22.5,  \"NE\" : 45,  \"ENE\" : 67.5,\n",
        "               \"E\" : 90, \"ESE\" : 112.5, \"SE\" : 135, \"SSE\" : 157.5,\n",
        "               \"S\" : 180,\"SSW\" : 202.5, \"SW\" : 225, \"WSW\" : 247.5,\n",
        "               \"W\" : 270,\"WNW\" : 292.5, \"NW\" : 315, \"NNW\" : 337.5 }\n",
        "\n",
        "for city in dict_of_dfs.keys():\n",
        "    dict_of_dfs[city][\"wd\"] = dict_of_dfs[city][\"wd\"].map(wd_encoding)"
      ],
      "metadata": {
        "id": "324ibNqhkn-Z"
      },
      "execution_count": null,
      "outputs": []
    },
    {
      "cell_type": "markdown",
      "source": [
        "***CHECKING AGAIN FOR UNDESIRED DATA***"
      ],
      "metadata": {
        "id": "PD0eCBxjPEMc"
      }
    },
    {
      "cell_type": "code",
      "source": [
        "for city in dict_of_dfs.keys():\n",
        "    dict_of_dfs[city].interpolate(\"time\" , inplace = True)\n",
        "\n",
        "dict_of_dfs[\"Aotizhongxin\"].isna().sum()"
      ],
      "metadata": {
        "colab": {
          "base_uri": "https://localhost:8080/"
        },
        "id": "5kCQKZLZkrvh",
        "outputId": "ce0d730b-3fac-46a1-f860-e3b5001f05c1"
      },
      "execution_count": null,
      "outputs": [
        {
          "output_type": "execute_result",
          "data": {
            "text/plain": [
              "No         0\n",
              "PM2.5      0\n",
              "PM10       0\n",
              "SO2        0\n",
              "NO2        0\n",
              "CO         0\n",
              "O3         0\n",
              "TEMP       0\n",
              "PRES       0\n",
              "DEWP       0\n",
              "RAIN       0\n",
              "wd         0\n",
              "WSPM       0\n",
              "station    0\n",
              "dtype: int64"
            ]
          },
          "metadata": {},
          "execution_count": 5
        }
      ]
    },
    {
      "cell_type": "code",
      "source": [
        "dict_of_dfs[\"Aotizhongxin\"].head()"
      ],
      "metadata": {
        "colab": {
          "base_uri": "https://localhost:8080/",
          "height": 238
        },
        "id": "608EvsFwkvNZ",
        "outputId": "5e2515ab-5abe-43fb-db45-9c0df719d3d7"
      },
      "execution_count": null,
      "outputs": [
        {
          "output_type": "execute_result",
          "data": {
            "text/plain": [
              "                     No  PM2.5  PM10   SO2   NO2     CO    O3  TEMP    PRES  \\\n",
              "date                                                                          \n",
              "2013-03-01 00:00:00   1    4.0   4.0   4.0   7.0  300.0  77.0  -0.7  1023.0   \n",
              "2013-03-01 01:00:00   2    8.0   8.0   4.0   7.0  300.0  77.0  -1.1  1023.2   \n",
              "2013-03-01 02:00:00   3    7.0   7.0   5.0  10.0  300.0  73.0  -1.1  1023.5   \n",
              "2013-03-01 03:00:00   4    6.0   6.0  11.0  11.0  300.0  72.0  -1.4  1024.5   \n",
              "2013-03-01 04:00:00   5    3.0   3.0  12.0  12.0  300.0  72.0  -2.0  1025.2   \n",
              "\n",
              "                     DEWP  RAIN     wd  WSPM       station  \n",
              "date                                                        \n",
              "2013-03-01 00:00:00 -18.8   0.0  337.5   4.4  Aotizhongxin  \n",
              "2013-03-01 01:00:00 -18.2   0.0    0.0   4.7  Aotizhongxin  \n",
              "2013-03-01 02:00:00 -18.2   0.0  337.5   5.6  Aotizhongxin  \n",
              "2013-03-01 03:00:00 -19.4   0.0  315.0   3.1  Aotizhongxin  \n",
              "2013-03-01 04:00:00 -19.5   0.0    0.0   2.0  Aotizhongxin  "
            ],
            "text/html": [
              "\n",
              "  <div id=\"df-4d5625c1-e1e0-4d80-acf9-bee9b23d2bad\">\n",
              "    <div class=\"colab-df-container\">\n",
              "      <div>\n",
              "<style scoped>\n",
              "    .dataframe tbody tr th:only-of-type {\n",
              "        vertical-align: middle;\n",
              "    }\n",
              "\n",
              "    .dataframe tbody tr th {\n",
              "        vertical-align: top;\n",
              "    }\n",
              "\n",
              "    .dataframe thead th {\n",
              "        text-align: right;\n",
              "    }\n",
              "</style>\n",
              "<table border=\"1\" class=\"dataframe\">\n",
              "  <thead>\n",
              "    <tr style=\"text-align: right;\">\n",
              "      <th></th>\n",
              "      <th>No</th>\n",
              "      <th>PM2.5</th>\n",
              "      <th>PM10</th>\n",
              "      <th>SO2</th>\n",
              "      <th>NO2</th>\n",
              "      <th>CO</th>\n",
              "      <th>O3</th>\n",
              "      <th>TEMP</th>\n",
              "      <th>PRES</th>\n",
              "      <th>DEWP</th>\n",
              "      <th>RAIN</th>\n",
              "      <th>wd</th>\n",
              "      <th>WSPM</th>\n",
              "      <th>station</th>\n",
              "    </tr>\n",
              "    <tr>\n",
              "      <th>date</th>\n",
              "      <th></th>\n",
              "      <th></th>\n",
              "      <th></th>\n",
              "      <th></th>\n",
              "      <th></th>\n",
              "      <th></th>\n",
              "      <th></th>\n",
              "      <th></th>\n",
              "      <th></th>\n",
              "      <th></th>\n",
              "      <th></th>\n",
              "      <th></th>\n",
              "      <th></th>\n",
              "      <th></th>\n",
              "    </tr>\n",
              "  </thead>\n",
              "  <tbody>\n",
              "    <tr>\n",
              "      <th>2013-03-01 00:00:00</th>\n",
              "      <td>1</td>\n",
              "      <td>4.0</td>\n",
              "      <td>4.0</td>\n",
              "      <td>4.0</td>\n",
              "      <td>7.0</td>\n",
              "      <td>300.0</td>\n",
              "      <td>77.0</td>\n",
              "      <td>-0.7</td>\n",
              "      <td>1023.0</td>\n",
              "      <td>-18.8</td>\n",
              "      <td>0.0</td>\n",
              "      <td>337.5</td>\n",
              "      <td>4.4</td>\n",
              "      <td>Aotizhongxin</td>\n",
              "    </tr>\n",
              "    <tr>\n",
              "      <th>2013-03-01 01:00:00</th>\n",
              "      <td>2</td>\n",
              "      <td>8.0</td>\n",
              "      <td>8.0</td>\n",
              "      <td>4.0</td>\n",
              "      <td>7.0</td>\n",
              "      <td>300.0</td>\n",
              "      <td>77.0</td>\n",
              "      <td>-1.1</td>\n",
              "      <td>1023.2</td>\n",
              "      <td>-18.2</td>\n",
              "      <td>0.0</td>\n",
              "      <td>0.0</td>\n",
              "      <td>4.7</td>\n",
              "      <td>Aotizhongxin</td>\n",
              "    </tr>\n",
              "    <tr>\n",
              "      <th>2013-03-01 02:00:00</th>\n",
              "      <td>3</td>\n",
              "      <td>7.0</td>\n",
              "      <td>7.0</td>\n",
              "      <td>5.0</td>\n",
              "      <td>10.0</td>\n",
              "      <td>300.0</td>\n",
              "      <td>73.0</td>\n",
              "      <td>-1.1</td>\n",
              "      <td>1023.5</td>\n",
              "      <td>-18.2</td>\n",
              "      <td>0.0</td>\n",
              "      <td>337.5</td>\n",
              "      <td>5.6</td>\n",
              "      <td>Aotizhongxin</td>\n",
              "    </tr>\n",
              "    <tr>\n",
              "      <th>2013-03-01 03:00:00</th>\n",
              "      <td>4</td>\n",
              "      <td>6.0</td>\n",
              "      <td>6.0</td>\n",
              "      <td>11.0</td>\n",
              "      <td>11.0</td>\n",
              "      <td>300.0</td>\n",
              "      <td>72.0</td>\n",
              "      <td>-1.4</td>\n",
              "      <td>1024.5</td>\n",
              "      <td>-19.4</td>\n",
              "      <td>0.0</td>\n",
              "      <td>315.0</td>\n",
              "      <td>3.1</td>\n",
              "      <td>Aotizhongxin</td>\n",
              "    </tr>\n",
              "    <tr>\n",
              "      <th>2013-03-01 04:00:00</th>\n",
              "      <td>5</td>\n",
              "      <td>3.0</td>\n",
              "      <td>3.0</td>\n",
              "      <td>12.0</td>\n",
              "      <td>12.0</td>\n",
              "      <td>300.0</td>\n",
              "      <td>72.0</td>\n",
              "      <td>-2.0</td>\n",
              "      <td>1025.2</td>\n",
              "      <td>-19.5</td>\n",
              "      <td>0.0</td>\n",
              "      <td>0.0</td>\n",
              "      <td>2.0</td>\n",
              "      <td>Aotizhongxin</td>\n",
              "    </tr>\n",
              "  </tbody>\n",
              "</table>\n",
              "</div>\n",
              "      <button class=\"colab-df-convert\" onclick=\"convertToInteractive('df-4d5625c1-e1e0-4d80-acf9-bee9b23d2bad')\"\n",
              "              title=\"Convert this dataframe to an interactive table.\"\n",
              "              style=\"display:none;\">\n",
              "        \n",
              "  <svg xmlns=\"http://www.w3.org/2000/svg\" height=\"24px\"viewBox=\"0 0 24 24\"\n",
              "       width=\"24px\">\n",
              "    <path d=\"M0 0h24v24H0V0z\" fill=\"none\"/>\n",
              "    <path d=\"M18.56 5.44l.94 2.06.94-2.06 2.06-.94-2.06-.94-.94-2.06-.94 2.06-2.06.94zm-11 1L8.5 8.5l.94-2.06 2.06-.94-2.06-.94L8.5 2.5l-.94 2.06-2.06.94zm10 10l.94 2.06.94-2.06 2.06-.94-2.06-.94-.94-2.06-.94 2.06-2.06.94z\"/><path d=\"M17.41 7.96l-1.37-1.37c-.4-.4-.92-.59-1.43-.59-.52 0-1.04.2-1.43.59L10.3 9.45l-7.72 7.72c-.78.78-.78 2.05 0 2.83L4 21.41c.39.39.9.59 1.41.59.51 0 1.02-.2 1.41-.59l7.78-7.78 2.81-2.81c.8-.78.8-2.07 0-2.86zM5.41 20L4 18.59l7.72-7.72 1.47 1.35L5.41 20z\"/>\n",
              "  </svg>\n",
              "      </button>\n",
              "      \n",
              "  <style>\n",
              "    .colab-df-container {\n",
              "      display:flex;\n",
              "      flex-wrap:wrap;\n",
              "      gap: 12px;\n",
              "    }\n",
              "\n",
              "    .colab-df-convert {\n",
              "      background-color: #E8F0FE;\n",
              "      border: none;\n",
              "      border-radius: 50%;\n",
              "      cursor: pointer;\n",
              "      display: none;\n",
              "      fill: #1967D2;\n",
              "      height: 32px;\n",
              "      padding: 0 0 0 0;\n",
              "      width: 32px;\n",
              "    }\n",
              "\n",
              "    .colab-df-convert:hover {\n",
              "      background-color: #E2EBFA;\n",
              "      box-shadow: 0px 1px 2px rgba(60, 64, 67, 0.3), 0px 1px 3px 1px rgba(60, 64, 67, 0.15);\n",
              "      fill: #174EA6;\n",
              "    }\n",
              "\n",
              "    [theme=dark] .colab-df-convert {\n",
              "      background-color: #3B4455;\n",
              "      fill: #D2E3FC;\n",
              "    }\n",
              "\n",
              "    [theme=dark] .colab-df-convert:hover {\n",
              "      background-color: #434B5C;\n",
              "      box-shadow: 0px 1px 3px 1px rgba(0, 0, 0, 0.15);\n",
              "      filter: drop-shadow(0px 1px 2px rgba(0, 0, 0, 0.3));\n",
              "      fill: #FFFFFF;\n",
              "    }\n",
              "  </style>\n",
              "\n",
              "      <script>\n",
              "        const buttonEl =\n",
              "          document.querySelector('#df-4d5625c1-e1e0-4d80-acf9-bee9b23d2bad button.colab-df-convert');\n",
              "        buttonEl.style.display =\n",
              "          google.colab.kernel.accessAllowed ? 'block' : 'none';\n",
              "\n",
              "        async function convertToInteractive(key) {\n",
              "          const element = document.querySelector('#df-4d5625c1-e1e0-4d80-acf9-bee9b23d2bad');\n",
              "          const dataTable =\n",
              "            await google.colab.kernel.invokeFunction('convertToInteractive',\n",
              "                                                     [key], {});\n",
              "          if (!dataTable) return;\n",
              "\n",
              "          const docLinkHtml = 'Like what you see? Visit the ' +\n",
              "            '<a target=\"_blank\" href=https://colab.research.google.com/notebooks/data_table.ipynb>data table notebook</a>'\n",
              "            + ' to learn more about interactive tables.';\n",
              "          element.innerHTML = '';\n",
              "          dataTable['output_type'] = 'display_data';\n",
              "          await google.colab.output.renderOutput(dataTable, element);\n",
              "          const docLink = document.createElement('div');\n",
              "          docLink.innerHTML = docLinkHtml;\n",
              "          element.appendChild(docLink);\n",
              "        }\n",
              "      </script>\n",
              "    </div>\n",
              "  </div>\n",
              "  "
            ]
          },
          "metadata": {},
          "execution_count": 6
        }
      ]
    },
    {
      "cell_type": "markdown",
      "source": [
        "***SCALING THE DATAFRAME USING MIN MAX SCALER***"
      ],
      "metadata": {
        "id": "S3PW7CF2Pe3n"
      }
    },
    {
      "cell_type": "code",
      "source": [
        "scaler = MinMaxScaler()\n",
        "PMS_df = pd.DataFrame()\n",
        "\n",
        "for city in dict_of_dfs.keys():\n",
        "    temp = pd.DataFrame(dict_of_dfs[city][\"PM2.5\"])\n",
        "    temp.columns = [\"PM2.5\" + \" \" + city[:4]]\n",
        "    PMS_df = pd.concat((PMS_df,temp),axis=1)\n",
        "\n",
        "PMS_df.head()"
      ],
      "metadata": {
        "colab": {
          "base_uri": "https://localhost:8080/",
          "height": 386
        },
        "id": "hTZjZxIDkyvg",
        "outputId": "6ea06e5b-b69d-4d47-c6c0-11d0df2384f2"
      },
      "execution_count": null,
      "outputs": [
        {
          "output_type": "execute_result",
          "data": {
            "text/plain": [
              "                     PM2.5 Guch  PM2.5 Tian  PM2.5 Dong  PM2.5 Guan  \\\n",
              "date                                                                  \n",
              "2013-03-01 00:00:00         6.0         6.0         9.0         4.0   \n",
              "2013-03-01 01:00:00         6.0         6.0         4.0         4.0   \n",
              "2013-03-01 02:00:00         5.0         6.0         7.0         3.0   \n",
              "2013-03-01 03:00:00         6.0         6.0         3.0         3.0   \n",
              "2013-03-01 04:00:00         5.0         5.0         3.0         3.0   \n",
              "\n",
              "                     PM2.5 Nong  PM2.5 Wanl  PM2.5 Ding  PM2.5 Shun  \\\n",
              "date                                                                  \n",
              "2013-03-01 00:00:00         5.0         8.0         4.0         3.0   \n",
              "2013-03-01 01:00:00         8.0         9.0         7.0        12.0   \n",
              "2013-03-01 02:00:00         3.0         3.0         5.0        14.0   \n",
              "2013-03-01 03:00:00         5.0        11.0         6.0        12.0   \n",
              "2013-03-01 04:00:00         5.0         3.0         5.0        12.0   \n",
              "\n",
              "                     PM2.5 Chan  PM2.5 Aoti  PM2.5 Huai  PM2.5 Wans  \n",
              "date                                                                 \n",
              "2013-03-01 00:00:00         3.0         4.0         7.0         9.0  \n",
              "2013-03-01 01:00:00         3.0         8.0         4.0        11.0  \n",
              "2013-03-01 02:00:00         3.0         7.0         4.0         8.0  \n",
              "2013-03-01 03:00:00         3.0         6.0         3.0         8.0  \n",
              "2013-03-01 04:00:00         3.0         3.0         3.0         8.0  "
            ],
            "text/html": [
              "\n",
              "  <div id=\"df-61c62aa2-0071-41ac-bc86-6596f3591166\">\n",
              "    <div class=\"colab-df-container\">\n",
              "      <div>\n",
              "<style scoped>\n",
              "    .dataframe tbody tr th:only-of-type {\n",
              "        vertical-align: middle;\n",
              "    }\n",
              "\n",
              "    .dataframe tbody tr th {\n",
              "        vertical-align: top;\n",
              "    }\n",
              "\n",
              "    .dataframe thead th {\n",
              "        text-align: right;\n",
              "    }\n",
              "</style>\n",
              "<table border=\"1\" class=\"dataframe\">\n",
              "  <thead>\n",
              "    <tr style=\"text-align: right;\">\n",
              "      <th></th>\n",
              "      <th>PM2.5 Guch</th>\n",
              "      <th>PM2.5 Tian</th>\n",
              "      <th>PM2.5 Dong</th>\n",
              "      <th>PM2.5 Guan</th>\n",
              "      <th>PM2.5 Nong</th>\n",
              "      <th>PM2.5 Wanl</th>\n",
              "      <th>PM2.5 Ding</th>\n",
              "      <th>PM2.5 Shun</th>\n",
              "      <th>PM2.5 Chan</th>\n",
              "      <th>PM2.5 Aoti</th>\n",
              "      <th>PM2.5 Huai</th>\n",
              "      <th>PM2.5 Wans</th>\n",
              "    </tr>\n",
              "    <tr>\n",
              "      <th>date</th>\n",
              "      <th></th>\n",
              "      <th></th>\n",
              "      <th></th>\n",
              "      <th></th>\n",
              "      <th></th>\n",
              "      <th></th>\n",
              "      <th></th>\n",
              "      <th></th>\n",
              "      <th></th>\n",
              "      <th></th>\n",
              "      <th></th>\n",
              "      <th></th>\n",
              "    </tr>\n",
              "  </thead>\n",
              "  <tbody>\n",
              "    <tr>\n",
              "      <th>2013-03-01 00:00:00</th>\n",
              "      <td>6.0</td>\n",
              "      <td>6.0</td>\n",
              "      <td>9.0</td>\n",
              "      <td>4.0</td>\n",
              "      <td>5.0</td>\n",
              "      <td>8.0</td>\n",
              "      <td>4.0</td>\n",
              "      <td>3.0</td>\n",
              "      <td>3.0</td>\n",
              "      <td>4.0</td>\n",
              "      <td>7.0</td>\n",
              "      <td>9.0</td>\n",
              "    </tr>\n",
              "    <tr>\n",
              "      <th>2013-03-01 01:00:00</th>\n",
              "      <td>6.0</td>\n",
              "      <td>6.0</td>\n",
              "      <td>4.0</td>\n",
              "      <td>4.0</td>\n",
              "      <td>8.0</td>\n",
              "      <td>9.0</td>\n",
              "      <td>7.0</td>\n",
              "      <td>12.0</td>\n",
              "      <td>3.0</td>\n",
              "      <td>8.0</td>\n",
              "      <td>4.0</td>\n",
              "      <td>11.0</td>\n",
              "    </tr>\n",
              "    <tr>\n",
              "      <th>2013-03-01 02:00:00</th>\n",
              "      <td>5.0</td>\n",
              "      <td>6.0</td>\n",
              "      <td>7.0</td>\n",
              "      <td>3.0</td>\n",
              "      <td>3.0</td>\n",
              "      <td>3.0</td>\n",
              "      <td>5.0</td>\n",
              "      <td>14.0</td>\n",
              "      <td>3.0</td>\n",
              "      <td>7.0</td>\n",
              "      <td>4.0</td>\n",
              "      <td>8.0</td>\n",
              "    </tr>\n",
              "    <tr>\n",
              "      <th>2013-03-01 03:00:00</th>\n",
              "      <td>6.0</td>\n",
              "      <td>6.0</td>\n",
              "      <td>3.0</td>\n",
              "      <td>3.0</td>\n",
              "      <td>5.0</td>\n",
              "      <td>11.0</td>\n",
              "      <td>6.0</td>\n",
              "      <td>12.0</td>\n",
              "      <td>3.0</td>\n",
              "      <td>6.0</td>\n",
              "      <td>3.0</td>\n",
              "      <td>8.0</td>\n",
              "    </tr>\n",
              "    <tr>\n",
              "      <th>2013-03-01 04:00:00</th>\n",
              "      <td>5.0</td>\n",
              "      <td>5.0</td>\n",
              "      <td>3.0</td>\n",
              "      <td>3.0</td>\n",
              "      <td>5.0</td>\n",
              "      <td>3.0</td>\n",
              "      <td>5.0</td>\n",
              "      <td>12.0</td>\n",
              "      <td>3.0</td>\n",
              "      <td>3.0</td>\n",
              "      <td>3.0</td>\n",
              "      <td>8.0</td>\n",
              "    </tr>\n",
              "  </tbody>\n",
              "</table>\n",
              "</div>\n",
              "      <button class=\"colab-df-convert\" onclick=\"convertToInteractive('df-61c62aa2-0071-41ac-bc86-6596f3591166')\"\n",
              "              title=\"Convert this dataframe to an interactive table.\"\n",
              "              style=\"display:none;\">\n",
              "        \n",
              "  <svg xmlns=\"http://www.w3.org/2000/svg\" height=\"24px\"viewBox=\"0 0 24 24\"\n",
              "       width=\"24px\">\n",
              "    <path d=\"M0 0h24v24H0V0z\" fill=\"none\"/>\n",
              "    <path d=\"M18.56 5.44l.94 2.06.94-2.06 2.06-.94-2.06-.94-.94-2.06-.94 2.06-2.06.94zm-11 1L8.5 8.5l.94-2.06 2.06-.94-2.06-.94L8.5 2.5l-.94 2.06-2.06.94zm10 10l.94 2.06.94-2.06 2.06-.94-2.06-.94-.94-2.06-.94 2.06-2.06.94z\"/><path d=\"M17.41 7.96l-1.37-1.37c-.4-.4-.92-.59-1.43-.59-.52 0-1.04.2-1.43.59L10.3 9.45l-7.72 7.72c-.78.78-.78 2.05 0 2.83L4 21.41c.39.39.9.59 1.41.59.51 0 1.02-.2 1.41-.59l7.78-7.78 2.81-2.81c.8-.78.8-2.07 0-2.86zM5.41 20L4 18.59l7.72-7.72 1.47 1.35L5.41 20z\"/>\n",
              "  </svg>\n",
              "      </button>\n",
              "      \n",
              "  <style>\n",
              "    .colab-df-container {\n",
              "      display:flex;\n",
              "      flex-wrap:wrap;\n",
              "      gap: 12px;\n",
              "    }\n",
              "\n",
              "    .colab-df-convert {\n",
              "      background-color: #E8F0FE;\n",
              "      border: none;\n",
              "      border-radius: 50%;\n",
              "      cursor: pointer;\n",
              "      display: none;\n",
              "      fill: #1967D2;\n",
              "      height: 32px;\n",
              "      padding: 0 0 0 0;\n",
              "      width: 32px;\n",
              "    }\n",
              "\n",
              "    .colab-df-convert:hover {\n",
              "      background-color: #E2EBFA;\n",
              "      box-shadow: 0px 1px 2px rgba(60, 64, 67, 0.3), 0px 1px 3px 1px rgba(60, 64, 67, 0.15);\n",
              "      fill: #174EA6;\n",
              "    }\n",
              "\n",
              "    [theme=dark] .colab-df-convert {\n",
              "      background-color: #3B4455;\n",
              "      fill: #D2E3FC;\n",
              "    }\n",
              "\n",
              "    [theme=dark] .colab-df-convert:hover {\n",
              "      background-color: #434B5C;\n",
              "      box-shadow: 0px 1px 3px 1px rgba(0, 0, 0, 0.15);\n",
              "      filter: drop-shadow(0px 1px 2px rgba(0, 0, 0, 0.3));\n",
              "      fill: #FFFFFF;\n",
              "    }\n",
              "  </style>\n",
              "\n",
              "      <script>\n",
              "        const buttonEl =\n",
              "          document.querySelector('#df-61c62aa2-0071-41ac-bc86-6596f3591166 button.colab-df-convert');\n",
              "        buttonEl.style.display =\n",
              "          google.colab.kernel.accessAllowed ? 'block' : 'none';\n",
              "\n",
              "        async function convertToInteractive(key) {\n",
              "          const element = document.querySelector('#df-61c62aa2-0071-41ac-bc86-6596f3591166');\n",
              "          const dataTable =\n",
              "            await google.colab.kernel.invokeFunction('convertToInteractive',\n",
              "                                                     [key], {});\n",
              "          if (!dataTable) return;\n",
              "\n",
              "          const docLinkHtml = 'Like what you see? Visit the ' +\n",
              "            '<a target=\"_blank\" href=https://colab.research.google.com/notebooks/data_table.ipynb>data table notebook</a>'\n",
              "            + ' to learn more about interactive tables.';\n",
              "          element.innerHTML = '';\n",
              "          dataTable['output_type'] = 'display_data';\n",
              "          await google.colab.output.renderOutput(dataTable, element);\n",
              "          const docLink = document.createElement('div');\n",
              "          docLink.innerHTML = docLinkHtml;\n",
              "          element.appendChild(docLink);\n",
              "        }\n",
              "      </script>\n",
              "    </div>\n",
              "  </div>\n",
              "  "
            ]
          },
          "metadata": {},
          "execution_count": 7
        }
      ]
    },
    {
      "cell_type": "markdown",
      "source": [
        "***TRAIN TEST SPLITTING OF THE SCALED FEATURES***"
      ],
      "metadata": {
        "id": "QpjJBAmmPq8R"
      }
    },
    {
      "cell_type": "code",
      "source": [
        "PMS_df.drop(\"PM2.5 Aoti\" , axis=1 , inplace = True)\n",
        "rows , cols = dict_of_dfs[\"Aotizhongxin\"].shape\n",
        "\n",
        "index_80_percent = int(rows*0.8)\n",
        "\n",
        "other_features = dict_of_dfs[\"Aotizhongxin\"].drop([\"No\",\"O3\" ,\"NO2\",\"SO2\",\"PM2.5\" , \"station\"], axis=1)\n",
        "\n",
        "Features = pd.concat((PMS_df ,other_features ), axis=1)\n",
        "Features_df_Train_set = Features.iloc[: index_80_percent]\n",
        "Features_df_Test_set = Features.iloc[index_80_percent :]\n",
        "\n",
        "print(Features_df_Train_set)"
      ],
      "metadata": {
        "colab": {
          "base_uri": "https://localhost:8080/"
        },
        "id": "NeHTx0VVk0vq",
        "outputId": "fa20d7de-b973-49f0-f9f3-17a21f5e6ffd"
      },
      "execution_count": null,
      "outputs": [
        {
          "output_type": "stream",
          "name": "stdout",
          "text": [
            "                     PM2.5 Guch  PM2.5 Tian  PM2.5 Dong  PM2.5 Guan  \\\n",
            "date                                                                  \n",
            "2013-03-01 00:00:00         6.0         6.0         9.0         4.0   \n",
            "2013-03-01 01:00:00         6.0         6.0         4.0         4.0   \n",
            "2013-03-01 02:00:00         5.0         6.0         7.0         3.0   \n",
            "2013-03-01 03:00:00         6.0         6.0         3.0         3.0   \n",
            "2013-03-01 04:00:00         5.0         5.0         3.0         3.0   \n",
            "...                         ...         ...         ...         ...   \n",
            "2016-05-12 14:00:00        22.0        21.0        27.0        20.0   \n",
            "2016-05-12 15:00:00        21.0        16.0        19.0        13.0   \n",
            "2016-05-12 16:00:00        28.0        23.0        19.0        15.0   \n",
            "2016-05-12 17:00:00        29.0        11.0        19.0         5.0   \n",
            "2016-05-12 18:00:00        19.0        15.0         3.0        10.0   \n",
            "\n",
            "                     PM2.5 Nong  PM2.5 Wanl  PM2.5 Ding  PM2.5 Shun  \\\n",
            "date                                                                  \n",
            "2013-03-01 00:00:00         5.0         8.0         4.0         3.0   \n",
            "2013-03-01 01:00:00         8.0         9.0         7.0        12.0   \n",
            "2013-03-01 02:00:00         3.0         3.0         5.0        14.0   \n",
            "2013-03-01 03:00:00         5.0        11.0         6.0        12.0   \n",
            "2013-03-01 04:00:00         5.0         3.0         5.0        12.0   \n",
            "...                         ...         ...         ...         ...   \n",
            "2016-05-12 14:00:00         5.0        18.0        24.0        10.0   \n",
            "2016-05-12 15:00:00         3.0        20.0        14.0         8.0   \n",
            "2016-05-12 16:00:00        15.0         3.0         4.0         5.0   \n",
            "2016-05-12 17:00:00        23.0         3.0         7.0         7.0   \n",
            "2016-05-12 18:00:00        18.0         3.0        29.0         6.0   \n",
            "\n",
            "                     PM2.5 Chan  PM2.5 Huai  PM2.5 Wans  PM10     CO  TEMP  \\\n",
            "date                                                                         \n",
            "2013-03-01 00:00:00         3.0         7.0         9.0   4.0  300.0  -0.7   \n",
            "2013-03-01 01:00:00         3.0         4.0        11.0   8.0  300.0  -1.1   \n",
            "2013-03-01 02:00:00         3.0         4.0         8.0   7.0  300.0  -1.1   \n",
            "2013-03-01 03:00:00         3.0         3.0         8.0   6.0  300.0  -1.4   \n",
            "2013-03-01 04:00:00         3.0         3.0         8.0   3.0  300.0  -2.0   \n",
            "...                         ...         ...         ...   ...    ...   ...   \n",
            "2016-05-12 14:00:00         8.0        14.0        28.0  16.0  200.0  17.8   \n",
            "2016-05-12 15:00:00        10.0         5.0         3.0  39.0  200.0  20.7   \n",
            "2016-05-12 16:00:00        13.0         3.0         3.0   5.0  100.0  21.1   \n",
            "2016-05-12 17:00:00        18.0         5.0         3.0  17.0  200.0  21.4   \n",
            "2016-05-12 18:00:00        18.0         7.0         3.0  16.0  200.0  21.3   \n",
            "\n",
            "                       PRES  DEWP  RAIN     wd  WSPM  \n",
            "date                                                  \n",
            "2013-03-01 00:00:00  1023.0 -18.8   0.0  337.5   4.4  \n",
            "2013-03-01 01:00:00  1023.2 -18.2   0.0    0.0   4.7  \n",
            "2013-03-01 02:00:00  1023.5 -18.2   0.0  337.5   5.6  \n",
            "2013-03-01 03:00:00  1024.5 -19.4   0.0  315.0   3.1  \n",
            "2013-03-01 04:00:00  1025.2 -19.5   0.0    0.0   2.0  \n",
            "...                     ...   ...   ...    ...   ...  \n",
            "2016-05-12 14:00:00  1010.2   0.0   0.0  315.0   3.1  \n",
            "2016-05-12 15:00:00  1009.7  -1.2   0.0  315.0   3.5  \n",
            "2016-05-12 16:00:00  1010.0  -4.2   0.0  337.5   4.3  \n",
            "2016-05-12 17:00:00  1010.4  -3.9   0.0    0.0   3.5  \n",
            "2016-05-12 18:00:00  1010.9  -5.6   0.0  337.5   3.9  \n",
            "\n",
            "[28051 rows x 19 columns]\n"
          ]
        }
      ]
    },
    {
      "cell_type": "markdown",
      "source": [
        "***SAVING THE SCALER METADATA FOR FURTHUR INVERSE TRANSFORMATION***"
      ],
      "metadata": {
        "id": "r8QHEo44P7KA"
      }
    },
    {
      "cell_type": "code",
      "source": [
        "col_names = Features.columns\n",
        "dates_train = Features_df_Train_set.index\n",
        "dates_test = Features_df_Test_set.index\n",
        "Features_Train_Norm = scaler.fit_transform(Features_df_Train_set)\n",
        "Features_Test_Norm = scaler.transform(Features_df_Test_set)\n",
        "\n",
        "Features_Train_Norm_df = pd.DataFrame(Features_Train_Norm)\n",
        "Features_Train_Norm_df.columns = col_names\n",
        "Features_Train_Norm_df.set_index(dates_train, inplace=True)\n",
        "\n",
        "Features_Test_Norm_df = pd.DataFrame(Features_Test_Norm)\n",
        "Features_Test_Norm_df.columns = col_names\n",
        "Features_Test_Norm_df.set_index(dates_test, inplace=True)\n",
        "\n",
        "dump(scaler, 'MinMaxScaler.joblib')"
      ],
      "metadata": {
        "colab": {
          "base_uri": "https://localhost:8080/"
        },
        "id": "uymZHC3jk3Jp",
        "outputId": "89486a25-5427-4d82-c7a7-fa98eb0b6e22"
      },
      "execution_count": null,
      "outputs": [
        {
          "output_type": "execute_result",
          "data": {
            "text/plain": [
              "['MinMaxScaler.joblib']"
            ]
          },
          "metadata": {},
          "execution_count": 9
        }
      ]
    },
    {
      "cell_type": "markdown",
      "source": [
        "***COMBINING TWO DATAFRAMES AND SAVING THEM INTO TRAIN AND TEST CSV FILES***"
      ],
      "metadata": {
        "id": "vfjTQ1IR0S-c"
      }
    },
    {
      "cell_type": "code",
      "source": [
        "Train_df = pd.concat((Features_Train_Norm_df , dict_of_dfs[\"Aotizhongxin\"][\"PM2.5\"].loc[dates_train]) , axis=1)\n",
        "Test_df = pd.concat((Features_Test_Norm_df , dict_of_dfs[\"Aotizhongxin\"][\"PM2.5\"].loc[dates_test]) , axis=1)\n",
        "\n",
        "Train_df.to_csv(\"train.csv\" , date_format  = \"%Y-%m-%d %H:%M:%S\" )\n",
        "Test_df.to_csv(\"test.csv\" , date_format  = \"%Y-%m-%d %H:%M:%S\" )"
      ],
      "metadata": {
        "id": "ox5VT1EDk6bZ"
      },
      "execution_count": null,
      "outputs": []
    },
    {
      "cell_type": "markdown",
      "source": [
        "***PEARSON CORRELATION PLOT***"
      ],
      "metadata": {
        "id": "ycNA6CVhQXzU"
      }
    },
    {
      "cell_type": "code",
      "source": [
        "fig,ax = plt.subplots(1,1,figsize = (7,7))\n",
        "ax = sns.heatmap(PMS_df.corr(),annot = True,vmax= 1 , vmin=-1)"
      ],
      "metadata": {
        "colab": {
          "base_uri": "https://localhost:8080/",
          "height": 483
        },
        "id": "87KLZgUwk9UI",
        "outputId": "5192e863-806a-461d-8db4-34676e42ddd4"
      },
      "execution_count": null,
      "outputs": [
        {
          "output_type": "display_data",
          "data": {
            "text/plain": [
              "<Figure size 504x504 with 2 Axes>"
            ],
            "image/png": "[encoded data removed]"
          },
          "metadata": {
            "needs_background": "light"
          }
        }
      ]
    },
    {
      "cell_type": "code",
      "source": [
        "import math\n",
        "import datetime \n",
        "import numpy as np\n",
        "import pandas as pd\n",
        "from joblib import load\n",
        "import tensorflow as tf\n",
        "import matplotlib.pyplot as plt\n",
        "from sklearn.preprocessing import MinMaxScaler\n",
        "\n",
        "!pip install tensorflow-addons==0.16.1\n",
        "import tensorflow_addons as tfa"
      ],
      "metadata": {
        "colab": {
          "base_uri": "https://localhost:8080/"
        },
        "id": "1bFxBMDfzb_f",
        "outputId": "e6fa8c53-a82e-47f2-bfdd-95bbfc3cbcb2"
      },
      "execution_count": null,
      "outputs": [
        {
          "output_type": "stream",
          "name": "stdout",
          "text": [
            "Looking in indexes: https://pypi.org/simple, https://us-python.pkg.dev/colab-wheels/public/simple/\n",
            "Collecting tensorflow-addons==0.16.1\n",
            "  Downloading tensorflow_addons-0.16.1-cp38-cp38-manylinux_2_12_x86_64.manylinux2010_x86_64.whl (1.1 MB)\n",
            "\u001b[K     |████████████████████████████████| 1.1 MB 33.4 MB/s \n",
            "\u001b[?25hRequirement already satisfied: typeguard>=2.7 in /usr/local/lib/python3.8/dist-packages (from tensorflow-addons==0.16.1) (2.7.1)\n",
            "Installing collected packages: tensorflow-addons\n",
            "Successfully installed tensorflow-addons-0.16.1\n"
          ]
        },
        {
          "output_type": "stream",
          "name": "stderr",
          "text": [
            "/usr/local/lib/python3.8/dist-packages/tensorflow_addons/utils/ensure_tf_install.py:53: UserWarning: Tensorflow Addons supports using Python ops for all Tensorflow versions above or equal to 2.6.0 and strictly below 2.9.0 (nightly versions are not supported). \n",
            " The versions of TensorFlow you are currently using is 2.9.2 and is not supported. \n",
            "Some things might work, some things might not.\n",
            "If you were to encounter a bug, do not file an issue.\n",
            "If you want to make sure you're using a tested and supported configuration, either change the TensorFlow version or the TensorFlow Addons's version. \n",
            "You can find the compatibility matrix in TensorFlow Addon's readme:\n",
            "https://github.com/tensorflow/addons\n",
            "  warnings.warn(\n"
          ]
        }
      ]
    },
    {
      "cell_type": "code",
      "source": [
        "def tf_dataset(series_x, series_y, batch_size, shuffle_buffer, shuffle=True):\n",
        "    ds = tf.data.Dataset.from_tensor_slices((series_x, series_y))\n",
        "    if shuffle:\n",
        "        ds = ds.cache().shuffle(shuffle_buffer).batch(batch_size).repeat()\n",
        "    else:\n",
        "        ds = ds.cache().batch(batch_size).repeat()\n",
        "    return ds\n",
        "\n",
        "def create_window_dataset(ds, lb, window_size):\n",
        "    windowed_dataset = list()\n",
        "    labels = list()\n",
        "    for i in range(window_size, ds.shape[0] + 1):\n",
        "        windowed_dataset.append(ds[i - window_size:i])\n",
        "        labels.append(lb[i - 1])\n",
        "    return np.array(windowed_dataset), np.array(labels)\n",
        "\n",
        "def get_metrics_result(metrics, true_labels, predicted_labels):    \n",
        "    metrics_result = list()\n",
        "    for metric in metrics:\n",
        "        metric.reset_states()\n",
        "        metric.update_state(true_labels, predicted_labels)\n",
        "        metrics_result.append(metric.result().numpy())    \n",
        "    return metrics_result"
      ],
      "metadata": {
        "id": "7ChRf2PnldL6"
      },
      "execution_count": null,
      "outputs": []
    },
    {
      "cell_type": "code",
      "source": [
        "Data_set = pd.read_csv(\"train.csv\" , parse_dates= [\"date\"] , index_col= \"date\")\n",
        "Test_set = pd.read_csv(\"test.csv\" , parse_dates= [\"date\"] , index_col= \"date\")\n",
        "\n",
        "len_Data = len(Data_set)\n",
        "Data_set_np = Data_set.to_numpy()\n",
        "\n",
        "Train_set_np = Data_set_np[:int(0.8*len_Data)]\n",
        "Val_set_np =  Data_set_np[int(0.8*len_Data):]\n",
        "Test_set_np = Test_set.to_numpy()"
      ],
      "metadata": {
        "id": "1JafyckPljPh"
      },
      "execution_count": null,
      "outputs": []
    },
    {
      "cell_type": "code",
      "source": [
        "BATCH_SIZE = 32\n",
        "LAG = 7\n",
        "WINDOW_SIZE = LAG *24\n",
        "SHUFFLE_BUFFER = 1000\n",
        "\n",
        "windowed_Train , labels_Train = create_window_dataset(Train_set_np[:,:-1] , Train_set_np[:,-1], window_size=WINDOW_SIZE)\n",
        "train_set = tf_dataset(windowed_Train, labels_Train, batch_size = BATCH_SIZE,shuffle_buffer = SHUFFLE_BUFFER,shuffle=True)\n",
        "unshuffled_train_set = tf_dataset(windowed_Train, labels_Train, BATCH_SIZE, BATCH_SIZE, False)\n",
        "\n",
        "windowed_val , labels_val = create_window_dataset(Val_set_np[:,:-1] , Val_set_np[:,-1],window_size=WINDOW_SIZE)\n",
        "val_set = tf_dataset(windowed_val, labels_val, batch_size = BATCH_SIZE,shuffle_buffer = SHUFFLE_BUFFER,shuffle=False)\n",
        "\n",
        "windowed_Test , labels_Test = create_window_dataset(Test_set_np[:,:-1] , Test_set_np[:,-1],window_size=WINDOW_SIZE)\n",
        "test_set = tf_dataset(windowed_Test, labels_Test, batch_size = BATCH_SIZE,shuffle_buffer = SHUFFLE_BUFFER,shuffle=False)"
      ],
      "metadata": {
        "id": "SaDZquCNlmMp"
      },
      "execution_count": null,
      "outputs": []
    },
    {
      "cell_type": "code",
      "source": [
        "tf.keras.backend.clear_session()\n",
        "\n",
        "def create_model():\n",
        "    model = tf.keras.models.Sequential([\n",
        "        tf.keras.layers.Conv1D(filters=64,\n",
        "                            kernel_size=3,\n",
        "                            strides=1,\n",
        "                            padding=\"causal\",\n",
        "                            activation=\"relu\",\n",
        "                            input_shape=windowed_Train.shape[-2:]),\n",
        "        tf.keras.layers.BatchNormalization(),\n",
        "        tf.keras.layers.Conv1D(filters=64,\n",
        "                            kernel_size=3,\n",
        "                            strides=1,\n",
        "                            padding=\"causal\",\n",
        "                            activation=\"relu\"),\n",
        "        tf.keras.layers.BatchNormalization(),\n",
        "        tf.keras.layers.Conv1D(filters=32,\n",
        "                            kernel_size=3,\n",
        "                            strides=1,\n",
        "                            padding=\"causal\",\n",
        "                            activation=\"relu\"),\n",
        "        tf.keras.layers.MaxPooling1D(pool_size=3),\n",
        "        tf.keras.layers.LSTM(100, dropout=0.2,return_sequences=True),\n",
        "        tf.keras.layers.LSTM(50, dropout=0.3,return_sequences=True),\n",
        "        tf.keras.layers.Flatten(),\n",
        "        tf.keras.layers.Dense(1, activation=\"relu\")\n",
        "    ])\n",
        "\n",
        "    lr_schedule = tf.keras.optimizers.schedules.ExponentialDecay(1e-2,decay_rate=0.9,decay_steps=1000)\n",
        "\n",
        "    model.compile(loss=tf.keras.losses.MeanSquaredError(),\n",
        "                optimizer=tf.keras.optimizers.Adam(learning_rate=lr_schedule),\n",
        "                metrics=['mae' , 'mse'])\n",
        "    return model\n",
        "\n",
        "model = create_model()\n",
        "model.summary()"
      ],
      "metadata": {
        "colab": {
          "base_uri": "https://localhost:8080/"
        },
        "id": "I4lmJWGDloiR",
        "outputId": "cf20d211-215b-4b01-abce-63fb2162d7d4"
      },
      "execution_count": null,
      "outputs": [
        {
          "output_type": "stream",
          "name": "stdout",
          "text": [
            "Model: \"sequential\"\n",
            "_________________________________________________________________\n",
            " Layer (type)                Output Shape              Param #   \n",
            "=================================================================\n",
            " conv1d (Conv1D)             (None, 168, 64)           3712      \n",
            "                                                                 \n",
            " batch_normalization (BatchN  (None, 168, 64)          256       \n",
            " ormalization)                                                   \n",
            "                                                                 \n",
            " conv1d_1 (Conv1D)           (None, 168, 64)           12352     \n",
            "                                                                 \n",
            " batch_normalization_1 (Batc  (None, 168, 64)          256       \n",
            " hNormalization)                                                 \n",
            "                                                                 \n",
            " conv1d_2 (Conv1D)           (None, 168, 32)           6176      \n",
            "                                                                 \n",
            " max_pooling1d (MaxPooling1D  (None, 56, 32)           0         \n",
            " )                                                               \n",
            "                                                                 \n",
            " lstm (LSTM)                 (None, 56, 100)           53200     \n",
            "                                                                 \n",
            " lstm_1 (LSTM)               (None, 56, 50)            30200     \n",
            "                                                                 \n",
            " flatten (Flatten)           (None, 2800)              0         \n",
            "                                                                 \n",
            " dense (Dense)               (None, 1)                 2801      \n",
            "                                                                 \n",
            "=================================================================\n",
            "Total params: 108,953\n",
            "Trainable params: 108,697\n",
            "Non-trainable params: 256\n",
            "_________________________________________________________________\n"
          ]
        }
      ]
    },
    {
      "cell_type": "code",
      "source": [
        "TRAIN_STEP = math.ceil(windowed_Train.shape[0] / BATCH_SIZE)\n",
        "VALIDATION_STEP = math.ceil(windowed_val.shape[0] / BATCH_SIZE)\n",
        "TEST_STEP = math.ceil( windowed_Test.shape[0] / BATCH_SIZE)\n",
        "log_dir = \"logs_lag_\"+str(LAG)\n",
        "checkpoint_path = \"checkpoints_lag_\"+str(LAG)+\"/cp.ckpt\""
      ],
      "metadata": {
        "id": "RiLvAkn0lxCK"
      },
      "execution_count": null,
      "outputs": []
    },
    {
      "cell_type": "code",
      "source": [
        "tensorboard_callback = tf.keras.callbacks.TensorBoard(log_dir=log_dir, histogram_freq=1)\n",
        "early_stopping_cb = tf.keras.callbacks.EarlyStopping(monitor=\"loss\",\n",
        "                                                      min_delta=1e-3,\n",
        "                                                      patience=50,\n",
        "                                                      verbose=1,\n",
        "                                                      restore_best_weights=True)\n",
        "\n",
        "check_point_cb = tf.keras.callbacks.ModelCheckpoint(filepath=checkpoint_path, save_weights_only=True, verbose=1)"
      ],
      "metadata": {
        "id": "c_YpRvw2mLCy"
      },
      "execution_count": null,
      "outputs": []
    },
    {
      "cell_type": "code",
      "source": [
        "history = model.fit(train_set,\n",
        "                    epochs=50,\n",
        "                    steps_per_epoch=TRAIN_STEP,\n",
        "                    validation_data=val_set,\n",
        "                    validation_steps=VALIDATION_STEP,\n",
        "                    verbose=1,\n",
        "                    callbacks=[early_stopping_cb,check_point_cb,tensorboard_callback])"
      ],
      "metadata": {
        "colab": {
          "base_uri": "https://localhost:8080/"
        },
        "id": "kBNz9sEZmMuh",
        "outputId": "cddbe20d-7d2d-4ed5-b52f-001891dfd210"
      },
      "execution_count": null,
      "outputs": [
        {
          "metadata": {
            "tags": null
          },
          "name": "stdout",
          "output_type": "stream",
          "text": [
            "Epoch 1/50\n"
          ]
        },
        {
          "metadata": {
            "tags": null
          },
          "name": "stderr",
          "output_type": "stream",
          "text": [
            "WARNING:tensorflow:Detecting that an object or model or tf.train.Checkpoint is being deleted with unrestored values. See the following logs for the specific values in question. To silence these warnings, use `status.expect_partial()`. See https://www.tensorflow.org/api_docs/python/tf/train/Checkpoint#restorefor details about the status object returned by the restore function.\n",
            "WARNING:tensorflow:Value in checkpoint could not be found in the restored object: (root).optimizer.iter\n",
            "WARNING:tensorflow:Value in checkpoint could not be found in the restored object: (root).optimizer.beta_1\n",
            "WARNING:tensorflow:Value in checkpoint could not be found in the restored object: (root).optimizer.beta_2\n",
            "WARNING:tensorflow:Value in checkpoint could not be found in the restored object: (root).optimizer.decay\n"
          ]
        },
        {
          "output_type": "stream",
          "name": "stdout",
          "text": [
            "697/697 [==============================] - ETA: 0s - loss: 3403.4414 - mae: 40.5460 - mse: 3403.4414\n",
            "Epoch 1: saving model to checkpoints_lag_7/cp.ckpt\n",
            "697/697 [==============================] - 15s 15ms/step - loss: 3403.4414 - mae: 40.5460 - mse: 3403.4414 - val_loss: 5774.3887 - val_mae: 39.5765 - val_mse: 5774.3887\n",
            "Epoch 2/50\n",
            "695/697 [============================>.] - ETA: 0s - loss: 1740.7570 - mae: 27.8267 - mse: 1740.7570\n",
            "Epoch 2: saving model to checkpoints_lag_7/cp.ckpt\n",
            "697/697 [==============================] - 9s 13ms/step - loss: 1739.0594 - mae: 27.8066 - mse: 1739.0594 - val_loss: 4510.3672 - val_mae: 38.2908 - val_mse: 4510.3672\n",
            "Epoch 3/50\n",
            "695/697 [============================>.] - ETA: 0s - loss: 1333.9104 - mae: 23.9011 - mse: 1333.9104\n",
            "Epoch 3: saving model to checkpoints_lag_7/cp.ckpt\n",
            "697/697 [==============================] - 10s 15ms/step - loss: 1332.9181 - mae: 23.8941 - mse: 1332.9181 - val_loss: 3780.1013 - val_mae: 31.3494 - val_mse: 3780.1013\n",
            "Epoch 4/50\n",
            "693/697 [============================>.] - ETA: 0s - loss: 1119.7659 - mae: 22.0175 - mse: 1119.7659\n",
            "Epoch 4: saving model to checkpoints_lag_7/cp.ckpt\n",
            "697/697 [==============================] - 9s 13ms/step - loss: 1116.8551 - mae: 21.9868 - mse: 1116.8551 - val_loss: 3676.3333 - val_mae: 31.0662 - val_mse: 3676.3333\n",
            "Epoch 5/50\n",
            "695/697 [============================>.] - ETA: 0s - loss: 992.1575 - mae: 20.6273 - mse: 992.1575\n",
            "Epoch 5: saving model to checkpoints_lag_7/cp.ckpt\n",
            "697/697 [==============================] - 9s 13ms/step - loss: 991.4575 - mae: 20.6210 - mse: 991.4575 - val_loss: 3947.1790 - val_mae: 28.5528 - val_mse: 3947.1790\n",
            "Epoch 6/50\n",
            "697/697 [==============================] - ETA: 0s - loss: 936.1602 - mae: 20.2614 - mse: 936.1602\n",
            "Epoch 6: saving model to checkpoints_lag_7/cp.ckpt\n",
            "697/697 [==============================] - 9s 13ms/step - loss: 936.1602 - mae: 20.2614 - mse: 936.1602 - val_loss: 4815.5449 - val_mae: 43.6292 - val_mse: 4815.5449\n",
            "Epoch 7/50\n",
            "695/697 [============================>.] - ETA: 0s - loss: 860.4253 - mae: 19.2351 - mse: 860.4253\n",
            "Epoch 7: saving model to checkpoints_lag_7/cp.ckpt\n",
            "697/697 [==============================] - 9s 13ms/step - loss: 859.4701 - mae: 19.2214 - mse: 859.4701 - val_loss: 2638.4602 - val_mae: 26.7272 - val_mse: 2638.4602\n",
            "Epoch 8/50\n",
            "696/697 [============================>.] - ETA: 0s - loss: 860.1718 - mae: 19.2176 - mse: 860.1718\n",
            "Epoch 8: saving model to checkpoints_lag_7/cp.ckpt\n",
            "697/697 [==============================] - 9s 13ms/step - loss: 860.1359 - mae: 19.2171 - mse: 860.1359 - val_loss: 3580.0559 - val_mae: 32.7661 - val_mse: 3580.0559\n",
            "Epoch 9/50\n",
            "693/697 [============================>.] - ETA: 0s - loss: 863.6435 - mae: 19.5201 - mse: 863.6435\n",
            "Epoch 9: saving model to checkpoints_lag_7/cp.ckpt\n",
            "697/697 [==============================] - 9s 13ms/step - loss: 861.1853 - mae: 19.4887 - mse: 861.1853 - val_loss: 2818.2979 - val_mae: 36.2925 - val_mse: 2818.2979\n",
            "Epoch 10/50\n",
            "697/697 [==============================] - ETA: 0s - loss: 842.6725 - mae: 19.0935 - mse: 842.6725\n",
            "Epoch 10: saving model to checkpoints_lag_7/cp.ckpt\n",
            "697/697 [==============================] - 9s 13ms/step - loss: 842.6725 - mae: 19.0935 - mse: 842.6725 - val_loss: 3189.4202 - val_mae: 33.1650 - val_mse: 3189.4202\n",
            "Epoch 11/50\n",
            "695/697 [============================>.] - ETA: 0s - loss: 821.6807 - mae: 18.9161 - mse: 821.6807\n",
            "Epoch 11: saving model to checkpoints_lag_7/cp.ckpt\n",
            "697/697 [==============================] - 9s 13ms/step - loss: 820.8688 - mae: 18.9058 - mse: 820.8688 - val_loss: 3161.3074 - val_mae: 33.7928 - val_mse: 3161.3074\n",
            "Epoch 12/50\n",
            "693/697 [============================>.] - ETA: 0s - loss: 825.5765 - mae: 18.9260 - mse: 825.5765\n",
            "Epoch 12: saving model to checkpoints_lag_7/cp.ckpt\n",
            "697/697 [==============================] - 9s 13ms/step - loss: 823.5236 - mae: 18.8997 - mse: 823.5236 - val_loss: 1958.6124 - val_mae: 25.0104 - val_mse: 1958.6124\n",
            "Epoch 13/50\n",
            "693/697 [============================>.] - ETA: 0s - loss: 762.4297 - mae: 18.3336 - mse: 762.4297\n",
            "Epoch 13: saving model to checkpoints_lag_7/cp.ckpt\n",
            "697/697 [==============================] - 9s 13ms/step - loss: 760.6617 - mae: 18.3127 - mse: 760.6617 - val_loss: 2421.6392 - val_mae: 29.1406 - val_mse: 2421.6392\n",
            "Epoch 14/50\n",
            "695/697 [============================>.] - ETA: 0s - loss: 735.6644 - mae: 18.0027 - mse: 735.6644\n",
            "Epoch 14: saving model to checkpoints_lag_7/cp.ckpt\n",
            "697/697 [==============================] - 9s 13ms/step - loss: 735.2017 - mae: 17.9998 - mse: 735.2017 - val_loss: 2650.1958 - val_mae: 30.4191 - val_mse: 2650.1958\n",
            "Epoch 15/50\n",
            "697/697 [==============================] - ETA: 0s - loss: 730.0801 - mae: 17.8153 - mse: 730.0801\n",
            "Epoch 15: saving model to checkpoints_lag_7/cp.ckpt\n",
            "697/697 [==============================] - 9s 13ms/step - loss: 730.0801 - mae: 17.8153 - mse: 730.0801 - val_loss: 2406.1694 - val_mae: 27.9875 - val_mse: 2406.1694\n",
            "Epoch 16/50\n",
            "693/697 [============================>.] - ETA: 0s - loss: 726.2324 - mae: 17.8575 - mse: 726.2324\n",
            "Epoch 16: saving model to checkpoints_lag_7/cp.ckpt\n",
            "697/697 [==============================] - 9s 13ms/step - loss: 723.9823 - mae: 17.8231 - mse: 723.9823 - val_loss: 1871.6038 - val_mae: 25.4599 - val_mse: 1871.6038\n",
            "Epoch 17/50\n",
            "694/697 [============================>.] - ETA: 0s - loss: 727.9869 - mae: 17.8442 - mse: 727.9869\n",
            "Epoch 17: saving model to checkpoints_lag_7/cp.ckpt\n",
            "697/697 [==============================] - 9s 13ms/step - loss: 726.9891 - mae: 17.8340 - mse: 726.9891 - val_loss: 2715.0176 - val_mae: 28.8725 - val_mse: 2715.0176\n",
            "Epoch 18/50\n",
            "695/697 [============================>.] - ETA: 0s - loss: 728.6948 - mae: 17.6730 - mse: 728.6948\n",
            "Epoch 18: saving model to checkpoints_lag_7/cp.ckpt\n",
            "697/697 [==============================] - 9s 13ms/step - loss: 728.1534 - mae: 17.6677 - mse: 728.1534 - val_loss: 2849.9204 - val_mae: 33.6548 - val_mse: 2849.9204\n",
            "Epoch 19/50\n",
            "694/697 [============================>.] - ETA: 0s - loss: 682.4139 - mae: 17.1813 - mse: 682.4139\n",
            "Epoch 19: saving model to checkpoints_lag_7/cp.ckpt\n",
            "697/697 [==============================] - 9s 13ms/step - loss: 681.7033 - mae: 17.1749 - mse: 681.7033 - val_loss: 2064.4939 - val_mae: 24.4833 - val_mse: 2064.4939\n",
            "Epoch 20/50\n",
            "696/697 [============================>.] - ETA: 0s - loss: 699.3338 - mae: 17.3387 - mse: 699.3338\n",
            "Epoch 20: saving model to checkpoints_lag_7/cp.ckpt\n",
            "697/697 [==============================] - 9s 13ms/step - loss: 699.3024 - mae: 17.3379 - mse: 699.3024 - val_loss: 2382.5574 - val_mae: 26.8591 - val_mse: 2382.5574\n",
            "Epoch 21/50\n",
            "693/697 [============================>.] - ETA: 0s - loss: 694.9698 - mae: 17.2089 - mse: 694.9698\n",
            "Epoch 21: saving model to checkpoints_lag_7/cp.ckpt\n",
            "697/697 [==============================] - 9s 13ms/step - loss: 693.5031 - mae: 17.1924 - mse: 693.5031 - val_loss: 2516.9297 - val_mae: 32.1893 - val_mse: 2516.9297\n",
            "Epoch 22/50\n",
            "697/697 [==============================] - ETA: 0s - loss: 686.1716 - mae: 17.2663 - mse: 686.1716\n",
            "Epoch 22: saving model to checkpoints_lag_7/cp.ckpt\n",
            "697/697 [==============================] - 9s 13ms/step - loss: 686.1716 - mae: 17.2663 - mse: 686.1716 - val_loss: 2430.9736 - val_mae: 30.2364 - val_mse: 2430.9736\n",
            "Epoch 23/50\n",
            "694/697 [============================>.] - ETA: 0s - loss: 687.9976 - mae: 17.3404 - mse: 687.9976\n",
            "Epoch 23: saving model to checkpoints_lag_7/cp.ckpt\n",
            "697/697 [==============================] - 10s 15ms/step - loss: 686.5374 - mae: 17.3216 - mse: 686.5374 - val_loss: 2248.6384 - val_mae: 27.9074 - val_mse: 2248.6384\n",
            "Epoch 24/50\n",
            "695/697 [============================>.] - ETA: 0s - loss: 687.1681 - mae: 17.2169 - mse: 687.1681\n",
            "Epoch 24: saving model to checkpoints_lag_7/cp.ckpt\n",
            "697/697 [==============================] - 9s 13ms/step - loss: 686.7369 - mae: 17.2127 - mse: 686.7369 - val_loss: 2119.2866 - val_mae: 26.4914 - val_mse: 2119.2866\n",
            "Epoch 25/50\n",
            "693/697 [============================>.] - ETA: 0s - loss: 670.4219 - mae: 17.0892 - mse: 670.4219\n",
            "Epoch 25: saving model to checkpoints_lag_7/cp.ckpt\n",
            "697/697 [==============================] - 9s 13ms/step - loss: 669.1194 - mae: 17.0731 - mse: 669.1194 - val_loss: 2096.3757 - val_mae: 27.1472 - val_mse: 2096.3757\n",
            "Epoch 26/50\n",
            "695/697 [============================>.] - ETA: 0s - loss: 679.2427 - mae: 17.1938 - mse: 679.2427\n",
            "Epoch 26: saving model to checkpoints_lag_7/cp.ckpt\n",
            "697/697 [==============================] - 9s 13ms/step - loss: 678.6715 - mae: 17.1870 - mse: 678.6715 - val_loss: 2032.0002 - val_mae: 26.5341 - val_mse: 2032.0002\n",
            "Epoch 27/50\n",
            "694/697 [============================>.] - ETA: 0s - loss: 658.6003 - mae: 16.9113 - mse: 658.6003\n",
            "Epoch 27: saving model to checkpoints_lag_7/cp.ckpt\n",
            "697/697 [==============================] - 9s 13ms/step - loss: 657.5640 - mae: 16.8983 - mse: 657.5640 - val_loss: 2068.5352 - val_mae: 28.5499 - val_mse: 2068.5352\n",
            "Epoch 28/50\n",
            "697/697 [==============================] - ETA: 0s - loss: 667.7846 - mae: 17.0819 - mse: 667.7846\n",
            "Epoch 28: saving model to checkpoints_lag_7/cp.ckpt\n",
            "697/697 [==============================] - 9s 13ms/step - loss: 667.7846 - mae: 17.0819 - mse: 667.7846 - val_loss: 1833.3748 - val_mae: 24.7077 - val_mse: 1833.3748\n",
            "Epoch 29/50\n",
            "697/697 [==============================] - ETA: 0s - loss: 676.2927 - mae: 17.2155 - mse: 676.2927\n",
            "Epoch 29: saving model to checkpoints_lag_7/cp.ckpt\n",
            "697/697 [==============================] - 9s 13ms/step - loss: 676.2927 - mae: 17.2155 - mse: 676.2927 - val_loss: 2124.9236 - val_mae: 29.3513 - val_mse: 2124.9236\n",
            "Epoch 30/50\n",
            "694/697 [============================>.] - ETA: 0s - loss: 681.2195 - mae: 17.3570 - mse: 681.2195\n",
            "Epoch 30: saving model to checkpoints_lag_7/cp.ckpt\n",
            "697/697 [==============================] - 9s 13ms/step - loss: 679.9957 - mae: 17.3440 - mse: 679.9957 - val_loss: 1867.0796 - val_mae: 26.1089 - val_mse: 1867.0796\n",
            "Epoch 31/50\n",
            "695/697 [============================>.] - ETA: 0s - loss: 671.7778 - mae: 17.2149 - mse: 671.7778\n",
            "Epoch 31: saving model to checkpoints_lag_7/cp.ckpt\n",
            "697/697 [==============================] - 9s 13ms/step - loss: 671.1235 - mae: 17.2056 - mse: 671.1235 - val_loss: 1857.0907 - val_mae: 25.7606 - val_mse: 1857.0907\n",
            "Epoch 32/50\n",
            "696/697 [============================>.] - ETA: 0s - loss: 676.0244 - mae: 17.2203 - mse: 676.0244\n",
            "Epoch 32: saving model to checkpoints_lag_7/cp.ckpt\n",
            "697/697 [==============================] - 9s 13ms/step - loss: 675.9965 - mae: 17.2199 - mse: 675.9965 - val_loss: 1619.9141 - val_mae: 22.4068 - val_mse: 1619.9141\n",
            "Epoch 33/50\n",
            "696/697 [============================>.] - ETA: 0s - loss: 654.0905 - mae: 17.0134 - mse: 654.0905\n",
            "Epoch 33: saving model to checkpoints_lag_7/cp.ckpt\n",
            "697/697 [==============================] - 9s 13ms/step - loss: 654.0628 - mae: 17.0129 - mse: 654.0628 - val_loss: 1798.2427 - val_mae: 25.6707 - val_mse: 1798.2427\n",
            "Epoch 34/50\n",
            "697/697 [==============================] - ETA: 0s - loss: 661.5449 - mae: 17.0650 - mse: 661.5449\n",
            "Epoch 34: saving model to checkpoints_lag_7/cp.ckpt\n",
            "697/697 [==============================] - 9s 13ms/step - loss: 661.5449 - mae: 17.0650 - mse: 661.5449 - val_loss: 1805.1178 - val_mae: 25.9377 - val_mse: 1805.1178\n",
            "Epoch 35/50\n",
            "695/697 [============================>.] - ETA: 0s - loss: 640.1603 - mae: 16.7969 - mse: 640.1603\n",
            "Epoch 35: saving model to checkpoints_lag_7/cp.ckpt\n",
            "697/697 [==============================] - 9s 13ms/step - loss: 639.5437 - mae: 16.7872 - mse: 639.5437 - val_loss: 1664.5000 - val_mae: 23.6901 - val_mse: 1664.5000\n",
            "Epoch 36/50\n",
            "695/697 [============================>.] - ETA: 0s - loss: 677.6901 - mae: 17.4102 - mse: 677.6901\n",
            "Epoch 36: saving model to checkpoints_lag_7/cp.ckpt\n",
            "697/697 [==============================] - 9s 13ms/step - loss: 676.9632 - mae: 17.3995 - mse: 676.9632 - val_loss: 1533.0093 - val_mae: 22.2245 - val_mse: 1533.0093\n",
            "Epoch 37/50\n",
            "695/697 [============================>.] - ETA: 0s - loss: 655.0962 - mae: 17.0776 - mse: 655.0962\n",
            "Epoch 37: saving model to checkpoints_lag_7/cp.ckpt\n",
            "697/697 [==============================] - 9s 13ms/step - loss: 654.5432 - mae: 17.0680 - mse: 654.5432 - val_loss: 1668.5364 - val_mae: 23.2278 - val_mse: 1668.5364\n",
            "Epoch 38/50\n",
            "695/697 [============================>.] - ETA: 0s - loss: 650.0936 - mae: 16.9128 - mse: 650.0936\n",
            "Epoch 38: saving model to checkpoints_lag_7/cp.ckpt\n",
            "697/697 [==============================] - 9s 13ms/step - loss: 649.4151 - mae: 16.9035 - mse: 649.4151 - val_loss: 1560.6390 - val_mae: 22.0394 - val_mse: 1560.6390\n",
            "Epoch 39/50\n",
            "693/697 [============================>.] - ETA: 0s - loss: 651.0569 - mae: 16.9006 - mse: 651.0569\n",
            "Epoch 39: saving model to checkpoints_lag_7/cp.ckpt\n",
            "697/697 [==============================] - 9s 13ms/step - loss: 649.5038 - mae: 16.8807 - mse: 649.5038 - val_loss: 1562.2078 - val_mae: 21.6557 - val_mse: 1562.2078\n",
            "Epoch 40/50\n",
            "697/697 [==============================] - ETA: 0s - loss: 638.7272 - mae: 16.6526 - mse: 638.7272\n",
            "Epoch 40: saving model to checkpoints_lag_7/cp.ckpt\n",
            "697/697 [==============================] - 9s 13ms/step - loss: 638.7272 - mae: 16.6526 - mse: 638.7272 - val_loss: 1687.5819 - val_mae: 23.5872 - val_mse: 1687.5819\n",
            "Epoch 41/50\n",
            "695/697 [============================>.] - ETA: 0s - loss: 630.5624 - mae: 16.5526 - mse: 630.5624\n",
            "Epoch 41: saving model to checkpoints_lag_7/cp.ckpt\n",
            "697/697 [==============================] - 9s 13ms/step - loss: 630.0217 - mae: 16.5475 - mse: 630.0217 - val_loss: 1829.6270 - val_mae: 22.8106 - val_mse: 1829.6270\n",
            "Epoch 42/50\n",
            "693/697 [============================>.] - ETA: 0s - loss: 631.7562 - mae: 16.5949 - mse: 631.7562\n",
            "Epoch 42: saving model to checkpoints_lag_7/cp.ckpt\n",
            "697/697 [==============================] - 9s 13ms/step - loss: 629.9155 - mae: 16.5654 - mse: 629.9155 - val_loss: 1533.4668 - val_mae: 20.9917 - val_mse: 1533.4668\n",
            "Epoch 43/50\n",
            "696/697 [============================>.] - ETA: 0s - loss: 636.6616 - mae: 16.6814 - mse: 636.6616\n",
            "Epoch 43: saving model to checkpoints_lag_7/cp.ckpt\n",
            "697/697 [==============================] - 10s 15ms/step - loss: 636.7262 - mae: 16.6827 - mse: 636.7262 - val_loss: 1483.0165 - val_mae: 20.3782 - val_mse: 1483.0165\n",
            "Epoch 44/50\n",
            "695/697 [============================>.] - ETA: 0s - loss: 631.7079 - mae: 16.5171 - mse: 631.7079\n",
            "Epoch 44: saving model to checkpoints_lag_7/cp.ckpt\n",
            "697/697 [==============================] - 9s 13ms/step - loss: 631.0299 - mae: 16.5073 - mse: 631.0299 - val_loss: 1444.0321 - val_mae: 19.4092 - val_mse: 1444.0321\n",
            "Epoch 45/50\n",
            "697/697 [==============================] - ETA: 0s - loss: 626.4767 - mae: 16.4196 - mse: 626.4767\n",
            "Epoch 45: saving model to checkpoints_lag_7/cp.ckpt\n",
            "697/697 [==============================] - 10s 14ms/step - loss: 626.4767 - mae: 16.4196 - mse: 626.4767 - val_loss: 1463.5974 - val_mae: 19.6612 - val_mse: 1463.5974\n",
            "Epoch 46/50\n",
            "697/697 [==============================] - ETA: 0s - loss: 640.9705 - mae: 16.6131 - mse: 640.9705\n",
            "Epoch 46: saving model to checkpoints_lag_7/cp.ckpt\n",
            "697/697 [==============================] - 9s 13ms/step - loss: 640.9705 - mae: 16.6131 - mse: 640.9705 - val_loss: 1390.4008 - val_mae: 18.7269 - val_mse: 1390.4008\n",
            "Epoch 47/50\n",
            "696/697 [============================>.] - ETA: 0s - loss: 631.3946 - mae: 16.4583 - mse: 631.3946\n",
            "Epoch 47: saving model to checkpoints_lag_7/cp.ckpt\n",
            "697/697 [==============================] - 9s 13ms/step - loss: 631.3699 - mae: 16.4579 - mse: 631.3699 - val_loss: 1381.4260 - val_mae: 18.6108 - val_mse: 1381.4260\n",
            "Epoch 48/50\n",
            "694/697 [============================>.] - ETA: 0s - loss: 637.2430 - mae: 16.6168 - mse: 637.2430\n",
            "Epoch 48: saving model to checkpoints_lag_7/cp.ckpt\n",
            "697/697 [==============================] - 9s 13ms/step - loss: 636.0333 - mae: 16.5977 - mse: 636.0333 - val_loss: 1401.2878 - val_mae: 18.8968 - val_mse: 1401.2878\n",
            "Epoch 49/50\n",
            "695/697 [============================>.] - ETA: 0s - loss: 632.9810 - mae: 16.5253 - mse: 632.9810\n",
            "Epoch 49: saving model to checkpoints_lag_7/cp.ckpt\n",
            "697/697 [==============================] - 9s 13ms/step - loss: 632.6781 - mae: 16.5222 - mse: 632.6781 - val_loss: 1370.1221 - val_mae: 18.8606 - val_mse: 1370.1221\n",
            "Epoch 50/50\n",
            "697/697 [==============================] - ETA: 0s - loss: 642.2047 - mae: 16.6305 - mse: 642.2047\n",
            "Epoch 50: saving model to checkpoints_lag_7/cp.ckpt\n",
            "697/697 [==============================] - 10s 14ms/step - loss: 642.2047 - mae: 16.6305 - mse: 642.2047 - val_loss: 1335.5275 - val_mae: 18.1576 - val_mse: 1335.5275\n"
          ]
        }
      ]
    },
    {
      "cell_type": "code",
      "source": [
        "history.history.keys()\n",
        "\n",
        "train_mae = history.history[\"mae\"]\n",
        "val_mae = history.history[\"val_mae\"]\n",
        "train_mse = history.history[\"mse\"]\n",
        "val_mse = history.history[\"val_mse\"]"
      ],
      "metadata": {
        "id": "Sf6yYPnrnsNk"
      },
      "execution_count": null,
      "outputs": []
    },
    {
      "cell_type": "code",
      "source": [
        "plt.figure()\n",
        "plt.plot( train_mse,label = \"Train\")\n",
        "plt.plot(val_mse, label = \"Validation\")\n",
        "plt.xlabel(\"Epochs\")\n",
        "plt.ylabel(\"MSE Loss\")\n",
        "plt.legend()"
      ],
      "metadata": {
        "id": "M7JoxSkfmssv",
        "colab": {
          "base_uri": "https://localhost:8080/",
          "height": 299
        },
        "outputId": "38b34c5e-65aa-4b98-99f1-dfd81306e6b0"
      },
      "execution_count": null,
      "outputs": [
        {
          "output_type": "execute_result",
          "data": {
            "text/plain": [
              "<matplotlib.legend.Legend at 0x7f267fe2dfd0>"
            ]
          },
          "metadata": {},
          "execution_count": 38
        },
        {
          "output_type": "display_data",
          "data": {
            "text/plain": [
              "<Figure size 432x288 with 1 Axes>"
            ],
            "image/png": "[encoded data removed]"
          },
          "metadata": {
            "needs_background": "light"
          }
        }
      ]
    },
    {
      "cell_type": "code",
      "source": [
        "plt.figure()\n",
        "plt.plot( train_mae,label = \"Train\")\n",
        "plt.plot(val_mae, label = \"Validation\")\n",
        "plt.xlabel(\"Epochs\")\n",
        "plt.ylabel(\"MAE Loss\")\n",
        "plt.legend()"
      ],
      "metadata": {
        "id": "tR8c6GpBmQNh",
        "colab": {
          "base_uri": "https://localhost:8080/",
          "height": 296
        },
        "outputId": "91ac0323-0666-4864-a10b-d70b7636914b"
      },
      "execution_count": null,
      "outputs": [
        {
          "output_type": "execute_result",
          "data": {
            "text/plain": [
              "<matplotlib.legend.Legend at 0x7f267e22af10>"
            ]
          },
          "metadata": {},
          "execution_count": 39
        },
        {
          "output_type": "display_data",
          "data": {
            "text/plain": [
              "<Figure size 432x288 with 1 Axes>"
            ],
            "image/png": "[encoded data removed]"
          },
          "metadata": {
            "needs_background": "light"
          }
        }
      ]
    },
    {
      "cell_type": "code",
      "source": [
        "model = create_model()\n",
        "model.load_weights(checkpoint_path)\n",
        "\n",
        "forecast_test = model.predict(test_set, steps=TEST_STEP, verbose=1)"
      ],
      "metadata": {
        "id": "xF4-f9nbnisy",
        "colab": {
          "base_uri": "https://localhost:8080/"
        },
        "outputId": "9d789564-43a9-47bb-f786-ea7d4e2b0891"
      },
      "execution_count": null,
      "outputs": [
        {
          "output_type": "stream",
          "name": "stdout",
          "text": [
            "214/214 [==============================] - 2s 6ms/step\n"
          ]
        }
      ]
    },
    {
      "cell_type": "code",
      "source": [
        "from sklearn.metrics import mean_absolute_error , r2_score , mean_squared_error\n",
        "\n",
        "test_MAE = mean_absolute_error(labels_Test, forecast_test)\n",
        "test_R2 = r2_score(labels_Test, forecast_test)\n",
        "test_RMSE = mean_squared_error(labels_Test, forecast_test)**0.5\n",
        "\n",
        "print(f\"MAE: {round(test_MAE)}\")\n",
        "print(f\"R2: {round(test_R2, 4)}\")\n",
        "print(f\"RMSE: {round(test_RMSE, 4)}\")"
      ],
      "metadata": {
        "id": "HX-2pCSNnmdV",
        "colab": {
          "base_uri": "https://localhost:8080/"
        },
        "outputId": "e56714e3-d1b6-46d9-dbb5-75af9d1a0d6a"
      },
      "execution_count": null,
      "outputs": [
        {
          "output_type": "stream",
          "name": "stdout",
          "text": [
            "MAE: 14\n",
            "R2: 0.9111\n",
            "RMSE: 25.1562\n"
          ]
        }
      ]
    },
    {
      "cell_type": "code",
      "source": [],
      "metadata": {
        "id": "po5CAy2NzMji"
      },
      "execution_count": null,
      "outputs": []
    }
  ]
}