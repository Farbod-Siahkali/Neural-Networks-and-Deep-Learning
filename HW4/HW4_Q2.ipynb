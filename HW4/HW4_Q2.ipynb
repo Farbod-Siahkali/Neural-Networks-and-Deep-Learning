{
  "nbformat": 4,
  "nbformat_minor": 0,
  "metadata": {
    "colab": {
      "provenance": []
    },
    "kernelspec": {
      "name": "python3",
      "display_name": "Python 3"
    },
    "language_info": {
      "name": "python"
    },
    "accelerator": "GPU",
    "gpuClass": "standard"
  },
  "cells": [
    {
      "cell_type": "code",
      "execution_count": null,
      "metadata": {
        "colab": {
          "base_uri": "https://localhost:8080/"
        },
        "id": "YftlIo8SEfqx",
        "outputId": "6bf132b9-67e8-47be-8726-1bbbab4aaa7f"
      },
      "outputs": [
        {
          "output_type": "stream",
          "name": "stdout",
          "text": [
            "      unit_id                                      article_title  \\\n",
            "0  1914947530  Syria attack symptoms consistent with nerve ag...   \n",
            "1  1914947532  Homs governor says U.S. attack caused deaths b...   \n",
            "2  1914947533    Death toll from Aleppo bomb attack at least 112   \n",
            "3  1914947534        Aleppo bomb blast kills six Syrian state TV   \n",
            "4  1914947535  29 Syria Rebels Dead in Fighting for Key Alepp...   \n",
            "\n",
            "                                     article_content source       date  \\\n",
            "0  Wed 05 Apr 2017 Syria attack symptoms consiste...    nna   4/5/2017   \n",
            "1  Fri 07 Apr 2017 at 0914 Homs governor says U.S...    nna   4/7/2017   \n",
            "2  Sun 16 Apr 2017 Death toll from Aleppo bomb at...    nna  4/16/2017   \n",
            "3  Wed 19 Apr 2017 Aleppo bomb blast kills six Sy...    nna  4/19/2017   \n",
            "4  Sun 10 Jul 2016 29 Syria Rebels Dead in Fighti...    nna  7/10/2016   \n",
            "\n",
            "  location  labels  \n",
            "0    idlib       0  \n",
            "1     homs       0  \n",
            "2   aleppo       0  \n",
            "3   aleppo       0  \n",
            "4   aleppo       0  \n"
          ]
        }
      ],
      "source": [
        "import re\n",
        "import nltk\n",
        "import random\n",
        "import numpy as np\n",
        "import pandas as pd\n",
        "import seaborn as sn\n",
        "import tensorflow as tf\n",
        "import matplotlib.pyplot as plt\n",
        "from nltk.corpus import stopwords\n",
        "from nltk.stem.porter import PorterStemmer\n",
        "from sklearn.model_selection import train_test_split\n",
        "from sklearn.metrics import confusion_matrix, accuracy_score\n",
        "from tensorflow.keras.layers import Embedding\n",
        "from tensorflow.keras.layers import LSTM\n",
        "from tensorflow.keras.models import Sequential\n",
        "from tensorflow.keras.preprocessing.text import one_hot\n",
        "from tensorflow.keras.layers import Dense, Conv1D, MaxPooling1D\n",
        "from tensorflow.keras.preprocessing.sequence import pad_sequences\n",
        "from keras.optimizers import Adam\n",
        "from keras.callbacks import ModelCheckpoint\n",
        "from keras.models import Sequential, load_model\n",
        "\n",
        "data = pd.read_csv(\"/content/FA-KES-Dataset.csv\", encoding='latin1')\n",
        "print(data.head())"
      ]
    },
    {
      "cell_type": "code",
      "source": [
        "print(data.isnull().sum())\n",
        "X = data.drop(columns=['labels'])\n",
        "Y = data['labels']"
      ],
      "metadata": {
        "id": "0joMe3JdFEMt",
        "colab": {
          "base_uri": "https://localhost:8080/"
        },
        "outputId": "93f66382-86f3-4d8f-998a-2808b2cdf4d0"
      },
      "execution_count": null,
      "outputs": [
        {
          "output_type": "stream",
          "name": "stdout",
          "text": [
            "unit_id            0\n",
            "article_title      0\n",
            "article_content    0\n",
            "source             0\n",
            "date               0\n",
            "location           0\n",
            "labels             0\n",
            "dtype: int64\n"
          ]
        }
      ]
    },
    {
      "cell_type": "code",
      "source": [
        "voc_size = 5000\n",
        "messages = X.copy()\n",
        "messages.reset_index(inplace=True)\n",
        "nltk.download('stopwords')"
      ],
      "metadata": {
        "colab": {
          "base_uri": "https://localhost:8080/"
        },
        "id": "avKzzXjYFogW",
        "outputId": "dc10f81f-07e4-43a5-f6dc-9622d7a570ed"
      },
      "execution_count": null,
      "outputs": [
        {
          "output_type": "stream",
          "name": "stderr",
          "text": [
            "[nltk_data] Downloading package stopwords to /root/nltk_data...\n",
            "[nltk_data]   Package stopwords is already up-to-date!\n"
          ]
        },
        {
          "output_type": "execute_result",
          "data": {
            "text/plain": [
              "True"
            ]
          },
          "metadata": {},
          "execution_count": 3
        }
      ]
    },
    {
      "cell_type": "code",
      "source": [
        "ps = PorterStemmer()\n",
        "corpus = list()\n",
        "for i in range(0, len(messages)):\n",
        "  review = re.sub('[^a-zA-Z]',' ', messages['article_title'][i])\n",
        "  review = review.lower()\n",
        "  review = review.split()\n",
        "  review = [ps.stem(word) for word in review if not word in stopwords.words('english')]\n",
        "  review = ' '.join(review)\n",
        "  corpus.append(review)\n",
        "\n",
        "for i in (random.sample(corpus, 10)):\n",
        "  print(i)"
      ],
      "metadata": {
        "colab": {
          "base_uri": "https://localhost:8080/"
        },
        "id": "dRIek9AfF3aS",
        "outputId": "a246bfda-abdb-4753-fe33-6d6f72e69e9c"
      },
      "execution_count": null,
      "outputs": [
        {
          "output_type": "stream",
          "name": "stdout",
          "text": [
            "kill russian militari chopper shot syria\n",
            "air raid kill civilian east syria monitor\n",
            "terrorist shell syria aleppo al baath kill injur\n",
            "least dead suicid bomb hit damascu\n",
            "jihadist execut three syria rebel offic monitor\n",
            "syrian state tv say kill car bomb northern syria\n",
            "syria regim kill civilian hama airstrik\n",
            "civilian kill injur assad regim airstrik syria idlib\n",
            "air strike syrian hospit kill monitor group say daili sabah\n",
            "peopl kill other injur daesh car bomb eastern syria\n"
          ]
        }
      ]
    },
    {
      "cell_type": "markdown",
      "source": [
        "***WORD EMBEDDING***"
      ],
      "metadata": {
        "id": "LVkT57YjOCq6"
      }
    },
    {
      "cell_type": "code",
      "source": [
        "onehot_repr = [one_hot(words,voc_size)for words in corpus]\n",
        "for i in (random.sample(onehot_repr, 10)):\n",
        "  print(i)"
      ],
      "metadata": {
        "colab": {
          "base_uri": "https://localhost:8080/"
        },
        "id": "ULMCSvaxF4C7",
        "outputId": "387a5c20-7026-442a-fb57-2a8094d6ae13"
      },
      "execution_count": null,
      "outputs": [
        {
          "output_type": "stream",
          "name": "stdout",
          "text": [
            "[2798, 4277, 70, 2444, 726, 2946, 2093, 2489, 4214, 1040]\n",
            "[20, 3380, 4021, 4214, 3138, 1249, 3572, 3619]\n",
            "[4295, 443, 694, 1045, 57, 1052, 2201, 1202, 1080, 4934, 3987]\n",
            "[3867, 4496, 2616, 2676, 443, 694, 57, 618]\n",
            "[4159, 70, 2598, 3518, 4153, 3836, 3397, 2598, 4214]\n",
            "[525, 3879, 57, 3806, 4571, 2658, 1356, 4599, 2444, 4231]\n",
            "[1080, 2423, 443, 4419, 70, 4214]\n",
            "[1820, 692, 2195, 365, 57]\n",
            "[1080, 752, 4852, 4590, 3429, 468, 3322, 2328]\n",
            "[3016, 3452, 726, 57, 1820, 1964, 4590, 443, 3867, 4749]\n"
          ]
        }
      ]
    },
    {
      "cell_type": "code",
      "source": [
        "sent_length = 40\n",
        "embedded_docs = pad_sequences(onehot_repr, padding='pre', maxlen=sent_length)\n",
        "print(embedded_docs.shape)\n",
        "print(embedded_docs[0])"
      ],
      "metadata": {
        "colab": {
          "base_uri": "https://localhost:8080/"
        },
        "id": "JDn6S_PYGE3S",
        "outputId": "15ca1381-69fa-41fb-b735-b67b56da73b2"
      },
      "execution_count": null,
      "outputs": [
        {
          "output_type": "stream",
          "name": "stdout",
          "text": [
            "(804, 40)\n",
            "[   0    0    0    0    0    0    0    0    0    0    0    0    0    0\n",
            "    0    0    0    0    0    0    0    0    0    0    0    0    0    0\n",
            "    0    0    0    0    0   57  726 1572 3328 4635 3272 2079]\n"
          ]
        }
      ]
    },
    {
      "cell_type": "markdown",
      "source": [
        "***DEFINING BOTH MODELS***\n",
        "\n",
        "\n",
        "*   RNN\n",
        "*   CNN+RNN\n",
        "\n"
      ],
      "metadata": {
        "id": "p1nyW-O_MMk6"
      }
    },
    {
      "cell_type": "code",
      "source": [
        "embedding_vector_features = 100\n",
        "# hybrid model\n",
        "model = Sequential()\n",
        "model.add(Embedding(voc_size, embedding_vector_features, input_length=sent_length))\n",
        "model.add(Conv1D(128, 5, activation=\"relu\"))\n",
        "model.add(MaxPooling1D(2))\n",
        "model.add(LSTM(32))\n",
        "model.add(Dense(1,activation='sigmoid'))\n",
        "model.compile(loss='binary_crossentropy', optimizer=Adam(lr=0.01), metrics=['accuracy'])\n",
        "print(model.summary())\n",
        "\n",
        "#RNN model\n",
        "model_RNN = Sequential()\n",
        "model_RNN.add(Embedding(voc_size, embedding_vector_features, input_length=sent_length))\n",
        "model_RNN.add(LSTM(32))\n",
        "model_RNN.add(Dense(1,activation='sigmoid'))\n",
        "model_RNN.compile(loss='binary_crossentropy', optimizer=Adam(lr=0.01), metrics=['accuracy'])\n",
        "print(model_RNN.summary())"
      ],
      "metadata": {
        "colab": {
          "base_uri": "https://localhost:8080/"
        },
        "id": "REAWsd84GI-D",
        "outputId": "26223fd6-5825-4e26-a923-44955887c19c"
      },
      "execution_count": null,
      "outputs": [
        {
          "output_type": "stream",
          "name": "stdout",
          "text": [
            "Model: \"sequential\"\n",
            "_________________________________________________________________\n",
            " Layer (type)                Output Shape              Param #   \n",
            "=================================================================\n",
            " embedding (Embedding)       (None, 40, 100)           500000    \n",
            "                                                                 \n",
            " conv1d (Conv1D)             (None, 36, 128)           64128     \n",
            "                                                                 \n",
            " max_pooling1d (MaxPooling1D  (None, 18, 128)          0         \n",
            " )                                                               \n",
            "                                                                 \n",
            " lstm (LSTM)                 (None, 32)                20608     \n",
            "                                                                 \n",
            " dense (Dense)               (None, 1)                 33        \n",
            "                                                                 \n",
            "=================================================================\n",
            "Total params: 584,769\n",
            "Trainable params: 584,769\n",
            "Non-trainable params: 0\n",
            "_________________________________________________________________\n"
          ]
        },
        {
          "output_type": "stream",
          "name": "stderr",
          "text": [
            "/usr/local/lib/python3.8/dist-packages/keras/optimizers/optimizer_v2/adam.py:110: UserWarning: The `lr` argument is deprecated, use `learning_rate` instead.\n",
            "  super(Adam, self).__init__(name, **kwargs)\n"
          ]
        },
        {
          "output_type": "stream",
          "name": "stdout",
          "text": [
            "None\n",
            "Model: \"sequential_1\"\n",
            "_________________________________________________________________\n",
            " Layer (type)                Output Shape              Param #   \n",
            "=================================================================\n",
            " embedding_1 (Embedding)     (None, 40, 100)           500000    \n",
            "                                                                 \n",
            " lstm_1 (LSTM)               (None, 32)                17024     \n",
            "                                                                 \n",
            " dense_1 (Dense)             (None, 1)                 33        \n",
            "                                                                 \n",
            "=================================================================\n",
            "Total params: 517,057\n",
            "Trainable params: 517,057\n",
            "Non-trainable params: 0\n",
            "_________________________________________________________________\n",
            "None\n"
          ]
        }
      ]
    },
    {
      "cell_type": "markdown",
      "source": [
        "***TRAIN TEST SPLITTING***"
      ],
      "metadata": {
        "id": "csqsU13HN1fD"
      }
    },
    {
      "cell_type": "code",
      "source": [
        "print(embedded_docs.shape)\n",
        "print(Y.shape)\n",
        "\n",
        "X_final = np.array(embedded_docs)\n",
        "Y_final = np.array(Y)\n",
        "X_final.shape , Y_final.shape\n",
        "\n",
        "x_train, x_test, y_train, y_test = train_test_split(X_final, Y_final, test_size=0.33, random_state=42)"
      ],
      "metadata": {
        "colab": {
          "base_uri": "https://localhost:8080/"
        },
        "id": "vzKxWfnJGK3b",
        "outputId": "23a64f55-1499-4eec-9b7d-bd3967a9617a"
      },
      "execution_count": null,
      "outputs": [
        {
          "output_type": "stream",
          "name": "stdout",
          "text": [
            "(804, 40)\n",
            "(804,)\n"
          ]
        }
      ]
    },
    {
      "cell_type": "markdown",
      "source": [
        "***HYBRID CNN+RNN TRAINING***"
      ],
      "metadata": {
        "id": "45tBQUUuMF4s"
      }
    },
    {
      "cell_type": "code",
      "source": [
        "filepath = 'my_best_model.hdf5'\n",
        "checkpoint = ModelCheckpoint(filepath=filepath, \n",
        "                             monitor='val_accuracy',\n",
        "                             verbose=1, \n",
        "                             save_best_only=True,\n",
        "                             mode='max')\n",
        "\n",
        "callbacks = [checkpoint]\n",
        "history = model.fit(x_train, y_train, validation_data=(x_test,y_test), epochs=20, callbacks=callbacks, batch_size=128)"
      ],
      "metadata": {
        "colab": {
          "base_uri": "https://localhost:8080/"
        },
        "id": "RSiw5-tqGWDj",
        "outputId": "8cbd0eaa-420b-4435-840d-7936366ea1ed"
      },
      "execution_count": null,
      "outputs": [
        {
          "output_type": "stream",
          "name": "stdout",
          "text": [
            "Epoch 1/20\n",
            "5/5 [==============================] - ETA: 0s - loss: 0.7029 - accuracy: 0.5074 \n",
            "Epoch 1: val_accuracy improved from -inf to 0.55639, saving model to my_best_model.hdf5\n",
            "5/5 [==============================] - 7s 327ms/step - loss: 0.7029 - accuracy: 0.5074 - val_loss: 0.6874 - val_accuracy: 0.5564\n",
            "Epoch 2/20\n",
            "4/5 [=======================>......] - ETA: 0s - loss: 0.6632 - accuracy: 0.5586\n",
            "Epoch 2: val_accuracy did not improve from 0.55639\n",
            "5/5 [==============================] - 0s 30ms/step - loss: 0.6592 - accuracy: 0.5651 - val_loss: 0.7462 - val_accuracy: 0.5301\n",
            "Epoch 3/20\n",
            "1/5 [=====>........................] - ETA: 0s - loss: 0.6111 - accuracy: 0.6797\n",
            "Epoch 3: val_accuracy did not improve from 0.55639\n",
            "5/5 [==============================] - 0s 22ms/step - loss: 0.5046 - accuracy: 0.7677 - val_loss: 1.0442 - val_accuracy: 0.4624\n",
            "Epoch 4/20\n",
            "1/5 [=====>........................] - ETA: 0s - loss: 0.3442 - accuracy: 0.8516\n",
            "Epoch 4: val_accuracy did not improve from 0.55639\n",
            "5/5 [==============================] - 0s 21ms/step - loss: 0.3993 - accuracy: 0.8513 - val_loss: 1.3712 - val_accuracy: 0.4662\n",
            "Epoch 5/20\n",
            "1/5 [=====>........................] - ETA: 0s - loss: 0.2638 - accuracy: 0.8750\n",
            "Epoch 5: val_accuracy did not improve from 0.55639\n",
            "5/5 [==============================] - 0s 20ms/step - loss: 0.2761 - accuracy: 0.8755 - val_loss: 1.2610 - val_accuracy: 0.4962\n",
            "Epoch 6/20\n",
            "1/5 [=====>........................] - ETA: 0s - loss: 0.2231 - accuracy: 0.9062\n",
            "Epoch 6: val_accuracy did not improve from 0.55639\n",
            "5/5 [==============================] - 0s 20ms/step - loss: 0.2545 - accuracy: 0.8978 - val_loss: 1.2924 - val_accuracy: 0.4812\n",
            "Epoch 7/20\n",
            "1/5 [=====>........................] - ETA: 0s - loss: 0.1499 - accuracy: 0.9453\n",
            "Epoch 7: val_accuracy did not improve from 0.55639\n",
            "5/5 [==============================] - 0s 18ms/step - loss: 0.1952 - accuracy: 0.9238 - val_loss: 1.4562 - val_accuracy: 0.5000\n",
            "Epoch 8/20\n",
            "1/5 [=====>........................] - ETA: 0s - loss: 0.1108 - accuracy: 0.9609\n",
            "Epoch 8: val_accuracy did not improve from 0.55639\n",
            "5/5 [==============================] - 0s 32ms/step - loss: 0.1287 - accuracy: 0.9480 - val_loss: 1.6941 - val_accuracy: 0.4925\n",
            "Epoch 9/20\n",
            "1/5 [=====>........................] - ETA: 0s - loss: 0.0902 - accuracy: 0.9531\n",
            "Epoch 9: val_accuracy did not improve from 0.55639\n",
            "5/5 [==============================] - 0s 22ms/step - loss: 0.0954 - accuracy: 0.9517 - val_loss: 2.0113 - val_accuracy: 0.4925\n",
            "Epoch 10/20\n",
            "1/5 [=====>........................] - ETA: 0s - loss: 0.0860 - accuracy: 0.9688\n",
            "Epoch 10: val_accuracy did not improve from 0.55639\n",
            "5/5 [==============================] - 0s 23ms/step - loss: 0.0752 - accuracy: 0.9684 - val_loss: 2.2122 - val_accuracy: 0.4699\n",
            "Epoch 11/20\n",
            "1/5 [=====>........................] - ETA: 0s - loss: 0.0576 - accuracy: 0.9766\n",
            "Epoch 11: val_accuracy did not improve from 0.55639\n",
            "5/5 [==============================] - 0s 22ms/step - loss: 0.0620 - accuracy: 0.9721 - val_loss: 2.3527 - val_accuracy: 0.4699\n",
            "Epoch 12/20\n",
            "1/5 [=====>........................] - ETA: 0s - loss: 0.0682 - accuracy: 0.9688\n",
            "Epoch 12: val_accuracy did not improve from 0.55639\n",
            "5/5 [==============================] - 0s 39ms/step - loss: 0.0665 - accuracy: 0.9684 - val_loss: 2.4352 - val_accuracy: 0.4887\n",
            "Epoch 13/20\n",
            "1/5 [=====>........................] - ETA: 0s - loss: 0.0413 - accuracy: 0.9766\n",
            "Epoch 13: val_accuracy did not improve from 0.55639\n",
            "5/5 [==============================] - 0s 26ms/step - loss: 0.0489 - accuracy: 0.9758 - val_loss: 2.5972 - val_accuracy: 0.4850\n",
            "Epoch 14/20\n",
            "4/5 [=======================>......] - ETA: 0s - loss: 0.0513 - accuracy: 0.9727\n",
            "Epoch 14: val_accuracy did not improve from 0.55639\n",
            "5/5 [==============================] - 0s 29ms/step - loss: 0.0529 - accuracy: 0.9721 - val_loss: 2.6045 - val_accuracy: 0.4850\n",
            "Epoch 15/20\n",
            "1/5 [=====>........................] - ETA: 0s - loss: 0.0587 - accuracy: 0.9688\n",
            "Epoch 15: val_accuracy did not improve from 0.55639\n",
            "5/5 [==============================] - 0s 36ms/step - loss: 0.0499 - accuracy: 0.9740 - val_loss: 2.5110 - val_accuracy: 0.4887\n",
            "Epoch 16/20\n",
            "1/5 [=====>........................] - ETA: 0s - loss: 0.0900 - accuracy: 0.9453\n",
            "Epoch 16: val_accuracy did not improve from 0.55639\n",
            "5/5 [==============================] - 0s 25ms/step - loss: 0.0577 - accuracy: 0.9721 - val_loss: 2.5970 - val_accuracy: 0.5038\n",
            "Epoch 17/20\n",
            "4/5 [=======================>......] - ETA: 0s - loss: 0.0481 - accuracy: 0.9727\n",
            "Epoch 17: val_accuracy did not improve from 0.55639\n",
            "5/5 [==============================] - 0s 29ms/step - loss: 0.0464 - accuracy: 0.9740 - val_loss: 2.7013 - val_accuracy: 0.5000\n",
            "Epoch 18/20\n",
            "1/5 [=====>........................] - ETA: 0s - loss: 0.0379 - accuracy: 0.9766\n",
            "Epoch 18: val_accuracy did not improve from 0.55639\n",
            "5/5 [==============================] - 0s 22ms/step - loss: 0.0428 - accuracy: 0.9758 - val_loss: 2.7751 - val_accuracy: 0.5000\n",
            "Epoch 19/20\n",
            "1/5 [=====>........................] - ETA: 0s - loss: 0.0311 - accuracy: 0.9844\n",
            "Epoch 19: val_accuracy did not improve from 0.55639\n",
            "5/5 [==============================] - 0s 23ms/step - loss: 0.0378 - accuracy: 0.9758 - val_loss: 2.8390 - val_accuracy: 0.5113\n",
            "Epoch 20/20\n",
            "1/5 [=====>........................] - ETA: 0s - loss: 0.0221 - accuracy: 0.9844\n",
            "Epoch 20: val_accuracy did not improve from 0.55639\n",
            "5/5 [==============================] - 0s 22ms/step - loss: 0.0349 - accuracy: 0.9777 - val_loss: 2.8842 - val_accuracy: 0.5075\n"
          ]
        }
      ]
    },
    {
      "cell_type": "code",
      "source": [
        "plt.plot(history.history['accuracy'])\n",
        "plt.plot(history.history['val_accuracy'])\n",
        "plt.title('Hybrid Model Accuracy')\n",
        "plt.ylabel('Accuracy')\n",
        "plt.xlabel('Epochs')\n",
        "plt.legend(['Train', 'Validation'], loc='upper left')\n",
        "plt.show()\n",
        "\n",
        "plt.figure()\n",
        "plt.plot(history.history['loss'])\n",
        "plt.plot(history.history['val_loss'])\n",
        "plt.title('Hybrid Model Loss')\n",
        "plt.ylabel('Loss')\n",
        "plt.xlabel('Epochs')\n",
        "plt.legend(['Train', 'Validation'], loc='upper left')\n",
        "plt.show()\n",
        "\n",
        "model = load_model('/content/my_best_model.hdf5')\n",
        "preds = model.predict(x_test)\n",
        "y_pred = list()\n",
        "\n",
        "for p in preds:\n",
        "  y_pred.append(1 if p>=0.5 else 0)\n",
        "\n",
        "Y_pred = np.array(y_pred)\n",
        "df_cm = confusion_matrix(y_test, Y_pred)\n",
        "plt.figure(figsize = (7,5))\n",
        "sn.heatmap(df_cm, annot=True)\n",
        "\n",
        "print('Accuracy: ', accuracy_score(y_test, Y_pred)*100)"
      ],
      "metadata": {
        "id": "RO1PzqOAIVrr",
        "colab": {
          "base_uri": "https://localhost:8080/",
          "height": 911
        },
        "outputId": "1d460215-db70-4816-d093-ac6f2927472d"
      },
      "execution_count": null,
      "outputs": [
        {
          "output_type": "display_data",
          "data": {
            "text/plain": [
              "<Figure size 432x288 with 1 Axes>"
            ],
            "image/png": "[encoded data removed]"
          },
          "metadata": {
            "needs_background": "light"
          }
        },
        {
          "output_type": "display_data",
          "data": {
            "text/plain": [
              "<Figure size 432x288 with 1 Axes>"
            ],
            "image/png": "[encoded data removed]"
          },
          "metadata": {
            "needs_background": "light"
          }
        },
        {
          "output_type": "stream",
          "name": "stdout",
          "text": [
            "9/9 [==============================] - 1s 5ms/step\n",
            "Accuracy:  55.639097744360896\n"
          ]
        },
        {
          "output_type": "display_data",
          "data": {
            "text/plain": [
              "<Figure size 504x360 with 2 Axes>"
            ],
            "image/png": "[encoded data removed]"
          },
          "metadata": {
            "needs_background": "light"
          }
        }
      ]
    },
    {
      "cell_type": "code",
      "source": [
        "from sklearn.metrics import classification_report\n",
        "print(classification_report(y_test, Y_pred, zero_division=0))"
      ],
      "metadata": {
        "colab": {
          "base_uri": "https://localhost:8080/"
        },
        "id": "nsWi54Kvnyzb",
        "outputId": "f30e59b8-da21-4a38-8c25-68a7a73e1e2c"
      },
      "execution_count": null,
      "outputs": [
        {
          "output_type": "stream",
          "name": "stdout",
          "text": [
            "              precision    recall  f1-score   support\n",
            "\n",
            "           0       0.00      0.00      0.00       118\n",
            "           1       0.56      1.00      0.71       148\n",
            "\n",
            "    accuracy                           0.56       266\n",
            "   macro avg       0.28      0.50      0.36       266\n",
            "weighted avg       0.31      0.56      0.40       266\n",
            "\n"
          ]
        }
      ]
    },
    {
      "cell_type": "markdown",
      "source": [
        "***RNN TRAINING***"
      ],
      "metadata": {
        "id": "loJL4uqfL57m"
      }
    },
    {
      "cell_type": "code",
      "source": [
        "filepath = 'my_best_model_RNN.hdf5'\n",
        "checkpoint = ModelCheckpoint(filepath=filepath, \n",
        "                             monitor='val_accuracy',\n",
        "                             verbose=1, \n",
        "                             save_best_only=True,\n",
        "                             mode='max')\n",
        "\n",
        "callbacks = [checkpoint]\n",
        "history_RNN = model_RNN.fit(x_train, y_train, validation_data=(x_test,y_test), epochs=20, callbacks=callbacks, batch_size=128)"
      ],
      "metadata": {
        "colab": {
          "base_uri": "https://localhost:8080/"
        },
        "id": "8BNpLsmKL9_Y",
        "outputId": "e648a6bf-be58-438b-8d4e-d6eaa6a82ef0"
      },
      "execution_count": null,
      "outputs": [
        {
          "output_type": "stream",
          "name": "stdout",
          "text": [
            "Epoch 1/20\n",
            "5/5 [==============================] - ETA: 0s - loss: 0.6955 - accuracy: 0.4740 \n",
            "Epoch 1: val_accuracy improved from -inf to 0.48872, saving model to my_best_model_RNN.hdf5\n",
            "5/5 [==============================] - 5s 235ms/step - loss: 0.6955 - accuracy: 0.4740 - val_loss: 0.6927 - val_accuracy: 0.4887\n",
            "Epoch 2/20\n",
            "5/5 [==============================] - ETA: 0s - loss: 0.6582 - accuracy: 0.7249\n",
            "Epoch 2: val_accuracy improved from 0.48872 to 0.51504, saving model to my_best_model_RNN.hdf5\n",
            "5/5 [==============================] - 0s 72ms/step - loss: 0.6582 - accuracy: 0.7249 - val_loss: 0.6960 - val_accuracy: 0.5150\n",
            "Epoch 3/20\n",
            "1/5 [=====>........................] - ETA: 0s - loss: 0.6093 - accuracy: 0.7734\n",
            "Epoch 3: val_accuracy did not improve from 0.51504\n",
            "5/5 [==============================] - 0s 22ms/step - loss: 0.5640 - accuracy: 0.7509 - val_loss: 0.8359 - val_accuracy: 0.4812\n",
            "Epoch 4/20\n",
            "1/5 [=====>........................] - ETA: 0s - loss: 0.4500 - accuracy: 0.8125\n",
            "Epoch 4: val_accuracy improved from 0.51504 to 0.51880, saving model to my_best_model_RNN.hdf5\n",
            "5/5 [==============================] - 0s 22ms/step - loss: 0.4643 - accuracy: 0.7862 - val_loss: 0.9142 - val_accuracy: 0.5188\n",
            "Epoch 5/20\n",
            "1/5 [=====>........................] - ETA: 0s - loss: 0.3842 - accuracy: 0.8047\n",
            "Epoch 5: val_accuracy did not improve from 0.51880\n",
            "5/5 [==============================] - 0s 20ms/step - loss: 0.3965 - accuracy: 0.8011 - val_loss: 1.0262 - val_accuracy: 0.5075\n",
            "Epoch 6/20\n",
            "1/5 [=====>........................] - ETA: 0s - loss: 0.3501 - accuracy: 0.8594\n",
            "Epoch 6: val_accuracy did not improve from 0.51880\n",
            "5/5 [==============================] - 0s 48ms/step - loss: 0.3578 - accuracy: 0.8457 - val_loss: 1.1087 - val_accuracy: 0.4662\n",
            "Epoch 7/20\n",
            "1/5 [=====>........................] - ETA: 0s - loss: 0.4144 - accuracy: 0.8125\n",
            "Epoch 7: val_accuracy did not improve from 0.51880\n",
            "5/5 [==============================] - 0s 40ms/step - loss: 0.3081 - accuracy: 0.8643 - val_loss: 1.3511 - val_accuracy: 0.4737\n",
            "Epoch 8/20\n",
            "5/5 [==============================] - ETA: 0s - loss: 0.2775 - accuracy: 0.8755\n",
            "Epoch 8: val_accuracy did not improve from 0.51880\n",
            "5/5 [==============================] - 0s 37ms/step - loss: 0.2775 - accuracy: 0.8755 - val_loss: 1.2566 - val_accuracy: 0.4962\n",
            "Epoch 9/20\n",
            "1/5 [=====>........................] - ETA: 0s - loss: 0.2179 - accuracy: 0.9141\n",
            "Epoch 9: val_accuracy did not improve from 0.51880\n",
            "5/5 [==============================] - 0s 29ms/step - loss: 0.2750 - accuracy: 0.8829 - val_loss: 1.2235 - val_accuracy: 0.4699\n",
            "Epoch 10/20\n",
            "5/5 [==============================] - ETA: 0s - loss: 0.2196 - accuracy: 0.9089\n",
            "Epoch 10: val_accuracy did not improve from 0.51880\n",
            "5/5 [==============================] - 0s 30ms/step - loss: 0.2196 - accuracy: 0.9089 - val_loss: 1.3425 - val_accuracy: 0.5075\n",
            "Epoch 11/20\n",
            "1/5 [=====>........................] - ETA: 0s - loss: 0.2366 - accuracy: 0.8984\n",
            "Epoch 11: val_accuracy did not improve from 0.51880\n",
            "5/5 [==============================] - 0s 38ms/step - loss: 0.2265 - accuracy: 0.9033 - val_loss: 1.3931 - val_accuracy: 0.5188\n",
            "Epoch 12/20\n",
            "1/5 [=====>........................] - ETA: 0s - loss: 0.1556 - accuracy: 0.9453\n",
            "Epoch 12: val_accuracy did not improve from 0.51880\n",
            "5/5 [==============================] - 0s 20ms/step - loss: 0.2112 - accuracy: 0.9052 - val_loss: 1.3821 - val_accuracy: 0.5188\n",
            "Epoch 13/20\n",
            "1/5 [=====>........................] - ETA: 0s - loss: 0.1698 - accuracy: 0.9219\n",
            "Epoch 13: val_accuracy did not improve from 0.51880\n",
            "5/5 [==============================] - 0s 32ms/step - loss: 0.2009 - accuracy: 0.9052 - val_loss: 1.5070 - val_accuracy: 0.5075\n",
            "Epoch 14/20\n",
            "5/5 [==============================] - ETA: 0s - loss: 0.1501 - accuracy: 0.9294\n",
            "Epoch 14: val_accuracy did not improve from 0.51880\n",
            "5/5 [==============================] - 0s 25ms/step - loss: 0.1501 - accuracy: 0.9294 - val_loss: 1.7913 - val_accuracy: 0.5000\n",
            "Epoch 15/20\n",
            "1/5 [=====>........................] - ETA: 0s - loss: 0.1194 - accuracy: 0.9531\n",
            "Epoch 15: val_accuracy did not improve from 0.51880\n",
            "5/5 [==============================] - 0s 22ms/step - loss: 0.1417 - accuracy: 0.9405 - val_loss: 1.7238 - val_accuracy: 0.5000\n",
            "Epoch 16/20\n",
            "4/5 [=======================>......] - ETA: 0s - loss: 0.1148 - accuracy: 0.9551\n",
            "Epoch 16: val_accuracy did not improve from 0.51880\n",
            "5/5 [==============================] - 0s 36ms/step - loss: 0.1126 - accuracy: 0.9572 - val_loss: 1.8978 - val_accuracy: 0.4962\n",
            "Epoch 17/20\n",
            "5/5 [==============================] - ETA: 0s - loss: 0.1247 - accuracy: 0.9498\n",
            "Epoch 17: val_accuracy did not improve from 0.51880\n",
            "5/5 [==============================] - 0s 32ms/step - loss: 0.1247 - accuracy: 0.9498 - val_loss: 2.0284 - val_accuracy: 0.4774\n",
            "Epoch 18/20\n",
            "5/5 [==============================] - ETA: 0s - loss: 0.1035 - accuracy: 0.9535\n",
            "Epoch 18: val_accuracy did not improve from 0.51880\n",
            "5/5 [==============================] - 0s 25ms/step - loss: 0.1035 - accuracy: 0.9535 - val_loss: 2.0098 - val_accuracy: 0.4887\n",
            "Epoch 19/20\n",
            "4/5 [=======================>......] - ETA: 0s - loss: 0.0821 - accuracy: 0.9668\n",
            "Epoch 19: val_accuracy did not improve from 0.51880\n",
            "5/5 [==============================] - 0s 44ms/step - loss: 0.0792 - accuracy: 0.9684 - val_loss: 2.2543 - val_accuracy: 0.4925\n",
            "Epoch 20/20\n",
            "1/5 [=====>........................] - ETA: 0s - loss: 0.1120 - accuracy: 0.9375\n",
            "Epoch 20: val_accuracy did not improve from 0.51880\n",
            "5/5 [==============================] - 0s 17ms/step - loss: 0.0769 - accuracy: 0.9684 - val_loss: 2.3812 - val_accuracy: 0.5075\n"
          ]
        }
      ]
    },
    {
      "cell_type": "code",
      "source": [
        "plt.plot(history_RNN.history['accuracy'])\n",
        "plt.plot(history_RNN.history['val_accuracy'])\n",
        "plt.title('RNN Model Accuracy')\n",
        "plt.ylabel('Accuracy')\n",
        "plt.xlabel('Epochs')\n",
        "plt.legend(['Train', 'Validation'], loc='upper left')\n",
        "plt.show()\n",
        "\n",
        "plt.figure()\n",
        "plt.plot(history_RNN.history['loss'])\n",
        "plt.plot(history_RNN.history['val_loss'])\n",
        "plt.title('RNN Model Loss')\n",
        "plt.ylabel('Loss')\n",
        "plt.xlabel('Epochs')\n",
        "plt.legend(['Train', 'Validation'], loc='upper left')\n",
        "plt.show()\n",
        "\n",
        "model = load_model('/content/my_best_model_RNN.hdf5')\n",
        "preds = model.predict(x_test)\n",
        "y_pred = list()\n",
        "\n",
        "for p in preds:\n",
        "  y_pred.append(1 if p>=0.5 else 0)\n",
        "\n",
        "Y_pred = np.array(y_pred)\n",
        "df_cm = confusion_matrix(y_test, Y_pred)\n",
        "plt.figure(figsize = (7,5))\n",
        "sn.heatmap(df_cm, annot=True)\n",
        "\n",
        "print('Accuracy: ', accuracy_score(y_test, Y_pred)*100)"
      ],
      "metadata": {
        "colab": {
          "base_uri": "https://localhost:8080/",
          "height": 911
        },
        "id": "rrK7MqdsMbPB",
        "outputId": "3cd812ae-6a05-4f01-e3ac-27338c26aca9"
      },
      "execution_count": null,
      "outputs": [
        {
          "output_type": "display_data",
          "data": {
            "text/plain": [
              "<Figure size 432x288 with 1 Axes>"
            ],
            "image/png": "[encoded data removed]"
          },
          "metadata": {
            "needs_background": "light"
          }
        },
        {
          "output_type": "display_data",
          "data": {
            "text/plain": [
              "<Figure size 432x288 with 1 Axes>"
            ],
            "image/png": "[encoded data removed]"
          },
          "metadata": {
            "needs_background": "light"
          }
        },
        {
          "output_type": "stream",
          "name": "stdout",
          "text": [
            "9/9 [==============================] - 1s 3ms/step\n",
            "Accuracy:  51.8796992481203\n"
          ]
        },
        {
          "output_type": "display_data",
          "data": {
            "text/plain": [
              "<Figure size 504x360 with 2 Axes>"
            ],
            "image/png": "[encoded data removed]"
          },
          "metadata": {
            "needs_background": "light"
          }
        }
      ]
    },
    {
      "cell_type": "code",
      "source": [
        "from sklearn.metrics import classification_report\n",
        "print(classification_report(y_test, Y_pred, zero_division=0))"
      ],
      "metadata": {
        "colab": {
          "base_uri": "https://localhost:8080/"
        },
        "id": "xc0EYyzuMjxV",
        "outputId": "df5447a3-44e3-4508-897a-436a2c870b92"
      },
      "execution_count": null,
      "outputs": [
        {
          "output_type": "stream",
          "name": "stdout",
          "text": [
            "              precision    recall  f1-score   support\n",
            "\n",
            "           0       0.47      0.60      0.53       118\n",
            "           1       0.59      0.45      0.51       148\n",
            "\n",
            "    accuracy                           0.52       266\n",
            "   macro avg       0.53      0.53      0.52       266\n",
            "weighted avg       0.53      0.52      0.52       266\n",
            "\n"
          ]
        }
      ]
    }
  ]
}